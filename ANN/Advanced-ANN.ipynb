{
 "cells": [
  {
   "cell_type": "markdown",
   "metadata": {
    "colab_type": "text",
    "id": "VUUkgLwZBxxG"
   },
   "source": [
    "# Advanced MLP\n",
    "- Advanced techniques for training neural networks\n",
    "    - Weight Initialization\n",
    "    - Nonlinearity (Activation function)\n",
    "    - Optimizers\n",
    "    - Batch Normalization\n",
    "    - Dropout (Regularization)\n",
    "    - Model Ensemble"
   ]
  },
  {
   "cell_type": "code",
   "execution_count": 1,
   "metadata": {
    "colab": {
     "base_uri": "https://localhost:8080/",
     "height": 84
    },
    "colab_type": "code",
    "executionInfo": {
     "elapsed": 3671,
     "status": "ok",
     "timestamp": 1581135671220,
     "user": {
      "displayName": "imarticus ml",
      "photoUrl": "",
      "userId": "13268030857581370634"
     },
     "user_tz": -330
    },
    "id": "0FmL2ZHuBxxP",
    "outputId": "a2f852ad-0b7d-4937-c2fe-7ee5df578912"
   },
   "outputs": [
    {
     "name": "stderr",
     "output_type": "stream",
     "text": [
      "Using TensorFlow backend.\n"
     ]
    }
   ],
   "source": [
    "import matplotlib.pyplot as plt\n",
    "\n",
    "from sklearn.model_selection import train_test_split\n",
    "from keras.datasets import mnist\n",
    "from keras.models import Sequential\n",
    "from keras.utils.np_utils import to_categorical"
   ]
  },
  {
   "cell_type": "markdown",
   "metadata": {
    "colab_type": "text",
    "id": "PxvVrJUZBxxn"
   },
   "source": [
    "## Load Dataset\n",
    "- MNIST dataset\n",
    "- source: http://yann.lecun.com/exdb/mnist/"
   ]
  },
  {
   "cell_type": "code",
   "execution_count": 2,
   "metadata": {
    "colab": {
     "base_uri": "https://localhost:8080/",
     "height": 54
    },
    "colab_type": "code",
    "executionInfo": {
     "elapsed": 2761,
     "status": "ok",
     "timestamp": 1581135691319,
     "user": {
      "displayName": "imarticus ml",
      "photoUrl": "",
      "userId": "13268030857581370634"
     },
     "user_tz": -330
    },
    "id": "Zt4gIk1OBxxq",
    "outputId": "31e543a3-0e88-43c8-9dcd-65dd8a84b98c"
   },
   "outputs": [],
   "source": [
    "(X_train, y_train), (X_test, y_test) = mnist.load_data()"
   ]
  },
  {
   "cell_type": "code",
   "execution_count": 3,
   "metadata": {
    "colab": {
     "base_uri": "https://localhost:8080/",
     "height": 284
    },
    "colab_type": "code",
    "executionInfo": {
     "elapsed": 952,
     "status": "ok",
     "timestamp": 1581135703792,
     "user": {
      "displayName": "imarticus ml",
      "photoUrl": "",
      "userId": "13268030857581370634"
     },
     "user_tz": -330
    },
    "id": "JCVV9SgDBxxz",
    "outputId": "4f85aa79-f139-4090-c237-0439680e4d94"
   },
   "outputs": [
    {
     "data": {
      "image/png": "[encoded data removed]",
      "text/plain": [
       "<Figure size 432x288 with 1 Axes>"
      ]
     },
     "metadata": {
      "needs_background": "light"
     },
     "output_type": "display_data"
    },
    {
     "name": "stdout",
     "output_type": "stream",
     "text": [
      "Label:  5\n"
     ]
    }
   ],
   "source": [
    "plt.imshow(X_train[0])    # show first number in the dataset\n",
    "plt.show()\n",
    "print('Label: ', y_train[0])"
   ]
  },
  {
   "cell_type": "code",
   "execution_count": 4,
   "metadata": {
    "colab": {
     "base_uri": "https://localhost:8080/",
     "height": 284
    },
    "colab_type": "code",
    "executionInfo": {
     "elapsed": 954,
     "status": "ok",
     "timestamp": 1581135713174,
     "user": {
      "displayName": "imarticus ml",
      "photoUrl": "",
      "userId": "13268030857581370634"
     },
     "user_tz": -330
    },
    "id": "GxDmJIKCBxx7",
    "outputId": "1f748b21-6450-41e2-ef4e-caf006778574"
   },
   "outputs": [
    {
     "data": {
      "image/png": "[encoded data removed]",
      "text/plain": [
       "<Figure size 432x288 with 1 Axes>"
      ]
     },
     "metadata": {
      "needs_background": "light"
     },
     "output_type": "display_data"
    },
    {
     "name": "stdout",
     "output_type": "stream",
     "text": [
      "Label:  7\n"
     ]
    }
   ],
   "source": [
    "plt.imshow(X_test[0])    # show first number in the dataset\n",
    "plt.show()\n",
    "print('Label: ', y_test[0])"
   ]
  },
  {
   "cell_type": "code",
   "execution_count": 5,
   "metadata": {
    "colab": {
     "base_uri": "https://localhost:8080/",
     "height": 36
    },
    "colab_type": "code",
    "executionInfo": {
     "elapsed": 908,
     "status": "ok",
     "timestamp": 1581135720955,
     "user": {
      "displayName": "imarticus ml",
      "photoUrl": "",
      "userId": "13268030857581370634"
     },
     "user_tz": -330
    },
    "id": "Z9UosRRrBxyF",
    "outputId": "339ae17f-20e4-46a1-9415-a034bb452e48"
   },
   "outputs": [
    {
     "data": {
      "text/plain": [
       "(60000, 28, 28)"
      ]
     },
     "execution_count": 5,
     "metadata": {},
     "output_type": "execute_result"
    }
   ],
   "source": [
    "X_train.shape"
   ]
  },
  {
   "cell_type": "code",
   "execution_count": 6,
   "metadata": {
    "colab": {},
    "colab_type": "code",
    "id": "K3UCLTaBBxyO"
   },
   "outputs": [],
   "source": [
    "# reshaping X data: (n, 28, 28) => (n, 784)\n",
    "X_train = X_train.reshape((X_train.shape[0], -1))\n",
    "X_test = X_test.reshape((X_test.shape[0], -1))"
   ]
  },
  {
   "cell_type": "code",
   "execution_count": 7,
   "metadata": {
    "colab": {
     "base_uri": "https://localhost:8080/",
     "height": 36
    },
    "colab_type": "code",
    "executionInfo": {
     "elapsed": 906,
     "status": "ok",
     "timestamp": 1581135733418,
     "user": {
      "displayName": "imarticus ml",
      "photoUrl": "",
      "userId": "13268030857581370634"
     },
     "user_tz": -330
    },
    "id": "qoYhzeSMBxyX",
    "outputId": "4f9e5b50-5b04-4164-e875-579aecc01c4f"
   },
   "outputs": [
    {
     "data": {
      "text/plain": [
       "(60000, 784)"
      ]
     },
     "execution_count": 7,
     "metadata": {},
     "output_type": "execute_result"
    }
   ],
   "source": [
    "X_train.shape"
   ]
  },
  {
   "cell_type": "code",
   "execution_count": 8,
   "metadata": {
    "colab": {},
    "colab_type": "code",
    "id": "BAKh2VDrBxyg"
   },
   "outputs": [],
   "source": [
    "# use only 33% of training data to expedite the training process\n",
    "X_train, _ , y_train, _ = train_test_split(X_train, y_train, test_size = 0.67, random_state = 7)"
   ]
  },
  {
   "cell_type": "code",
   "execution_count": 9,
   "metadata": {
    "colab": {},
    "colab_type": "code",
    "id": "Auw6b4M3Bxyq"
   },
   "outputs": [],
   "source": [
    "# converting y data into categorical (one-hot encoding)\n",
    "y_train = to_categorical(y_train)\n",
    "y_test = to_categorical(y_test)"
   ]
  },
  {
   "cell_type": "code",
   "execution_count": 10,
   "metadata": {
    "colab": {
     "base_uri": "https://localhost:8080/",
     "height": 36
    },
    "colab_type": "code",
    "executionInfo": {
     "elapsed": 870,
     "status": "ok",
     "timestamp": 1581135753378,
     "user": {
      "displayName": "imarticus ml",
      "photoUrl": "",
      "userId": "13268030857581370634"
     },
     "user_tz": -330
    },
    "id": "ZmBkDWnUBxyy",
    "outputId": "39cdfb86-5730-48d9-8091-d78caf1f2c07"
   },
   "outputs": [
    {
     "name": "stdout",
     "output_type": "stream",
     "text": [
      "(19800, 784) (10000, 784) (19800, 10) (10000, 10)\n"
     ]
    }
   ],
   "source": [
    "print(X_train.shape, X_test.shape, y_train.shape, y_test.shape)"
   ]
  },
  {
   "cell_type": "markdown",
   "metadata": {
    "colab_type": "text",
    "id": "zWpkXe6OBxy_"
   },
   "source": [
    "## Basic MLP model\n",
    "- Naive MLP model without any alterations"
   ]
  },
  {
   "cell_type": "code",
   "execution_count": 11,
   "metadata": {
    "colab": {},
    "colab_type": "code",
    "id": "QYICdPkJBxzC"
   },
   "outputs": [],
   "source": [
    "from keras.models import Sequential\n",
    "from keras.layers import Activation, Dense\n",
    "from keras import optimizers"
   ]
  },
  {
   "cell_type": "code",
   "execution_count": 38,
   "metadata": {
    "colab": {
     "base_uri": "https://localhost:8080/",
     "height": 74
    },
    "colab_type": "code",
    "executionInfo": {
     "elapsed": 893,
     "status": "ok",
     "timestamp": 1581135773419,
     "user": {
      "displayName": "imarticus ml",
      "photoUrl": "",
      "userId": "13268030857581370634"
     },
     "user_tz": -330
    },
    "id": "R_ZknQqoBxzM",
    "outputId": "def28b37-b557-4443-9af8-1018060aa9eb"
   },
   "outputs": [],
   "source": [
    "model = Sequential()"
   ]
  },
  {
   "cell_type": "code",
   "execution_count": 39,
   "metadata": {
    "colab": {
     "base_uri": "https://localhost:8080/",
     "height": 112
    },
    "colab_type": "code",
    "executionInfo": {
     "elapsed": 923,
     "status": "ok",
     "timestamp": 1581135778981,
     "user": {
      "displayName": "imarticus ml",
      "photoUrl": "",
      "userId": "13268030857581370634"
     },
     "user_tz": -330
    },
    "id": "iE7A3KqxBxzY",
    "outputId": "9d47d3ca-637d-4109-f853-7b0a1a358fac"
   },
   "outputs": [],
   "source": [
    "model.add(Dense(50, input_shape = (784, )))\n",
    "model.add(Activation('sigmoid'))\n",
    "model.add(Dense(50))\n",
    "model.add(Activation('sigmoid'))\n",
    "model.add(Dense(50))\n",
    "model.add(Activation('sigmoid'))\n",
    "model.add(Dense(50))\n",
    "model.add(Activation('sigmoid'))\n",
    "model.add(Dense(10))\n",
    "model.add(Activation('softmax'))"
   ]
  },
  {
   "cell_type": "code",
   "execution_count": 40,
   "metadata": {
    "colab": {
     "base_uri": "https://localhost:8080/",
     "height": 112
    },
    "colab_type": "code",
    "executionInfo": {
     "elapsed": 921,
     "status": "ok",
     "timestamp": 1581135790691,
     "user": {
      "displayName": "imarticus ml",
      "photoUrl": "",
      "userId": "13268030857581370634"
     },
     "user_tz": -330
    },
    "id": "cQmfSsofBxzf",
    "outputId": "0175d027-c37d-4f71-c613-995fa2d91b5c"
   },
   "outputs": [],
   "source": [
    "sgd = optimizers.SGD(lr = 0.01)\n",
    "adam=optimizers.SGD(lr=0.01)\n",
    "model.compile(optimizer = sgd, loss = 'categorical_crossentropy', metrics = ['accuracy'])"
   ]
  },
  {
   "cell_type": "code",
   "execution_count": 41,
   "metadata": {
    "colab": {
     "base_uri": "https://localhost:8080/",
     "height": 392
    },
    "colab_type": "code",
    "executionInfo": {
     "elapsed": 25777,
     "status": "ok",
     "timestamp": 1581135850685,
     "user": {
      "displayName": "imarticus ml",
      "photoUrl": "",
      "userId": "13268030857581370634"
     },
     "user_tz": -330
    },
    "id": "Ui6vfS2fBxzr",
    "outputId": "e3374af6-e7e4-45f9-82e7-1773fa8f79cd"
   },
   "outputs": [
    {
     "name": "stdout",
     "output_type": "stream",
     "text": [
      "Train on 13860 samples, validate on 5940 samples\n",
      "Epoch 1/100\n",
      "13860/13860 [==============================] - 0s 35us/step - loss: 2.3119 - accuracy: 0.1118 - val_loss: 2.3009 - val_accuracy: 0.1118\n",
      "Epoch 2/100\n",
      "13860/13860 [==============================] - 0s 27us/step - loss: 2.2994 - accuracy: 0.1150 - val_loss: 2.2999 - val_accuracy: 0.1118\n",
      "Epoch 3/100\n",
      "13860/13860 [==============================] - 0s 27us/step - loss: 2.2985 - accuracy: 0.1143 - val_loss: 2.2992 - val_accuracy: 0.1118\n",
      "Epoch 4/100\n",
      "13860/13860 [==============================] - 0s 27us/step - loss: 2.2976 - accuracy: 0.1143 - val_loss: 2.2984 - val_accuracy: 0.1118\n",
      "Epoch 5/100\n",
      "13860/13860 [==============================] - 0s 28us/step - loss: 2.2966 - accuracy: 0.1145 - val_loss: 2.2966 - val_accuracy: 0.1118\n",
      "Epoch 6/100\n",
      "13860/13860 [==============================] - 0s 27us/step - loss: 2.2956 - accuracy: 0.1143 - val_loss: 2.2963 - val_accuracy: 0.1118\n",
      "Epoch 7/100\n",
      "13860/13860 [==============================] - 0s 27us/step - loss: 2.2947 - accuracy: 0.1143 - val_loss: 2.2950 - val_accuracy: 0.1118\n",
      "Epoch 8/100\n",
      "13860/13860 [==============================] - 0s 27us/step - loss: 2.2938 - accuracy: 0.1143 - val_loss: 2.2940 - val_accuracy: 0.1118\n",
      "Epoch 9/100\n",
      "13860/13860 [==============================] - 0s 27us/step - loss: 2.2927 - accuracy: 0.1177 - val_loss: 2.2934 - val_accuracy: 0.1118\n",
      "Epoch 10/100\n",
      "13860/13860 [==============================] - 0s 27us/step - loss: 2.2917 - accuracy: 0.1144 - val_loss: 2.2921 - val_accuracy: 0.1118\n",
      "Epoch 11/100\n",
      "13860/13860 [==============================] - 0s 27us/step - loss: 2.2906 - accuracy: 0.1158 - val_loss: 2.2917 - val_accuracy: 0.1118\n",
      "Epoch 12/100\n",
      "13860/13860 [==============================] - 0s 28us/step - loss: 2.2894 - accuracy: 0.1144 - val_loss: 2.2901 - val_accuracy: 0.1118\n",
      "Epoch 13/100\n",
      "13860/13860 [==============================] - 0s 28us/step - loss: 2.2882 - accuracy: 0.1162 - val_loss: 2.2893 - val_accuracy: 0.1118\n",
      "Epoch 14/100\n",
      "13860/13860 [==============================] - 0s 28us/step - loss: 2.2867 - accuracy: 0.1308 - val_loss: 2.2873 - val_accuracy: 0.1118\n",
      "Epoch 15/100\n",
      "13860/13860 [==============================] - 0s 27us/step - loss: 2.2852 - accuracy: 0.1192 - val_loss: 2.2862 - val_accuracy: 0.1118\n",
      "Epoch 16/100\n",
      "13860/13860 [==============================] - 0s 26us/step - loss: 2.2839 - accuracy: 0.1143 - val_loss: 2.2840 - val_accuracy: 0.1118\n",
      "Epoch 17/100\n",
      "13860/13860 [==============================] - 0s 27us/step - loss: 2.2821 - accuracy: 0.1165 - val_loss: 2.2825 - val_accuracy: 0.1434\n",
      "Epoch 18/100\n",
      "13860/13860 [==============================] - 0s 30us/step - loss: 2.2805 - accuracy: 0.1269 - val_loss: 2.2810 - val_accuracy: 0.1118\n",
      "Epoch 19/100\n",
      "13860/13860 [==============================] - 0s 31us/step - loss: 2.2784 - accuracy: 0.1310 - val_loss: 2.2784 - val_accuracy: 0.1118\n",
      "Epoch 20/100\n",
      "13860/13860 [==============================] - 0s 27us/step - loss: 2.2762 - accuracy: 0.1277 - val_loss: 2.2764 - val_accuracy: 0.1222\n",
      "Epoch 21/100\n",
      "13860/13860 [==============================] - 0s 27us/step - loss: 2.2738 - accuracy: 0.1287 - val_loss: 2.2740 - val_accuracy: 0.1712\n",
      "Epoch 22/100\n",
      "13860/13860 [==============================] - 0s 28us/step - loss: 2.2710 - accuracy: 0.1490 - val_loss: 2.2705 - val_accuracy: 0.1451\n",
      "Epoch 23/100\n",
      "13860/13860 [==============================] - 0s 28us/step - loss: 2.2681 - accuracy: 0.1563 - val_loss: 2.2685 - val_accuracy: 0.1421\n",
      "Epoch 24/100\n",
      "13860/13860 [==============================] - 0s 27us/step - loss: 2.2646 - accuracy: 0.1659 - val_loss: 2.2648 - val_accuracy: 0.1810\n",
      "Epoch 25/100\n",
      "13860/13860 [==============================] - 0s 27us/step - loss: 2.2609 - accuracy: 0.1802 - val_loss: 2.2603 - val_accuracy: 0.2461\n",
      "Epoch 26/100\n",
      "13860/13860 [==============================] - 0s 27us/step - loss: 2.2566 - accuracy: 0.2390 - val_loss: 2.2560 - val_accuracy: 0.1293\n",
      "Epoch 27/100\n",
      "13860/13860 [==============================] - 0s 27us/step - loss: 2.2518 - accuracy: 0.1890 - val_loss: 2.2511 - val_accuracy: 0.2648\n",
      "Epoch 28/100\n",
      "13860/13860 [==============================] - 0s 27us/step - loss: 2.2463 - accuracy: 0.2505 - val_loss: 2.2460 - val_accuracy: 0.2832\n",
      "Epoch 29/100\n",
      "13860/13860 [==============================] - 0s 27us/step - loss: 2.2400 - accuracy: 0.2619 - val_loss: 2.2387 - val_accuracy: 0.3221\n",
      "Epoch 30/100\n",
      "13860/13860 [==============================] - 0s 27us/step - loss: 2.2329 - accuracy: 0.2874 - val_loss: 2.2318 - val_accuracy: 0.2840\n",
      "Epoch 31/100\n",
      "13860/13860 [==============================] - 0s 29us/step - loss: 2.2246 - accuracy: 0.3318 - val_loss: 2.2225 - val_accuracy: 0.3007\n",
      "Epoch 32/100\n",
      "13860/13860 [==============================] - 0s 28us/step - loss: 2.2150 - accuracy: 0.3584 - val_loss: 2.2119 - val_accuracy: 0.3487\n",
      "Epoch 33/100\n",
      "13860/13860 [==============================] - 0s 27us/step - loss: 2.2036 - accuracy: 0.3520 - val_loss: 2.2004 - val_accuracy: 0.4000\n",
      "Epoch 34/100\n",
      "13860/13860 [==============================] - 0s 27us/step - loss: 2.1901 - accuracy: 0.3716 - val_loss: 2.1860 - val_accuracy: 0.4379\n",
      "Epoch 35/100\n",
      "13860/13860 [==============================] - 0s 27us/step - loss: 2.1740 - accuracy: 0.3802 - val_loss: 2.1690 - val_accuracy: 0.3631\n",
      "Epoch 36/100\n",
      "13860/13860 [==============================] - 0s 28us/step - loss: 2.1549 - accuracy: 0.3814 - val_loss: 2.1485 - val_accuracy: 0.4013\n",
      "Epoch 37/100\n",
      "13860/13860 [==============================] - 0s 27us/step - loss: 2.1319 - accuracy: 0.3925 - val_loss: 2.1246 - val_accuracy: 0.4150\n",
      "Epoch 38/100\n",
      "13860/13860 [==============================] - 0s 27us/step - loss: 2.1046 - accuracy: 0.4128 - val_loss: 2.0957 - val_accuracy: 0.3618\n",
      "Epoch 39/100\n",
      "13860/13860 [==============================] - 0s 27us/step - loss: 2.0730 - accuracy: 0.3945 - val_loss: 2.0621 - val_accuracy: 0.4258\n",
      "Epoch 40/100\n",
      "13860/13860 [==============================] - 0s 27us/step - loss: 2.0367 - accuracy: 0.4292 - val_loss: 2.0254 - val_accuracy: 0.4212\n",
      "Epoch 41/100\n",
      "13860/13860 [==============================] - 0s 27us/step - loss: 1.9964 - accuracy: 0.4340 - val_loss: 1.9846 - val_accuracy: 0.4152\n",
      "Epoch 42/100\n",
      "13860/13860 [==============================] - 0s 27us/step - loss: 1.9531 - accuracy: 0.4411 - val_loss: 1.9402 - val_accuracy: 0.4375\n",
      "Epoch 43/100\n",
      "13860/13860 [==============================] - 0s 27us/step - loss: 1.9071 - accuracy: 0.4527 - val_loss: 1.8942 - val_accuracy: 0.4559\n",
      "Epoch 44/100\n",
      "13860/13860 [==============================] - 0s 27us/step - loss: 1.8598 - accuracy: 0.4641 - val_loss: 1.8489 - val_accuracy: 0.4581\n",
      "Epoch 45/100\n",
      "13860/13860 [==============================] - 0s 27us/step - loss: 1.8109 - accuracy: 0.4778 - val_loss: 1.7995 - val_accuracy: 0.4715\n",
      "Epoch 46/100\n",
      "13860/13860 [==============================] - 0s 27us/step - loss: 1.7612 - accuracy: 0.4922 - val_loss: 1.7500 - val_accuracy: 0.4749\n",
      "Epoch 47/100\n",
      "13860/13860 [==============================] - 0s 28us/step - loss: 1.7095 - accuracy: 0.5106 - val_loss: 1.6978 - val_accuracy: 0.4906\n",
      "Epoch 48/100\n",
      "13860/13860 [==============================] - 0s 27us/step - loss: 1.6553 - accuracy: 0.5274 - val_loss: 1.6441 - val_accuracy: 0.5170\n",
      "Epoch 49/100\n",
      "13860/13860 [==============================] - 0s 27us/step - loss: 1.6010 - accuracy: 0.5449 - val_loss: 1.5894 - val_accuracy: 0.5318\n",
      "Epoch 50/100\n",
      "13860/13860 [==============================] - 0s 27us/step - loss: 1.5438 - accuracy: 0.5652 - val_loss: 1.5342 - val_accuracy: 0.5524\n",
      "Epoch 51/100\n",
      "13860/13860 [==============================] - 0s 28us/step - loss: 1.4871 - accuracy: 0.5780 - val_loss: 1.4800 - val_accuracy: 0.5682\n",
      "Epoch 52/100\n",
      "13860/13860 [==============================] - 0s 27us/step - loss: 1.4350 - accuracy: 0.5953 - val_loss: 1.4270 - val_accuracy: 0.5914\n",
      "Epoch 53/100\n",
      "13860/13860 [==============================] - 0s 27us/step - loss: 1.3802 - accuracy: 0.6117 - val_loss: 1.3775 - val_accuracy: 0.5934\n",
      "Epoch 54/100\n",
      "13860/13860 [==============================] - 0s 28us/step - loss: 1.3323 - accuracy: 0.6277 - val_loss: 1.3322 - val_accuracy: 0.6207\n",
      "Epoch 55/100\n",
      "13860/13860 [==============================] - 0s 27us/step - loss: 1.2869 - accuracy: 0.6442 - val_loss: 1.2931 - val_accuracy: 0.6258\n"
     ]
    },
    {
     "name": "stdout",
     "output_type": "stream",
     "text": [
      "Epoch 56/100\n",
      "13860/13860 [==============================] - 0s 27us/step - loss: 1.2461 - accuracy: 0.6540 - val_loss: 1.2528 - val_accuracy: 0.6593\n",
      "Epoch 57/100\n",
      "13860/13860 [==============================] - 0s 26us/step - loss: 1.2087 - accuracy: 0.6667 - val_loss: 1.2196 - val_accuracy: 0.6567\n",
      "Epoch 58/100\n",
      "13860/13860 [==============================] - 0s 26us/step - loss: 1.1747 - accuracy: 0.6834 - val_loss: 1.1843 - val_accuracy: 0.6626\n",
      "Epoch 59/100\n",
      "13860/13860 [==============================] - 0s 26us/step - loss: 1.1408 - accuracy: 0.6954 - val_loss: 1.1536 - val_accuracy: 0.6975\n",
      "Epoch 60/100\n",
      "13860/13860 [==============================] - 0s 35us/step - loss: 1.1099 - accuracy: 0.7119 - val_loss: 1.1250 - val_accuracy: 0.6914\n",
      "Epoch 61/100\n",
      "13860/13860 [==============================] - 0s 30us/step - loss: 1.0846 - accuracy: 0.7196 - val_loss: 1.1056 - val_accuracy: 0.7079\n",
      "Epoch 62/100\n",
      "13860/13860 [==============================] - 0s 32us/step - loss: 1.0583 - accuracy: 0.7298 - val_loss: 1.0802 - val_accuracy: 0.7153\n",
      "Epoch 63/100\n",
      "13860/13860 [==============================] - 0s 25us/step - loss: 1.0352 - accuracy: 0.7345 - val_loss: 1.0581 - val_accuracy: 0.7360\n",
      "Epoch 64/100\n",
      "13860/13860 [==============================] - 0s 31us/step - loss: 1.0103 - accuracy: 0.7475 - val_loss: 1.0311 - val_accuracy: 0.7431\n",
      "Epoch 65/100\n",
      "13860/13860 [==============================] - 0s 27us/step - loss: 0.9893 - accuracy: 0.7560 - val_loss: 1.0110 - val_accuracy: 0.7525\n",
      "Epoch 66/100\n",
      "13860/13860 [==============================] - 0s 26us/step - loss: 0.9693 - accuracy: 0.7652 - val_loss: 1.0041 - val_accuracy: 0.7360\n",
      "Epoch 67/100\n",
      "13860/13860 [==============================] - ETA: 0s - loss: 0.9507 - accuracy: 0.76 - 0s 29us/step - loss: 0.9501 - accuracy: 0.7613 - val_loss: 0.9654 - val_accuracy: 0.7577\n",
      "Epoch 68/100\n",
      "13860/13860 [==============================] - 0s 29us/step - loss: 0.9234 - accuracy: 0.7763 - val_loss: 0.9499 - val_accuracy: 0.7658\n",
      "Epoch 69/100\n",
      "13860/13860 [==============================] - 0s 34us/step - loss: 0.9039 - accuracy: 0.7884 - val_loss: 0.9348 - val_accuracy: 0.7833\n",
      "Epoch 70/100\n",
      "13860/13860 [==============================] - 0s 27us/step - loss: 0.8912 - accuracy: 0.7939 - val_loss: 0.9149 - val_accuracy: 0.7877\n",
      "Epoch 71/100\n",
      "13860/13860 [==============================] - 0s 27us/step - loss: 0.8711 - accuracy: 0.7983 - val_loss: 0.8968 - val_accuracy: 0.7859\n",
      "Epoch 72/100\n",
      "13860/13860 [==============================] - 0s 26us/step - loss: 0.8575 - accuracy: 0.8020 - val_loss: 0.8834 - val_accuracy: 0.7855\n",
      "Epoch 73/100\n",
      "13860/13860 [==============================] - 0s 28us/step - loss: 0.8377 - accuracy: 0.8063 - val_loss: 0.8653 - val_accuracy: 0.7993\n",
      "Epoch 74/100\n",
      "13860/13860 [==============================] - 0s 34us/step - loss: 0.8181 - accuracy: 0.8092 - val_loss: 0.8466 - val_accuracy: 0.7961\n",
      "Epoch 75/100\n",
      "13860/13860 [==============================] - 0s 33us/step - loss: 0.7949 - accuracy: 0.8258 - val_loss: 0.8190 - val_accuracy: 0.8088\n",
      "Epoch 76/100\n",
      "13860/13860 [==============================] - 0s 33us/step - loss: 0.7809 - accuracy: 0.8250 - val_loss: 0.8105 - val_accuracy: 0.8133\n",
      "Epoch 77/100\n",
      "13860/13860 [==============================] - 0s 31us/step - loss: 0.7605 - accuracy: 0.8263 - val_loss: 0.7932 - val_accuracy: 0.8150\n",
      "Epoch 78/100\n",
      "13860/13860 [==============================] - 0s 27us/step - loss: 0.7515 - accuracy: 0.8265 - val_loss: 0.7888 - val_accuracy: 0.8103\n",
      "Epoch 79/100\n",
      "13860/13860 [==============================] - 0s 30us/step - loss: 0.7372 - accuracy: 0.8309 - val_loss: 0.7703 - val_accuracy: 0.8207\n",
      "Epoch 80/100\n",
      "13860/13860 [==============================] - 0s 28us/step - loss: 0.7156 - accuracy: 0.8410 - val_loss: 0.7474 - val_accuracy: 0.8242\n",
      "Epoch 81/100\n",
      "13860/13860 [==============================] - 0s 27us/step - loss: 0.7047 - accuracy: 0.8425 - val_loss: 0.7289 - val_accuracy: 0.8291\n",
      "Epoch 82/100\n",
      "13860/13860 [==============================] - 0s 27us/step - loss: 0.6809 - accuracy: 0.8419 - val_loss: 0.7309 - val_accuracy: 0.8224\n",
      "Epoch 83/100\n",
      "13860/13860 [==============================] - 0s 34us/step - loss: 0.6816 - accuracy: 0.8364 - val_loss: 0.7242 - val_accuracy: 0.8116\n",
      "Epoch 84/100\n",
      "13860/13860 [==============================] - 0s 35us/step - loss: 0.6696 - accuracy: 0.8372 - val_loss: 0.6949 - val_accuracy: 0.8333\n",
      "Epoch 85/100\n",
      "13860/13860 [==============================] - 1s 36us/step - loss: 0.6514 - accuracy: 0.8478 - val_loss: 0.6824 - val_accuracy: 0.8318\n",
      "Epoch 86/100\n",
      "13860/13860 [==============================] - 0s 31us/step - loss: 0.6455 - accuracy: 0.8492 - val_loss: 0.6750 - val_accuracy: 0.8362\n",
      "Epoch 87/100\n",
      "13860/13860 [==============================] - 0s 27us/step - loss: 0.6273 - accuracy: 0.8563 - val_loss: 0.6611 - val_accuracy: 0.8527\n",
      "Epoch 88/100\n",
      "13860/13860 [==============================] - 0s 32us/step - loss: 0.6149 - accuracy: 0.8648 - val_loss: 0.6533 - val_accuracy: 0.8497\n",
      "Epoch 89/100\n",
      "13860/13860 [==============================] - 0s 33us/step - loss: 0.6017 - accuracy: 0.8639 - val_loss: 0.6310 - val_accuracy: 0.8544\n",
      "Epoch 90/100\n",
      "13860/13860 [==============================] - 0s 29us/step - loss: 0.5873 - accuracy: 0.8652 - val_loss: 0.6392 - val_accuracy: 0.8416\n",
      "Epoch 91/100\n",
      "13860/13860 [==============================] - 0s 30us/step - loss: 0.5818 - accuracy: 0.8627 - val_loss: 0.6320 - val_accuracy: 0.8433\n",
      "Epoch 92/100\n",
      "13860/13860 [==============================] - 0s 35us/step - loss: 0.5783 - accuracy: 0.8594 - val_loss: 0.6111 - val_accuracy: 0.8485\n",
      "Epoch 93/100\n",
      "13860/13860 [==============================] - 1s 36us/step - loss: 0.5678 - accuracy: 0.8665 - val_loss: 0.6063 - val_accuracy: 0.8598\n",
      "Epoch 94/100\n",
      "13860/13860 [==============================] - 0s 28us/step - loss: 0.5610 - accuracy: 0.8685 - val_loss: 0.6135 - val_accuracy: 0.8513\n",
      "Epoch 95/100\n",
      "13860/13860 [==============================] - 0s 29us/step - loss: 0.5529 - accuracy: 0.8681 - val_loss: 0.6007 - val_accuracy: 0.8545\n",
      "Epoch 96/100\n",
      "13860/13860 [==============================] - 0s 31us/step - loss: 0.5485 - accuracy: 0.8716 - val_loss: 0.5911 - val_accuracy: 0.8616\n",
      "Epoch 97/100\n",
      "13860/13860 [==============================] - 0s 30us/step - loss: 0.5338 - accuracy: 0.8776 - val_loss: 0.5694 - val_accuracy: 0.8571\n",
      "Epoch 98/100\n",
      "13860/13860 [==============================] - 0s 31us/step - loss: 0.5209 - accuracy: 0.8782 - val_loss: 0.5589 - val_accuracy: 0.8680\n",
      "Epoch 99/100\n",
      "13860/13860 [==============================] - 0s 32us/step - loss: 0.5226 - accuracy: 0.8758 - val_loss: 0.5553 - val_accuracy: 0.8625\n",
      "Epoch 100/100\n",
      "13860/13860 [==============================] - 0s 26us/step - loss: 0.5061 - accuracy: 0.8825 - val_loss: 0.5547 - val_accuracy: 0.8559\n"
     ]
    }
   ],
   "source": [
    "history = model.fit(X_train, y_train, batch_size = 64, validation_split = 0.3, epochs = 100, verbose = 1)"
   ]
  },
  {
   "cell_type": "code",
   "execution_count": 42,
   "metadata": {},
   "outputs": [
    {
     "data": {
      "text/plain": [
       "<function dict.keys>"
      ]
     },
     "execution_count": 42,
     "metadata": {},
     "output_type": "execute_result"
    }
   ],
   "source": [
    "history.history.keys"
   ]
  },
  {
   "cell_type": "code",
   "execution_count": 30,
   "metadata": {
    "colab": {
     "base_uri": "https://localhost:8080/",
     "height": 265
    },
    "colab_type": "code",
    "executionInfo": {
     "elapsed": 987,
     "status": "ok",
     "timestamp": 1581135932963,
     "user": {
      "displayName": "imarticus ml",
      "photoUrl": "",
      "userId": "13268030857581370634"
     },
     "user_tz": -330
    },
    "id": "gg4nFUOkBxzz",
    "outputId": "876076cf-57fc-4a9e-a17f-9fe0b3a591b2"
   },
   "outputs": [
    {
     "ename": "KeyError",
     "evalue": "'acc'",
     "output_type": "error",
     "traceback": [
      "\u001b[1;31m---------------------------------------------------------------------------\u001b[0m",
      "\u001b[1;31mKeyError\u001b[0m                                  Traceback (most recent call last)",
      "\u001b[1;32m<ipython-input-30-4a9188539d19>\u001b[0m in \u001b[0;36m<module>\u001b[1;34m\u001b[0m\n\u001b[1;32m----> 1\u001b[1;33m \u001b[0mplt\u001b[0m\u001b[1;33m.\u001b[0m\u001b[0mplot\u001b[0m\u001b[1;33m(\u001b[0m\u001b[0mhistory\u001b[0m\u001b[1;33m.\u001b[0m\u001b[0mhistory\u001b[0m\u001b[1;33m[\u001b[0m\u001b[1;34m'acc'\u001b[0m\u001b[1;33m]\u001b[0m\u001b[1;33m)\u001b[0m\u001b[1;33m\u001b[0m\u001b[1;33m\u001b[0m\u001b[0m\n\u001b[0m\u001b[0;32m      2\u001b[0m \u001b[0mplt\u001b[0m\u001b[1;33m.\u001b[0m\u001b[0mplot\u001b[0m\u001b[1;33m(\u001b[0m\u001b[0mhistory\u001b[0m\u001b[1;33m.\u001b[0m\u001b[0mhistory\u001b[0m\u001b[1;33m[\u001b[0m\u001b[1;34m'val_acc'\u001b[0m\u001b[1;33m]\u001b[0m\u001b[1;33m)\u001b[0m\u001b[1;33m\u001b[0m\u001b[1;33m\u001b[0m\u001b[0m\n\u001b[0;32m      3\u001b[0m \u001b[0mplt\u001b[0m\u001b[1;33m.\u001b[0m\u001b[0mlegend\u001b[0m\u001b[1;33m(\u001b[0m\u001b[1;33m[\u001b[0m\u001b[1;34m'training'\u001b[0m\u001b[1;33m,\u001b[0m \u001b[1;34m'validation'\u001b[0m\u001b[1;33m]\u001b[0m\u001b[1;33m,\u001b[0m \u001b[0mloc\u001b[0m \u001b[1;33m=\u001b[0m \u001b[1;34m'upper left'\u001b[0m\u001b[1;33m)\u001b[0m\u001b[1;33m\u001b[0m\u001b[1;33m\u001b[0m\u001b[0m\n\u001b[0;32m      4\u001b[0m \u001b[0mplt\u001b[0m\u001b[1;33m.\u001b[0m\u001b[0mshow\u001b[0m\u001b[1;33m(\u001b[0m\u001b[1;33m)\u001b[0m\u001b[1;33m\u001b[0m\u001b[1;33m\u001b[0m\u001b[0m\n",
      "\u001b[1;31mKeyError\u001b[0m: 'acc'"
     ]
    }
   ],
   "source": [
    "plt.plot(history.history['acc'])\n",
    "plt.plot(history.history['val_acc'])\n",
    "plt.legend(['training', 'validation'], loc = 'upper left')\n",
    "plt.show()"
   ]
  },
  {
   "cell_type": "markdown",
   "metadata": {
    "colab_type": "text",
    "id": "FCNPShheBxz7"
   },
   "source": [
    "Training and validation accuracy seems to improve after around 60 epochs"
   ]
  },
  {
   "cell_type": "code",
   "execution_count": 44,
   "metadata": {
    "colab": {
     "base_uri": "https://localhost:8080/",
     "height": 36
    },
    "colab_type": "code",
    "executionInfo": {
     "elapsed": 1064,
     "status": "ok",
     "timestamp": 1581135940308,
     "user": {
      "displayName": "imarticus ml",
      "photoUrl": "",
      "userId": "13268030857581370634"
     },
     "user_tz": -330
    },
    "id": "nBWtWajsBxz9",
    "outputId": "a3b1c6de-ff0a-4f83-a326-b528d05f635b"
   },
   "outputs": [
    {
     "name": "stdout",
     "output_type": "stream",
     "text": [
      "10000/10000 [==============================] - 0s 21us/step\n"
     ]
    }
   ],
   "source": [
    "results = model.evaluate(X_test, y_test)"
   ]
  },
  {
   "cell_type": "code",
   "execution_count": 45,
   "metadata": {
    "colab": {
     "base_uri": "https://localhost:8080/",
     "height": 36
    },
    "colab_type": "code",
    "executionInfo": {
     "elapsed": 892,
     "status": "ok",
     "timestamp": 1581135946213,
     "user": {
      "displayName": "imarticus ml",
      "photoUrl": "",
      "userId": "13268030857581370634"
     },
     "user_tz": -330
    },
    "id": "Fv5DeHgvBx0C",
    "outputId": "4def5bde-4cf3-4484-d8b4-25fcc81f1232"
   },
   "outputs": [
    {
     "name": "stdout",
     "output_type": "stream",
     "text": [
      "Test accuracy:  0.8671000003814697\n"
     ]
    }
   ],
   "source": [
    "print('Test accuracy: ', results[1])"
   ]
  },
  {
   "cell_type": "markdown",
   "metadata": {
    "colab_type": "text",
    "id": "uUj1fkncBx0J"
   },
   "source": [
    "## 1. Weight Initialization\n",
    "- Changing weight initialization scheme can significantly improve training of the model by preventing vanishing gradient problem up to some degree\n",
    "- He normal or Xavier normal initialization schemes are SOTA at the moment\n",
    "- Doc: https://keras.io/initializers/"
   ]
  },
  {
   "cell_type": "code",
   "execution_count": 57,
   "metadata": {
    "colab": {},
    "colab_type": "code",
    "id": "lKiQ1ILaBx0M"
   },
   "outputs": [],
   "source": [
    "# from now on, create a function to generate (return) models\n",
    "def mlp_model():\n",
    "    model = Sequential()\n",
    "    \n",
    "    model.add(Dense(50, input_shape = (784, ), kernel_initializer='he_normal'))     # use he_normal initializer\n",
    "    model.add(Activation('sigmoid'))    \n",
    "    model.add(Dense(50, kernel_initializer='he_normal'))                            # use he_normal initializer\n",
    "    model.add(Activation('sigmoid'))    \n",
    "    model.add(Dense(50, kernel_initializer='he_normal'))                            # use he_normal initializer\n",
    "    model.add(Activation('sigmoid'))    \n",
    "    model.add(Dense(50, kernel_initializer='he_normal'))                            # use he_normal initializer\n",
    "    model.add(Activation('sigmoid'))    \n",
    "    model.add(Dense(10, kernel_initializer='he_normal'))                            # use he_normal initializer\n",
    "    model.add(Activation('softmax'))\n",
    "    \n",
    "    sgd = optimizers.SGD(lr = 0.01)\n",
    "    model.compile(optimizer = sgd, loss = 'categorical_crossentropy', metrics = ['accuracy'])\n",
    "    \n",
    "    return model"
   ]
  },
  {
   "cell_type": "code",
   "execution_count": 58,
   "metadata": {
    "colab": {},
    "colab_type": "code",
    "id": "AXeIK7ADBx0Q",
    "scrolled": true
   },
   "outputs": [
    {
     "name": "stdout",
     "output_type": "stream",
     "text": [
      "Train on 13860 samples, validate on 5940 samples\n",
      "Epoch 1/100\n",
      "13860/13860 [==============================] - 1s 42us/step - loss: 2.3256 - accuracy: 0.1071 - val_loss: 2.2988 - val_accuracy: 0.1153\n",
      "Epoch 2/100\n",
      "13860/13860 [==============================] - 0s 30us/step - loss: 2.2938 - accuracy: 0.1217 - val_loss: 2.2915 - val_accuracy: 0.1118\n",
      "Epoch 3/100\n",
      "13860/13860 [==============================] - 0s 30us/step - loss: 2.2865 - accuracy: 0.1184 - val_loss: 2.2840 - val_accuracy: 0.1118\n",
      "Epoch 4/100\n",
      "13860/13860 [==============================] - 0s 31us/step - loss: 2.2796 - accuracy: 0.1317 - val_loss: 2.2770 - val_accuracy: 0.1152\n",
      "Epoch 5/100\n",
      "13860/13860 [==============================] - 0s 31us/step - loss: 2.2729 - accuracy: 0.1504 - val_loss: 2.2709 - val_accuracy: 0.1202\n",
      "Epoch 6/100\n",
      "13860/13860 [==============================] - 0s 30us/step - loss: 2.2661 - accuracy: 0.1426 - val_loss: 2.2633 - val_accuracy: 0.2574\n",
      "Epoch 7/100\n",
      "13860/13860 [==============================] - 0s 32us/step - loss: 2.2585 - accuracy: 0.1928 - val_loss: 2.2548 - val_accuracy: 0.1744\n",
      "Epoch 8/100\n",
      "13860/13860 [==============================] - 0s 31us/step - loss: 2.2503 - accuracy: 0.2060 - val_loss: 2.2462 - val_accuracy: 0.2466\n",
      "Epoch 9/100\n",
      "13860/13860 [==============================] - 0s 30us/step - loss: 2.2413 - accuracy: 0.2356 - val_loss: 2.2376 - val_accuracy: 0.2542\n",
      "Epoch 10/100\n",
      "13860/13860 [==============================] - 0s 31us/step - loss: 2.2308 - accuracy: 0.2993 - val_loss: 2.2263 - val_accuracy: 0.2242\n",
      "Epoch 11/100\n",
      "13860/13860 [==============================] - 0s 30us/step - loss: 2.2187 - accuracy: 0.2982 - val_loss: 2.2142 - val_accuracy: 0.4397\n",
      "Epoch 12/100\n",
      "13860/13860 [==============================] - 0s 31us/step - loss: 2.2049 - accuracy: 0.3920 - val_loss: 2.1990 - val_accuracy: 0.4678\n",
      "Epoch 13/100\n",
      "13860/13860 [==============================] - 0s 31us/step - loss: 2.1884 - accuracy: 0.4525 - val_loss: 2.1815 - val_accuracy: 0.4045\n",
      "Epoch 14/100\n",
      "13860/13860 [==============================] - 0s 30us/step - loss: 2.1694 - accuracy: 0.4478 - val_loss: 2.1608 - val_accuracy: 0.5084\n",
      "Epoch 15/100\n",
      "13860/13860 [==============================] - 0s 31us/step - loss: 2.1466 - accuracy: 0.4958 - val_loss: 2.1366 - val_accuracy: 0.4525\n",
      "Epoch 16/100\n",
      "13860/13860 [==============================] - 0s 31us/step - loss: 2.1199 - accuracy: 0.4883 - val_loss: 2.1074 - val_accuracy: 0.4827\n",
      "Epoch 17/100\n",
      "13860/13860 [==============================] - 0s 31us/step - loss: 2.0880 - accuracy: 0.5075 - val_loss: 2.0732 - val_accuracy: 0.5290\n",
      "Epoch 18/100\n",
      "13860/13860 [==============================] - 0s 31us/step - loss: 2.0507 - accuracy: 0.5351 - val_loss: 2.0339 - val_accuracy: 0.5335\n",
      "Epoch 19/100\n",
      "13860/13860 [==============================] - 0s 31us/step - loss: 2.0071 - accuracy: 0.5488 - val_loss: 1.9877 - val_accuracy: 0.4828\n",
      "Epoch 20/100\n",
      "13860/13860 [==============================] - 0s 31us/step - loss: 1.9567 - accuracy: 0.5453 - val_loss: 1.9343 - val_accuracy: 0.5365\n",
      "Epoch 21/100\n",
      "13860/13860 [==============================] - 0s 30us/step - loss: 1.8994 - accuracy: 0.5624 - val_loss: 1.8755 - val_accuracy: 0.5473\n",
      "Epoch 22/100\n",
      "13860/13860 [==============================] - 0s 33us/step - loss: 1.8357 - accuracy: 0.5677 - val_loss: 1.8090 - val_accuracy: 0.5761\n",
      "Epoch 23/100\n",
      "13860/13860 [==============================] - 0s 34us/step - loss: 1.7662 - accuracy: 0.5884 - val_loss: 1.7384 - val_accuracy: 0.5598\n",
      "Epoch 24/100\n",
      "13860/13860 [==============================] - 0s 32us/step - loss: 1.6934 - accuracy: 0.5948 - val_loss: 1.6643 - val_accuracy: 0.6010\n",
      "Epoch 25/100\n",
      "13860/13860 [==============================] - 0s 31us/step - loss: 1.6193 - accuracy: 0.6209 - val_loss: 1.5897 - val_accuracy: 0.6034\n",
      "Epoch 26/100\n",
      "13860/13860 [==============================] - 0s 30us/step - loss: 1.5432 - accuracy: 0.6339 - val_loss: 1.5165 - val_accuracy: 0.6337\n",
      "Epoch 27/100\n",
      "13860/13860 [==============================] - 0s 34us/step - loss: 1.4687 - accuracy: 0.6535 - val_loss: 1.4447 - val_accuracy: 0.6569\n",
      "Epoch 28/100\n",
      "13860/13860 [==============================] - 0s 31us/step - loss: 1.3971 - accuracy: 0.6747 - val_loss: 1.3748 - val_accuracy: 0.6825\n",
      "Epoch 29/100\n",
      "13860/13860 [==============================] - 0s 31us/step - loss: 1.3291 - accuracy: 0.6932 - val_loss: 1.3109 - val_accuracy: 0.6887\n",
      "Epoch 30/100\n",
      "13860/13860 [==============================] - 0s 31us/step - loss: 1.2667 - accuracy: 0.7091 - val_loss: 1.2521 - val_accuracy: 0.7008\n",
      "Epoch 31/100\n",
      "13860/13860 [==============================] - 0s 31us/step - loss: 1.2087 - accuracy: 0.7196 - val_loss: 1.1984 - val_accuracy: 0.7113\n",
      "Epoch 32/100\n",
      "13860/13860 [==============================] - 0s 31us/step - loss: 1.1548 - accuracy: 0.7364 - val_loss: 1.1528 - val_accuracy: 0.7204\n",
      "Epoch 33/100\n",
      "13860/13860 [==============================] - 0s 31us/step - loss: 1.1087 - accuracy: 0.7459 - val_loss: 1.1125 - val_accuracy: 0.7290\n",
      "Epoch 34/100\n",
      "13860/13860 [==============================] - 0s 31us/step - loss: 1.0655 - accuracy: 0.7528 - val_loss: 1.0692 - val_accuracy: 0.7399\n",
      "Epoch 35/100\n",
      "13860/13860 [==============================] - 0s 31us/step - loss: 1.0280 - accuracy: 0.7653 - val_loss: 1.0285 - val_accuracy: 0.7551\n",
      "Epoch 36/100\n",
      "13860/13860 [==============================] - 0s 33us/step - loss: 0.9878 - accuracy: 0.7777 - val_loss: 0.9918 - val_accuracy: 0.7658\n",
      "Epoch 37/100\n",
      "13860/13860 [==============================] - 0s 31us/step - loss: 0.9514 - accuracy: 0.7933 - val_loss: 0.9587 - val_accuracy: 0.7667\n",
      "Epoch 38/100\n",
      "13860/13860 [==============================] - 0s 32us/step - loss: 0.9211 - accuracy: 0.7955 - val_loss: 0.9298 - val_accuracy: 0.7830\n",
      "Epoch 39/100\n",
      "13860/13860 [==============================] - 0s 31us/step - loss: 0.8934 - accuracy: 0.7978 - val_loss: 0.8969 - val_accuracy: 0.7956\n",
      "Epoch 40/100\n",
      "13860/13860 [==============================] - 0s 31us/step - loss: 0.8614 - accuracy: 0.8138 - val_loss: 0.8713 - val_accuracy: 0.7926\n",
      "Epoch 41/100\n",
      "13860/13860 [==============================] - 0s 30us/step - loss: 0.8356 - accuracy: 0.8183 - val_loss: 0.8531 - val_accuracy: 0.8039\n",
      "Epoch 42/100\n",
      "13860/13860 [==============================] - 0s 31us/step - loss: 0.8094 - accuracy: 0.8250 - val_loss: 0.8356 - val_accuracy: 0.8054\n",
      "Epoch 43/100\n",
      "13860/13860 [==============================] - 0s 32us/step - loss: 0.7869 - accuracy: 0.8327 - val_loss: 0.7993 - val_accuracy: 0.8207\n",
      "Epoch 44/100\n",
      "13860/13860 [==============================] - 0s 31us/step - loss: 0.7677 - accuracy: 0.8347 - val_loss: 0.7864 - val_accuracy: 0.8269\n",
      "Epoch 45/100\n",
      "13860/13860 [==============================] - 0s 31us/step - loss: 0.7423 - accuracy: 0.8431 - val_loss: 0.7647 - val_accuracy: 0.8291\n",
      "Epoch 46/100\n",
      "13860/13860 [==============================] - 0s 31us/step - loss: 0.7223 - accuracy: 0.8462 - val_loss: 0.7396 - val_accuracy: 0.8345\n",
      "Epoch 47/100\n",
      "13860/13860 [==============================] - 0s 31us/step - loss: 0.7019 - accuracy: 0.8553 - val_loss: 0.7230 - val_accuracy: 0.8394\n",
      "Epoch 48/100\n",
      "13860/13860 [==============================] - 0s 32us/step - loss: 0.6807 - accuracy: 0.8584 - val_loss: 0.7063 - val_accuracy: 0.8407\n",
      "Epoch 49/100\n",
      "13860/13860 [==============================] - 0s 31us/step - loss: 0.6679 - accuracy: 0.8594 - val_loss: 0.7025 - val_accuracy: 0.8416\n",
      "Epoch 50/100\n",
      "13860/13860 [==============================] - 0s 31us/step - loss: 0.6529 - accuracy: 0.8615 - val_loss: 0.6755 - val_accuracy: 0.8461\n",
      "Epoch 51/100\n",
      "13860/13860 [==============================] - 0s 31us/step - loss: 0.6363 - accuracy: 0.8662 - val_loss: 0.6630 - val_accuracy: 0.8508\n",
      "Epoch 52/100\n",
      "13860/13860 [==============================] - 0s 31us/step - loss: 0.6198 - accuracy: 0.8724 - val_loss: 0.6469 - val_accuracy: 0.8510\n",
      "Epoch 53/100\n",
      "13860/13860 [==============================] - 0s 31us/step - loss: 0.5993 - accuracy: 0.8743 - val_loss: 0.6247 - val_accuracy: 0.8625\n",
      "Epoch 54/100\n",
      "13860/13860 [==============================] - 1s 38us/step - loss: 0.5849 - accuracy: 0.8782 - val_loss: 0.6319 - val_accuracy: 0.8513\n",
      "Epoch 55/100\n",
      "13860/13860 [==============================] - 0s 35us/step - loss: 0.5752 - accuracy: 0.8789 - val_loss: 0.6005 - val_accuracy: 0.8631\n"
     ]
    },
    {
     "name": "stdout",
     "output_type": "stream",
     "text": [
      "Epoch 56/100\n",
      "13860/13860 [==============================] - 0s 35us/step - loss: 0.5526 - accuracy: 0.8855 - val_loss: 0.5873 - val_accuracy: 0.8604\n",
      "Epoch 57/100\n",
      "13860/13860 [==============================] - 0s 30us/step - loss: 0.5506 - accuracy: 0.8820 - val_loss: 0.5845 - val_accuracy: 0.8631\n",
      "Epoch 58/100\n",
      "13860/13860 [==============================] - 0s 30us/step - loss: 0.5373 - accuracy: 0.8810 - val_loss: 0.5770 - val_accuracy: 0.8582\n",
      "Epoch 59/100\n",
      "13860/13860 [==============================] - 0s 36us/step - loss: 0.5313 - accuracy: 0.8806 - val_loss: 0.5629 - val_accuracy: 0.8636\n",
      "Epoch 60/100\n",
      "13860/13860 [==============================] - 0s 33us/step - loss: 0.5237 - accuracy: 0.8818 - val_loss: 0.5643 - val_accuracy: 0.8657\n",
      "Epoch 61/100\n",
      "13860/13860 [==============================] - 0s 30us/step - loss: 0.5147 - accuracy: 0.8869 - val_loss: 0.5365 - val_accuracy: 0.8736\n",
      "Epoch 62/100\n",
      "13860/13860 [==============================] - 0s 30us/step - loss: 0.5020 - accuracy: 0.8895 - val_loss: 0.5416 - val_accuracy: 0.8704\n",
      "Epoch 63/100\n",
      "13860/13860 [==============================] - 0s 30us/step - loss: 0.4954 - accuracy: 0.8889 - val_loss: 0.5330 - val_accuracy: 0.8643\n",
      "Epoch 64/100\n",
      "13860/13860 [==============================] - 0s 30us/step - loss: 0.4867 - accuracy: 0.8895 - val_loss: 0.5169 - val_accuracy: 0.8665\n",
      "Epoch 65/100\n",
      "13860/13860 [==============================] - 0s 30us/step - loss: 0.4701 - accuracy: 0.8930 - val_loss: 0.5090 - val_accuracy: 0.8697\n",
      "Epoch 66/100\n",
      "13860/13860 [==============================] - 0s 30us/step - loss: 0.4626 - accuracy: 0.8945 - val_loss: 0.5151 - val_accuracy: 0.8668\n",
      "Epoch 67/100\n",
      "13860/13860 [==============================] - 0s 30us/step - loss: 0.4525 - accuracy: 0.8979 - val_loss: 0.4883 - val_accuracy: 0.8753\n",
      "Epoch 68/100\n",
      "13860/13860 [==============================] - 0s 30us/step - loss: 0.4505 - accuracy: 0.8967 - val_loss: 0.4933 - val_accuracy: 0.8732\n",
      "Epoch 69/100\n",
      "13860/13860 [==============================] - 0s 30us/step - loss: 0.4396 - accuracy: 0.9034 - val_loss: 0.4940 - val_accuracy: 0.8751\n",
      "Epoch 70/100\n",
      "13860/13860 [==============================] - 0s 30us/step - loss: 0.4344 - accuracy: 0.9001 - val_loss: 0.4811 - val_accuracy: 0.8781\n",
      "Epoch 71/100\n",
      "13860/13860 [==============================] - 0s 30us/step - loss: 0.4260 - accuracy: 0.9043 - val_loss: 0.4738 - val_accuracy: 0.8816\n",
      "Epoch 72/100\n",
      "13860/13860 [==============================] - 0s 32us/step - loss: 0.4223 - accuracy: 0.9012 - val_loss: 0.4567 - val_accuracy: 0.8848\n",
      "Epoch 73/100\n",
      "13860/13860 [==============================] - 0s 34us/step - loss: 0.4112 - accuracy: 0.9054 - val_loss: 0.4536 - val_accuracy: 0.8798\n",
      "Epoch 74/100\n",
      "13860/13860 [==============================] - 0s 32us/step - loss: 0.4035 - accuracy: 0.9048 - val_loss: 0.4698 - val_accuracy: 0.8811\n",
      "Epoch 75/100\n",
      "13860/13860 [==============================] - 0s 31us/step - loss: 0.4039 - accuracy: 0.9012 - val_loss: 0.4603 - val_accuracy: 0.8795\n",
      "Epoch 76/100\n",
      "13860/13860 [==============================] - 0s 31us/step - loss: 0.4072 - accuracy: 0.9026 - val_loss: 0.4548 - val_accuracy: 0.8810\n",
      "Epoch 77/100\n",
      "13860/13860 [==============================] - ETA: 0s - loss: 0.4111 - accuracy: 0.90 - 1s 37us/step - loss: 0.4108 - accuracy: 0.9012 - val_loss: 0.4601 - val_accuracy: 0.8790\n",
      "Epoch 78/100\n",
      "13860/13860 [==============================] - 1s 38us/step - loss: 0.4172 - accuracy: 0.8962 - val_loss: 0.4597 - val_accuracy: 0.8790\n",
      "Epoch 79/100\n",
      "13860/13860 [==============================] - 1s 39us/step - loss: 0.3993 - accuracy: 0.9017 - val_loss: 0.4342 - val_accuracy: 0.8822\n",
      "Epoch 80/100\n",
      "13860/13860 [==============================] - ETA: 0s - loss: 0.3838 - accuracy: 0.90 - 1s 39us/step - loss: 0.3848 - accuracy: 0.9044 - val_loss: 0.4456 - val_accuracy: 0.8800\n",
      "Epoch 81/100\n",
      "13860/13860 [==============================] - 0s 34us/step - loss: 0.3915 - accuracy: 0.9006 - val_loss: 0.4411 - val_accuracy: 0.8759\n",
      "Epoch 82/100\n",
      "13860/13860 [==============================] - 0s 35us/step - loss: 0.3801 - accuracy: 0.9050 - val_loss: 0.4286 - val_accuracy: 0.8875\n",
      "Epoch 83/100\n",
      "13860/13860 [==============================] - 1s 38us/step - loss: 0.3717 - accuracy: 0.9082 - val_loss: 0.4304 - val_accuracy: 0.8852\n",
      "Epoch 84/100\n",
      "13860/13860 [==============================] - 1s 37us/step - loss: 0.3795 - accuracy: 0.9064 - val_loss: 0.4279 - val_accuracy: 0.8828\n",
      "Epoch 85/100\n",
      "13860/13860 [==============================] - 0s 31us/step - loss: 0.3706 - accuracy: 0.9086 - val_loss: 0.4385 - val_accuracy: 0.8835\n",
      "Epoch 86/100\n",
      "13860/13860 [==============================] - 1s 37us/step - loss: 0.3793 - accuracy: 0.9069 - val_loss: 0.4369 - val_accuracy: 0.8816\n",
      "Epoch 87/100\n",
      "13860/13860 [==============================] - 0s 34us/step - loss: 0.3740 - accuracy: 0.9054 - val_loss: 0.4195 - val_accuracy: 0.8859\n",
      "Epoch 88/100\n",
      "13860/13860 [==============================] - 0s 35us/step - loss: 0.3677 - accuracy: 0.9087 - val_loss: 0.4475 - val_accuracy: 0.8768\n",
      "Epoch 89/100\n",
      "13860/13860 [==============================] - 0s 30us/step - loss: 0.3632 - accuracy: 0.9099 - val_loss: 0.4134 - val_accuracy: 0.8870\n",
      "Epoch 90/100\n",
      "13860/13860 [==============================] - 0s 33us/step - loss: 0.3565 - accuracy: 0.9079 - val_loss: 0.4205 - val_accuracy: 0.8832\n",
      "Epoch 91/100\n",
      "13860/13860 [==============================] - 0s 33us/step - loss: 0.3649 - accuracy: 0.9069 - val_loss: 0.4102 - val_accuracy: 0.8886\n",
      "Epoch 92/100\n",
      "13860/13860 [==============================] - 0s 33us/step - loss: 0.3576 - accuracy: 0.9089 - val_loss: 0.4131 - val_accuracy: 0.8906\n",
      "Epoch 93/100\n",
      "13860/13860 [==============================] - 1s 38us/step - loss: 0.3436 - accuracy: 0.9122 - val_loss: 0.4035 - val_accuracy: 0.8899\n",
      "Epoch 94/100\n",
      "13860/13860 [==============================] - 1s 40us/step - loss: 0.3367 - accuracy: 0.9148 - val_loss: 0.3927 - val_accuracy: 0.8931\n",
      "Epoch 95/100\n",
      "13860/13860 [==============================] - 0s 32us/step - loss: 0.3313 - accuracy: 0.9141 - val_loss: 0.4026 - val_accuracy: 0.8909\n",
      "Epoch 96/100\n",
      "13860/13860 [==============================] - 0s 33us/step - loss: 0.3461 - accuracy: 0.9103 - val_loss: 0.4087 - val_accuracy: 0.8870\n",
      "Epoch 97/100\n",
      "13860/13860 [==============================] - 0s 31us/step - loss: 0.3342 - accuracy: 0.9148 - val_loss: 0.3970 - val_accuracy: 0.8887\n",
      "Epoch 98/100\n",
      "13860/13860 [==============================] - 0s 31us/step - loss: 0.3445 - accuracy: 0.9103 - val_loss: 0.4063 - val_accuracy: 0.8855\n",
      "Epoch 99/100\n",
      "13860/13860 [==============================] - 0s 34us/step - loss: 0.3458 - accuracy: 0.9065 - val_loss: 0.4126 - val_accuracy: 0.8810\n",
      "Epoch 100/100\n",
      "13860/13860 [==============================] - 0s 32us/step - loss: 0.3329 - accuracy: 0.9114 - val_loss: 0.3894 - val_accuracy: 0.8929\n"
     ]
    }
   ],
   "source": [
    "model = mlp_model()\n",
    "history = model.fit(X_train, y_train, batch_size = 64, validation_split = 0.3, epochs = 100, verbose = 1)"
   ]
  },
  {
   "cell_type": "code",
   "execution_count": 48,
   "metadata": {
    "colab": {},
    "colab_type": "code",
    "id": "oCqIU4RYBx0V",
    "outputId": "39ed4c20-2b46-4d88-a031-6c1e13b09914"
   },
   "outputs": [
    {
     "ename": "KeyError",
     "evalue": "'acc'",
     "output_type": "error",
     "traceback": [
      "\u001b[1;31m---------------------------------------------------------------------------\u001b[0m",
      "\u001b[1;31mKeyError\u001b[0m                                  Traceback (most recent call last)",
      "\u001b[1;32m<ipython-input-48-4a9188539d19>\u001b[0m in \u001b[0;36m<module>\u001b[1;34m\u001b[0m\n\u001b[1;32m----> 1\u001b[1;33m \u001b[0mplt\u001b[0m\u001b[1;33m.\u001b[0m\u001b[0mplot\u001b[0m\u001b[1;33m(\u001b[0m\u001b[0mhistory\u001b[0m\u001b[1;33m.\u001b[0m\u001b[0mhistory\u001b[0m\u001b[1;33m[\u001b[0m\u001b[1;34m'acc'\u001b[0m\u001b[1;33m]\u001b[0m\u001b[1;33m)\u001b[0m\u001b[1;33m\u001b[0m\u001b[1;33m\u001b[0m\u001b[0m\n\u001b[0m\u001b[0;32m      2\u001b[0m \u001b[0mplt\u001b[0m\u001b[1;33m.\u001b[0m\u001b[0mplot\u001b[0m\u001b[1;33m(\u001b[0m\u001b[0mhistory\u001b[0m\u001b[1;33m.\u001b[0m\u001b[0mhistory\u001b[0m\u001b[1;33m[\u001b[0m\u001b[1;34m'val_acc'\u001b[0m\u001b[1;33m]\u001b[0m\u001b[1;33m)\u001b[0m\u001b[1;33m\u001b[0m\u001b[1;33m\u001b[0m\u001b[0m\n\u001b[0;32m      3\u001b[0m \u001b[0mplt\u001b[0m\u001b[1;33m.\u001b[0m\u001b[0mlegend\u001b[0m\u001b[1;33m(\u001b[0m\u001b[1;33m[\u001b[0m\u001b[1;34m'training'\u001b[0m\u001b[1;33m,\u001b[0m \u001b[1;34m'validation'\u001b[0m\u001b[1;33m]\u001b[0m\u001b[1;33m,\u001b[0m \u001b[0mloc\u001b[0m \u001b[1;33m=\u001b[0m \u001b[1;34m'upper left'\u001b[0m\u001b[1;33m)\u001b[0m\u001b[1;33m\u001b[0m\u001b[1;33m\u001b[0m\u001b[0m\n\u001b[0;32m      4\u001b[0m \u001b[0mplt\u001b[0m\u001b[1;33m.\u001b[0m\u001b[0mshow\u001b[0m\u001b[1;33m(\u001b[0m\u001b[1;33m)\u001b[0m\u001b[1;33m\u001b[0m\u001b[1;33m\u001b[0m\u001b[0m\n",
      "\u001b[1;31mKeyError\u001b[0m: 'acc'"
     ]
    }
   ],
   "source": [
    "plt.plot(history.history['acc'])\n",
    "plt.plot(history.history['val_acc'])\n",
    "plt.legend(['training', 'validation'], loc = 'upper left')\n",
    "plt.show()"
   ]
  },
  {
   "cell_type": "markdown",
   "metadata": {
    "colab_type": "text",
    "id": "RLLU33TlBx0b"
   },
   "source": [
    "Training and validation accuracy seems to improve after around 60 epochs"
   ]
  },
  {
   "cell_type": "code",
   "execution_count": 59,
   "metadata": {
    "colab": {},
    "colab_type": "code",
    "id": "y49U4zlUBx0d",
    "outputId": "1e9d4f4f-8689-4490-fe74-0bec038dd56d"
   },
   "outputs": [
    {
     "name": "stdout",
     "output_type": "stream",
     "text": [
      "10000/10000 [==============================] - 0s 24us/step\n"
     ]
    }
   ],
   "source": [
    "results = model.evaluate(X_test, y_test)"
   ]
  },
  {
   "cell_type": "code",
   "execution_count": 60,
   "metadata": {
    "colab": {},
    "colab_type": "code",
    "id": "B6nY1pKvBx0h",
    "outputId": "b65d0d3d-9592-4c1c-c09c-18a7d9dafa12"
   },
   "outputs": [
    {
     "name": "stdout",
     "output_type": "stream",
     "text": [
      "Test accuracy:  0.8981000185012817\n"
     ]
    }
   ],
   "source": [
    "print('Test accuracy: ', results[1])"
   ]
  },
  {
   "cell_type": "markdown",
   "metadata": {
    "colab_type": "text",
    "id": "4WXJ8ilHBx0k"
   },
   "source": [
    "## 2. Nonlinearity (Activation function)\n",
    "- Sigmoid functions suffer from gradient vanishing problem, making training slower\n",
    "- There are many choices apart from sigmoid and tanh; try many of them!\n",
    "    - **'relu'** (rectified linear unit) is one of the most popular ones\n",
    "    - **'selu'** (scaled exponential linear unit) is one of the most recent ones\n",
    "- Doc: https://keras.io/activations/"
   ]
  },
  {
   "cell_type": "markdown",
   "metadata": {
    "colab_type": "text",
    "id": "_TqKO8WhBx0l"
   },
   "source": [
    "<img src=\"http://cs231n.github.io/assets/nn1/sigmoid.jpeg\" style=\"width: 400px\"/>\n",
    "<center> **Sigmoid Activation Function** </center>\n",
    "<img src=\"http://cs231n.github.io/assets/nn1/relu.jpeg\" style=\"width: 400px\"/>\n",
    "<center> **Relu Activation Function** </center>"
   ]
  },
  {
   "cell_type": "code",
   "execution_count": 66,
   "metadata": {
    "colab": {},
    "colab_type": "code",
    "id": "tDCL4aMyBx0m"
   },
   "outputs": [],
   "source": [
    "def mlp_model():\n",
    "    model = Sequential()\n",
    "    \n",
    "    model.add(Dense(50, input_shape = (784, )))\n",
    "    model.add(Activation('relu'))    # use relu\n",
    "    model.add(Dense(50))\n",
    "    model.add(Activation('relu'))    # use relu\n",
    "    model.add(Dense(50))\n",
    "    model.add(Activation('relu'))    # use relu\n",
    "    model.add(Dense(50))\n",
    "    model.add(Activation('relu'))    # use relu\n",
    "    model.add(Dense(10))\n",
    "    model.add(Activation('softmax'))\n",
    "    \n",
    "    sgd = optimizers.SGD(lr = 0.001)\n",
    "    model.compile(optimizer = sgd, loss = 'categorical_crossentropy', metrics = ['accuracy'])\n",
    "    \n",
    "    return model"
   ]
  },
  {
   "cell_type": "code",
   "execution_count": 67,
   "metadata": {
    "colab": {},
    "colab_type": "code",
    "id": "MWK5VxLOBx0s"
   },
   "outputs": [
    {
     "name": "stdout",
     "output_type": "stream",
     "text": [
      "Train on 13860 samples, validate on 5940 samples\n",
      "Epoch 1/100\n",
      "13860/13860 [==============================] - 1s 49us/step - loss: 2.5461 - accuracy: 0.5395 - val_loss: 1.1341 - val_accuracy: 0.6715\n",
      "Epoch 2/100\n",
      "13860/13860 [==============================] - 0s 31us/step - loss: 0.8790 - accuracy: 0.7402 - val_loss: 0.8195 - val_accuracy: 0.7576\n",
      "Epoch 3/100\n",
      "13860/13860 [==============================] - 0s 33us/step - loss: 0.6594 - accuracy: 0.8012 - val_loss: 0.6751 - val_accuracy: 0.8056\n",
      "Epoch 4/100\n",
      "13860/13860 [==============================] - 0s 34us/step - loss: 0.5510 - accuracy: 0.8368 - val_loss: 0.6120 - val_accuracy: 0.8236\n",
      "Epoch 5/100\n",
      "13860/13860 [==============================] - 0s 33us/step - loss: 0.4807 - accuracy: 0.8538 - val_loss: 0.5490 - val_accuracy: 0.8458\n",
      "Epoch 6/100\n",
      "13860/13860 [==============================] - 1s 42us/step - loss: 0.4300 - accuracy: 0.8699 - val_loss: 0.5146 - val_accuracy: 0.8549\n",
      "Epoch 7/100\n",
      "13860/13860 [==============================] - 0s 34us/step - loss: 0.3912 - accuracy: 0.8807 - val_loss: 0.5046 - val_accuracy: 0.8586\n",
      "Epoch 8/100\n",
      "13860/13860 [==============================] - 0s 32us/step - loss: 0.3583 - accuracy: 0.8909 - val_loss: 0.4969 - val_accuracy: 0.8618\n",
      "Epoch 9/100\n",
      "13860/13860 [==============================] - 0s 32us/step - loss: 0.3352 - accuracy: 0.9001 - val_loss: 0.4648 - val_accuracy: 0.8704\n",
      "Epoch 10/100\n",
      "13860/13860 [==============================] - 0s 33us/step - loss: 0.3160 - accuracy: 0.9027 - val_loss: 0.4448 - val_accuracy: 0.8796\n",
      "Epoch 11/100\n",
      "13860/13860 [==============================] - 0s 32us/step - loss: 0.2933 - accuracy: 0.9097 - val_loss: 0.4509 - val_accuracy: 0.8754\n",
      "Epoch 12/100\n",
      "13860/13860 [==============================] - 0s 34us/step - loss: 0.2762 - accuracy: 0.9153 - val_loss: 0.4309 - val_accuracy: 0.8798\n",
      "Epoch 13/100\n",
      "13860/13860 [==============================] - 0s 34us/step - loss: 0.2650 - accuracy: 0.9190 - val_loss: 0.4363 - val_accuracy: 0.8825\n",
      "Epoch 14/100\n",
      "13860/13860 [==============================] - 0s 33us/step - loss: 0.2511 - accuracy: 0.9232 - val_loss: 0.4230 - val_accuracy: 0.8822\n",
      "Epoch 15/100\n",
      "13860/13860 [==============================] - 0s 33us/step - loss: 0.2424 - accuracy: 0.9274 - val_loss: 0.4165 - val_accuracy: 0.8854\n",
      "Epoch 16/100\n",
      "13860/13860 [==============================] - 0s 33us/step - loss: 0.2297 - accuracy: 0.9315 - val_loss: 0.4090 - val_accuracy: 0.8869\n",
      "Epoch 17/100\n",
      "13860/13860 [==============================] - 1s 39us/step - loss: 0.2203 - accuracy: 0.9330 - val_loss: 0.4215 - val_accuracy: 0.8825\n",
      "Epoch 18/100\n",
      "13860/13860 [==============================] - 1s 47us/step - loss: 0.2137 - accuracy: 0.9363 - val_loss: 0.4073 - val_accuracy: 0.8909\n",
      "Epoch 19/100\n",
      "13860/13860 [==============================] - 1s 38us/step - loss: 0.2077 - accuracy: 0.9396 - val_loss: 0.3978 - val_accuracy: 0.8955\n",
      "Epoch 20/100\n",
      "13860/13860 [==============================] - 0s 34us/step - loss: 0.1979 - accuracy: 0.9402 - val_loss: 0.3861 - val_accuracy: 0.8963\n",
      "Epoch 21/100\n",
      "13860/13860 [==============================] - 0s 33us/step - loss: 0.1902 - accuracy: 0.9420 - val_loss: 0.3962 - val_accuracy: 0.8921\n",
      "Epoch 22/100\n",
      "13860/13860 [==============================] - 0s 32us/step - loss: 0.1843 - accuracy: 0.9439 - val_loss: 0.3999 - val_accuracy: 0.8956\n",
      "Epoch 23/100\n",
      "13860/13860 [==============================] - 1s 43us/step - loss: 0.1775 - accuracy: 0.9460 - val_loss: 0.3883 - val_accuracy: 0.8970\n",
      "Epoch 24/100\n",
      "13860/13860 [==============================] - 0s 33us/step - loss: 0.1737 - accuracy: 0.9466 - val_loss: 0.3738 - val_accuracy: 0.9000\n",
      "Epoch 25/100\n",
      "13860/13860 [==============================] - 0s 31us/step - loss: 0.1668 - accuracy: 0.9500 - val_loss: 0.3732 - val_accuracy: 0.9035\n",
      "Epoch 26/100\n",
      "13860/13860 [==============================] - 0s 31us/step - loss: 0.1622 - accuracy: 0.9526 - val_loss: 0.4015 - val_accuracy: 0.8933\n",
      "Epoch 27/100\n",
      "13860/13860 [==============================] - 0s 31us/step - loss: 0.1585 - accuracy: 0.9527 - val_loss: 0.3766 - val_accuracy: 0.9039\n",
      "Epoch 28/100\n",
      "13860/13860 [==============================] - 0s 28us/step - loss: 0.1529 - accuracy: 0.9536 - val_loss: 0.3744 - val_accuracy: 0.9040\n",
      "Epoch 29/100\n",
      "13860/13860 [==============================] - 0s 31us/step - loss: 0.1479 - accuracy: 0.9571 - val_loss: 0.3862 - val_accuracy: 0.8992\n",
      "Epoch 30/100\n",
      "13860/13860 [==============================] - 0s 30us/step - loss: 0.1422 - accuracy: 0.9582 - val_loss: 0.3778 - val_accuracy: 0.9030\n",
      "Epoch 31/100\n",
      "13860/13860 [==============================] - 0s 30us/step - loss: 0.1387 - accuracy: 0.9594 - val_loss: 0.3799 - val_accuracy: 0.9051\n",
      "Epoch 32/100\n",
      "13860/13860 [==============================] - 0s 31us/step - loss: 0.1347 - accuracy: 0.9592 - val_loss: 0.3726 - val_accuracy: 0.9079\n",
      "Epoch 33/100\n",
      "13860/13860 [==============================] - 0s 31us/step - loss: 0.1323 - accuracy: 0.9615 - val_loss: 0.3751 - val_accuracy: 0.9066\n",
      "Epoch 34/100\n",
      "13860/13860 [==============================] - 0s 33us/step - loss: 0.1275 - accuracy: 0.9615 - val_loss: 0.3835 - val_accuracy: 0.9008\n",
      "Epoch 35/100\n",
      "13860/13860 [==============================] - 0s 31us/step - loss: 0.1240 - accuracy: 0.9631 - val_loss: 0.3738 - val_accuracy: 0.9054\n",
      "Epoch 36/100\n",
      "13860/13860 [==============================] - 0s 32us/step - loss: 0.1217 - accuracy: 0.9636 - val_loss: 0.3740 - val_accuracy: 0.9081\n",
      "Epoch 37/100\n",
      "13860/13860 [==============================] - 0s 33us/step - loss: 0.1178 - accuracy: 0.9652 - val_loss: 0.3807 - val_accuracy: 0.9051\n",
      "Epoch 38/100\n",
      "13860/13860 [==============================] - 0s 31us/step - loss: 0.1147 - accuracy: 0.9666 - val_loss: 0.3707 - val_accuracy: 0.9088\n",
      "Epoch 39/100\n",
      "13860/13860 [==============================] - 0s 31us/step - loss: 0.1111 - accuracy: 0.9673 - val_loss: 0.3858 - val_accuracy: 0.9049\n",
      "Epoch 40/100\n",
      "13860/13860 [==============================] - 0s 32us/step - loss: 0.1092 - accuracy: 0.9688 - val_loss: 0.3652 - val_accuracy: 0.9099\n",
      "Epoch 41/100\n",
      "13860/13860 [==============================] - 0s 30us/step - loss: 0.1053 - accuracy: 0.9712 - val_loss: 0.3718 - val_accuracy: 0.9123\n",
      "Epoch 42/100\n",
      "13860/13860 [==============================] - 0s 29us/step - loss: 0.1037 - accuracy: 0.9705 - val_loss: 0.3890 - val_accuracy: 0.9062\n",
      "Epoch 43/100\n",
      "13860/13860 [==============================] - 0s 29us/step - loss: 0.1001 - accuracy: 0.9712 - val_loss: 0.3664 - val_accuracy: 0.9106\n",
      "Epoch 44/100\n",
      "13860/13860 [==============================] - 0s 29us/step - loss: 0.0969 - accuracy: 0.9725 - val_loss: 0.3719 - val_accuracy: 0.9120\n",
      "Epoch 45/100\n",
      "13860/13860 [==============================] - 0s 29us/step - loss: 0.0946 - accuracy: 0.9727 - val_loss: 0.3726 - val_accuracy: 0.9111\n",
      "Epoch 46/100\n",
      "13860/13860 [==============================] - 0s 29us/step - loss: 0.0927 - accuracy: 0.9746 - val_loss: 0.3676 - val_accuracy: 0.9104\n",
      "Epoch 47/100\n",
      "13860/13860 [==============================] - 0s 29us/step - loss: 0.0908 - accuracy: 0.9753 - val_loss: 0.3744 - val_accuracy: 0.9108\n",
      "Epoch 48/100\n",
      "13860/13860 [==============================] - 0s 29us/step - loss: 0.0879 - accuracy: 0.9754 - val_loss: 0.3691 - val_accuracy: 0.9135\n",
      "Epoch 49/100\n",
      "13860/13860 [==============================] - 0s 30us/step - loss: 0.0863 - accuracy: 0.9761 - val_loss: 0.3802 - val_accuracy: 0.9109\n",
      "Epoch 50/100\n",
      "13860/13860 [==============================] - 0s 30us/step - loss: 0.0843 - accuracy: 0.9768 - val_loss: 0.3780 - val_accuracy: 0.9128\n",
      "Epoch 51/100\n",
      "13860/13860 [==============================] - 0s 30us/step - loss: 0.0813 - accuracy: 0.9770 - val_loss: 0.3845 - val_accuracy: 0.9116\n",
      "Epoch 52/100\n",
      "13860/13860 [==============================] - 1s 46us/step - loss: 0.0798 - accuracy: 0.9786 - val_loss: 0.3715 - val_accuracy: 0.9128\n",
      "Epoch 53/100\n",
      "13860/13860 [==============================] - 1s 39us/step - loss: 0.0786 - accuracy: 0.9787 - val_loss: 0.3776 - val_accuracy: 0.9150\n",
      "Epoch 54/100\n",
      "13860/13860 [==============================] - 0s 35us/step - loss: 0.0750 - accuracy: 0.9803 - val_loss: 0.3868 - val_accuracy: 0.9114\n",
      "Epoch 55/100\n",
      "13860/13860 [==============================] - 0s 33us/step - loss: 0.0747 - accuracy: 0.9799 - val_loss: 0.3886 - val_accuracy: 0.9114\n"
     ]
    },
    {
     "name": "stdout",
     "output_type": "stream",
     "text": [
      "Epoch 56/100\n",
      "13860/13860 [==============================] - ETA: 0s - loss: 0.0729 - accuracy: 0.98 - 0s 29us/step - loss: 0.0728 - accuracy: 0.9800 - val_loss: 0.3869 - val_accuracy: 0.9128\n",
      "Epoch 57/100\n",
      "13860/13860 [==============================] - 0s 30us/step - loss: 0.0711 - accuracy: 0.9812 - val_loss: 0.3896 - val_accuracy: 0.9101\n",
      "Epoch 58/100\n",
      "13860/13860 [==============================] - 0s 29us/step - loss: 0.0693 - accuracy: 0.9815 - val_loss: 0.3880 - val_accuracy: 0.9136\n",
      "Epoch 59/100\n",
      "13860/13860 [==============================] - 0s 28us/step - loss: 0.0678 - accuracy: 0.9815 - val_loss: 0.3830 - val_accuracy: 0.9114\n",
      "Epoch 60/100\n",
      "13860/13860 [==============================] - 0s 34us/step - loss: 0.0666 - accuracy: 0.9828 - val_loss: 0.3843 - val_accuracy: 0.9148\n",
      "Epoch 61/100\n",
      "13860/13860 [==============================] - 1s 42us/step - loss: 0.0644 - accuracy: 0.9828 - val_loss: 0.3829 - val_accuracy: 0.9145\n",
      "Epoch 62/100\n",
      "13860/13860 [==============================] - 0s 30us/step - loss: 0.0637 - accuracy: 0.9840 - val_loss: 0.3880 - val_accuracy: 0.9133\n",
      "Epoch 63/100\n",
      "13860/13860 [==============================] - 0s 30us/step - loss: 0.0627 - accuracy: 0.9841 - val_loss: 0.3899 - val_accuracy: 0.9140\n",
      "Epoch 64/100\n",
      "13860/13860 [==============================] - 0s 30us/step - loss: 0.0601 - accuracy: 0.9841 - val_loss: 0.3953 - val_accuracy: 0.9158\n",
      "Epoch 65/100\n",
      "13860/13860 [==============================] - 0s 29us/step - loss: 0.0587 - accuracy: 0.9843 - val_loss: 0.3941 - val_accuracy: 0.9136\n",
      "Epoch 66/100\n",
      "13860/13860 [==============================] - 1s 37us/step - loss: 0.0575 - accuracy: 0.9852 - val_loss: 0.3954 - val_accuracy: 0.9148\n",
      "Epoch 67/100\n",
      "13860/13860 [==============================] - 0s 29us/step - loss: 0.0567 - accuracy: 0.9848 - val_loss: 0.3954 - val_accuracy: 0.9148\n",
      "Epoch 68/100\n",
      "13860/13860 [==============================] - 0s 29us/step - loss: 0.0560 - accuracy: 0.9859 - val_loss: 0.3968 - val_accuracy: 0.9146\n",
      "Epoch 69/100\n",
      "13860/13860 [==============================] - 0s 29us/step - loss: 0.0543 - accuracy: 0.9867 - val_loss: 0.4004 - val_accuracy: 0.9152\n",
      "Epoch 70/100\n",
      "13860/13860 [==============================] - 0s 28us/step - loss: 0.0528 - accuracy: 0.9869 - val_loss: 0.4083 - val_accuracy: 0.9152\n",
      "Epoch 71/100\n",
      "13860/13860 [==============================] - 1s 42us/step - loss: 0.0521 - accuracy: 0.9867 - val_loss: 0.4025 - val_accuracy: 0.9128\n",
      "Epoch 72/100\n",
      "13860/13860 [==============================] - 0s 29us/step - loss: 0.0506 - accuracy: 0.9879 - val_loss: 0.4043 - val_accuracy: 0.9140\n",
      "Epoch 73/100\n",
      "13860/13860 [==============================] - 0s 31us/step - loss: 0.0493 - accuracy: 0.9875 - val_loss: 0.4093 - val_accuracy: 0.9141\n",
      "Epoch 74/100\n",
      "13860/13860 [==============================] - 0s 32us/step - loss: 0.0485 - accuracy: 0.9886 - val_loss: 0.4076 - val_accuracy: 0.9165\n",
      "Epoch 75/100\n",
      "13860/13860 [==============================] - 0s 29us/step - loss: 0.0467 - accuracy: 0.9890 - val_loss: 0.4072 - val_accuracy: 0.9157\n",
      "Epoch 76/100\n",
      "13860/13860 [==============================] - 0s 32us/step - loss: 0.0466 - accuracy: 0.9887 - val_loss: 0.4089 - val_accuracy: 0.9158\n",
      "Epoch 77/100\n",
      "13860/13860 [==============================] - 0s 33us/step - loss: 0.0451 - accuracy: 0.9900 - val_loss: 0.4096 - val_accuracy: 0.9175\n",
      "Epoch 78/100\n",
      "13860/13860 [==============================] - 0s 29us/step - loss: 0.0439 - accuracy: 0.9893 - val_loss: 0.4175 - val_accuracy: 0.9140\n",
      "Epoch 79/100\n",
      "13860/13860 [==============================] - 0s 29us/step - loss: 0.0435 - accuracy: 0.9898 - val_loss: 0.4120 - val_accuracy: 0.9187\n",
      "Epoch 80/100\n",
      "13860/13860 [==============================] - 0s 29us/step - loss: 0.0426 - accuracy: 0.9898 - val_loss: 0.4154 - val_accuracy: 0.9185\n",
      "Epoch 81/100\n",
      "13860/13860 [==============================] - 0s 29us/step - loss: 0.0407 - accuracy: 0.9913 - val_loss: 0.4181 - val_accuracy: 0.9165\n",
      "Epoch 82/100\n",
      "13860/13860 [==============================] - 0s 29us/step - loss: 0.0403 - accuracy: 0.9913 - val_loss: 0.4249 - val_accuracy: 0.9153\n",
      "Epoch 83/100\n",
      "13860/13860 [==============================] - 0s 30us/step - loss: 0.0390 - accuracy: 0.9913 - val_loss: 0.4203 - val_accuracy: 0.9152\n",
      "Epoch 84/100\n",
      "13860/13860 [==============================] - 0s 29us/step - loss: 0.0382 - accuracy: 0.9913 - val_loss: 0.4190 - val_accuracy: 0.9157\n",
      "Epoch 85/100\n",
      "13860/13860 [==============================] - 0s 29us/step - loss: 0.0374 - accuracy: 0.9915 - val_loss: 0.4260 - val_accuracy: 0.9158\n",
      "Epoch 86/100\n",
      "13860/13860 [==============================] - 0s 30us/step - loss: 0.0358 - accuracy: 0.9926 - val_loss: 0.4311 - val_accuracy: 0.9138\n",
      "Epoch 87/100\n",
      "13860/13860 [==============================] - 0s 30us/step - loss: 0.0362 - accuracy: 0.9924 - val_loss: 0.4254 - val_accuracy: 0.9167\n",
      "Epoch 88/100\n",
      "13860/13860 [==============================] - 0s 29us/step - loss: 0.0353 - accuracy: 0.9924 - val_loss: 0.4288 - val_accuracy: 0.9165\n",
      "Epoch 89/100\n",
      "13860/13860 [==============================] - 0s 28us/step - loss: 0.0347 - accuracy: 0.9926 - val_loss: 0.4262 - val_accuracy: 0.9173\n",
      "Epoch 90/100\n",
      "13860/13860 [==============================] - 0s 29us/step - loss: 0.0335 - accuracy: 0.9931 - val_loss: 0.4290 - val_accuracy: 0.9165\n",
      "Epoch 91/100\n",
      "13860/13860 [==============================] - 0s 32us/step - loss: 0.0333 - accuracy: 0.9929 - val_loss: 0.4311 - val_accuracy: 0.9170\n",
      "Epoch 92/100\n",
      "13860/13860 [==============================] - 0s 35us/step - loss: 0.0325 - accuracy: 0.9932 - val_loss: 0.4377 - val_accuracy: 0.9152\n",
      "Epoch 93/100\n",
      "13860/13860 [==============================] - 0s 34us/step - loss: 0.0311 - accuracy: 0.9939 - val_loss: 0.4372 - val_accuracy: 0.9180\n",
      "Epoch 94/100\n",
      "13860/13860 [==============================] - 0s 30us/step - loss: 0.0305 - accuracy: 0.9940 - val_loss: 0.4429 - val_accuracy: 0.9167\n",
      "Epoch 95/100\n",
      "13860/13860 [==============================] - 0s 32us/step - loss: 0.0301 - accuracy: 0.9937 - val_loss: 0.4455 - val_accuracy: 0.9157\n",
      "Epoch 96/100\n",
      "13860/13860 [==============================] - 0s 30us/step - loss: 0.0298 - accuracy: 0.9942 - val_loss: 0.4416 - val_accuracy: 0.9165\n",
      "Epoch 97/100\n",
      "13860/13860 [==============================] - 0s 34us/step - loss: 0.0284 - accuracy: 0.9945 - val_loss: 0.4472 - val_accuracy: 0.9172\n",
      "Epoch 98/100\n",
      "13860/13860 [==============================] - 1s 38us/step - loss: 0.0279 - accuracy: 0.9949 - val_loss: 0.4466 - val_accuracy: 0.9173\n",
      "Epoch 99/100\n",
      "13860/13860 [==============================] - 0s 32us/step - loss: 0.0276 - accuracy: 0.9947 - val_loss: 0.4491 - val_accuracy: 0.9167\n",
      "Epoch 100/100\n",
      "13860/13860 [==============================] - 0s 30us/step - loss: 0.0268 - accuracy: 0.9950 - val_loss: 0.4480 - val_accuracy: 0.9180\n"
     ]
    }
   ],
   "source": [
    "model = mlp_model()\n",
    "history = model.fit(X_train, y_train,batch_size = 64, validation_split = 0.3, epochs = 100, verbose = 1)"
   ]
  },
  {
   "cell_type": "code",
   "execution_count": 73,
   "metadata": {},
   "outputs": [
    {
     "data": {
      "text/plain": [
       "<function dict.keys>"
      ]
     },
     "execution_count": 73,
     "metadata": {},
     "output_type": "execute_result"
    }
   ],
   "source": [
    "history.history.keys"
   ]
  },
  {
   "cell_type": "code",
   "execution_count": 0,
   "metadata": {
    "colab": {},
    "colab_type": "code",
    "id": "nAZLSNLQBx0w",
    "outputId": "d917ed89-265e-4d9a-c094-0f28ef6c78bb"
   },
   "outputs": [
    {
     "data": {
      "image/png": "[encoded data removed]",
      "text/plain": [
       "<matplotlib.figure.Figure at 0x1f06255c3c8>"
      ]
     },
     "metadata": {
      "tags": []
     },
     "output_type": "display_data"
    }
   ],
   "source": [
    "plt.plot(history.history['acc'])\n",
    "plt.plot(history.history['val_acc'])\n",
    "plt.legend(['training', 'validation'], loc = 'upper left')\n",
    "plt.show()"
   ]
  },
  {
   "cell_type": "markdown",
   "metadata": {
    "colab_type": "text",
    "id": "Foav8zKLBx00"
   },
   "source": [
    "Training and validation accuracy improve instantaneously, but reach a plateau after around 30 epochs"
   ]
  },
  {
   "cell_type": "code",
   "execution_count": 0,
   "metadata": {
    "colab": {},
    "colab_type": "code",
    "id": "PpKzLq6rBx02",
    "outputId": "09c63054-6285-447b-80d6-56c5786ffe37"
   },
   "outputs": [
    {
     "name": "stdout",
     "output_type": "stream",
     "text": [
      " 9376/10000 [===========================>..] - ETA: 0s"
     ]
    }
   ],
   "source": [
    "results = model.evaluate(X_test, y_test)"
   ]
  },
  {
   "cell_type": "code",
   "execution_count": 0,
   "metadata": {
    "colab": {},
    "colab_type": "code",
    "id": "_UpKbJx3Bx06",
    "outputId": "61bc07f4-3020-4a9d-ef49-23d7ad36afee"
   },
   "outputs": [
    {
     "name": "stdout",
     "output_type": "stream",
     "text": [
      "Test accuracy:  0.9208\n"
     ]
    }
   ],
   "source": [
    "print('Test accuracy: ', results[1])"
   ]
  },
  {
   "cell_type": "markdown",
   "metadata": {
    "colab_type": "text",
    "id": "z8H007NHBx0-"
   },
   "source": [
    "## 3. Optimizers\n",
    "- Many variants of SGD are proposed and employed nowadays\n",
    "- One of the most popular ones are Adam (Adaptive Moment Estimation)\n"
   ]
  },
  {
   "cell_type": "markdown",
   "metadata": {
    "colab_type": "text",
    "id": "SFSjlUdhBx0-"
   },
   "source": [
    "<img src=\"http://cs231n.github.io/assets/nn3/opt2.gif\" style=\"width: 400px\"/>\n",
    "<br><center> **Relative convergence speed of different optimizers** </center></br>"
   ]
  },
  {
   "cell_type": "markdown",
   "metadata": {
    "colab_type": "text",
    "id": "YlEaL8oYBx1A"
   },
   "source": [
    "\n",
    "#### Batch gradient descent  ## taking entire data at once\n",
    "<math xmlns=\"http://www.w3.org/1998/Math/MathML\">\n",
    "  <mi>&#x03B8;<!-- θ --></mi>\n",
    "  <mo>=</mo>\n",
    "  <mi>&#x03B8;<!-- θ --></mi>\n",
    "  <mo>&#x2212;<!-- − --></mo>\n",
    "  <mi>&#x03B7;<!-- η --></mi>\n",
    "  <mo>&#x22C5;<!-- ⋅ --></mo>\n",
    "  <msub>\n",
    "    <mi mathvariant=\"normal\">&#x2207;<!-- ∇ --></mi>\n",
    "    <mi>&#x03B8;<!-- θ --></mi>\n",
    "  </msub>\n",
    "  <mi>J</mi>\n",
    "  <mo stretchy=\"false\">(</mo>\n",
    "  <mi>&#x03B8;<!-- θ --></mi>\n",
    "  <mo stretchy=\"false\">)</mo>\n",
    "</math>\n",
    "\n",
    "\n",
    "#### Stochastic gradient descent ## taking one row at a time ( one record at a time)\n",
    "<math xmlns=\"http://www.w3.org/1998/Math/MathML\">\n",
    "  <mi>&#x03B8;<!-- θ --></mi>\n",
    "  <mo>=</mo>\n",
    "  <mi>&#x03B8;<!-- θ --></mi>\n",
    "  <mo>&#x2212;<!-- − --></mo>\n",
    "  <mi>&#x03B7;<!-- η --></mi>\n",
    "  <mo>&#x22C5;<!-- ⋅ --></mo>\n",
    "  <msub>\n",
    "    <mi mathvariant=\"normal\">&#x2207;<!-- ∇ --></mi>\n",
    "    <mi>&#x03B8;<!-- θ --></mi>\n",
    "  </msub>\n",
    "  <mi>J</mi>\n",
    "  <mo stretchy=\"false\">(</mo>\n",
    "  <mi>&#x03B8;<!-- θ --></mi>\n",
    "  <mo>;</mo>\n",
    "  <msup>\n",
    "    <mi>x</mi>\n",
    "    <mrow class=\"MJX-TeXAtom-ORD\">\n",
    "      <mo stretchy=\"false\">(</mo>\n",
    "      <mi>i</mi>\n",
    "      <mo stretchy=\"false\">)</mo>\n",
    "    </mrow>\n",
    "  </msup>\n",
    "  <mo>;</mo>\n",
    "  <msup>\n",
    "    <mi>y</mi>\n",
    "    <mrow class=\"MJX-TeXAtom-ORD\">\n",
    "      <mo stretchy=\"false\">(</mo>\n",
    "      <mi>i</mi>\n",
    "      <mo stretchy=\"false\">)</mo>\n",
    "    </mrow>\n",
    "  </msup>\n",
    "  <mo stretchy=\"false\">)</mo>\n",
    "</math>\n",
    "\n",
    "#### Mini-batch gradient descent ## taking a batch at a time \n",
    "<math xmlns=\"http://www.w3.org/1998/Math/MathML\">\n",
    "  <mi>&#x03B8;<!-- θ --></mi>\n",
    "  <mo>=</mo>\n",
    "  <mi>&#x03B8;<!-- θ --></mi>\n",
    "  <mo>&#x2212;<!-- − --></mo>\n",
    "  <mi>&#x03B7;<!-- η --></mi>\n",
    "  <mo>&#x22C5;<!-- ⋅ --></mo>\n",
    "  <msub>\n",
    "    <mi mathvariant=\"normal\">&#x2207;<!-- ∇ --></mi>\n",
    "    <mi>&#x03B8;<!-- θ --></mi>\n",
    "  </msub>\n",
    "  <mi>J</mi>\n",
    "  <mo stretchy=\"false\">(</mo>\n",
    "  <mi>&#x03B8;<!-- θ --></mi>\n",
    "  <mo>;</mo>\n",
    "  <msup>\n",
    "    <mi>x</mi>\n",
    "    <mrow class=\"MJX-TeXAtom-ORD\">\n",
    "      <mo stretchy=\"false\">(</mo>\n",
    "      <mi>i</mi>\n",
    "      <mo>:</mo>\n",
    "      <mi>i</mi>\n",
    "      <mo>+</mo>\n",
    "      <mi>n</mi>\n",
    "      <mo stretchy=\"false\">)</mo>\n",
    "    </mrow>\n",
    "  </msup>\n",
    "  <mo>;</mo>\n",
    "  <msup>\n",
    "    <mi>y</mi>\n",
    "    <mrow class=\"MJX-TeXAtom-ORD\">\n",
    "      <mo stretchy=\"false\">(</mo>\n",
    "      <mi>i</mi>\n",
    "      <mo>:</mo>\n",
    "      <mi>i</mi>\n",
    "      <mo>+</mo>\n",
    "      <mi>n</mi>\n",
    "      <mo stretchy=\"false\">)</mo>\n",
    "    </mrow>\n",
    "  </msup>\n",
    "  <mo stretchy=\"false\">)</mo>\n",
    "</math>\n",
    "\n",
    "#### ADAM  Adaptive Moment Estimation\n",
    "\\begin{align} \n",
    "\\begin{split} \n",
    "m_t &= \\beta_1 m_{t-1} + (1 - \\beta_1) g_t \\\\ \n",
    "v_t &= \\beta_2 v_{t-1} + (1 - \\beta_2) g_t^2 \n",
    "\\end{split} \n",
    "\\end{align}"
   ]
  },
  {
   "cell_type": "markdown",
   "metadata": {
    "colab_type": "text",
    "id": "lRcEAv2pBx1B"
   },
   "source": [
    "In summary, RMSprop is an extension of Adagrad that deals with its radically diminishing learning rates. It is identical to Adadelta, except that Adadelta uses the RMS of parameter updates in the numinator update rule. Adam, finally, adds bias-correction and momentum to RMSprop. Insofar, RMSprop, Adadelta, and Adam are very similar algorithms that do well in similar circumstances. Insofar, Adam might be the best overall choice. ## read this for more details https://ruder.io/optimizing-gradient-descent/index.html#gradientdescentvariants"
   ]
  },
  {
   "cell_type": "markdown",
   "metadata": {
    "colab_type": "text",
    "id": "IE2puFwABx1C"
   },
   "source": [
    "Adam stands for adaptive moment estimation, and is another way of using past gradients to calculate current gradients. Adam also utilizes the concept of momentum by adding fractions of previous gradients to the current one. This optimizer has become pretty widespread, and is practically accepted for use in training neural nets.\n",
    "\n",
    "It’s easy to get lost in the complexity of some of these new optimizers. Just remember that they all have the same goal: minimizing our loss function. Even the most complex ways of doing that are simple at their core."
   ]
  },
  {
   "cell_type": "code",
   "execution_count": 0,
   "metadata": {
    "colab": {},
    "colab_type": "code",
    "id": "WIs5xyOWBx1D"
   },
   "outputs": [],
   "source": []
  },
  {
   "cell_type": "code",
   "execution_count": 0,
   "metadata": {
    "colab": {},
    "colab_type": "code",
    "id": "_HtKQ9oeBx1G"
   },
   "outputs": [],
   "source": []
  },
  {
   "cell_type": "code",
   "execution_count": 0,
   "metadata": {
    "colab": {},
    "colab_type": "code",
    "collapsed": true,
    "id": "XwBwYq3GBx1K"
   },
   "outputs": [],
   "source": [
    "def mlp_model():\n",
    "    model = Sequential()\n",
    "    \n",
    "    model.add(Dense(50, input_shape = (784, )))\n",
    "    model.add(Activation('sigmoid'))    \n",
    "    model.add(Dense(50))\n",
    "    model.add(Activation('sigmoid'))  \n",
    "    model.add(Dense(50))\n",
    "    model.add(Activation('sigmoid'))    \n",
    "    model.add(Dense(50))\n",
    "    model.add(Activation('sigmoid'))    \n",
    "    model.add(Dense(10))\n",
    "    model.add(Activation('softmax'))\n",
    "    \n",
    "    adam = optimizers.Adam(lr = 0.001)                     # use Adam optimizer\n",
    "    model.compile(optimizer = adam, loss = 'categorical_crossentropy', metrics = ['accuracy'])\n",
    "    \n",
    "    return model"
   ]
  },
  {
   "cell_type": "code",
   "execution_count": 0,
   "metadata": {
    "colab": {},
    "colab_type": "code",
    "collapsed": true,
    "id": "_OZnx2yxBx1P"
   },
   "outputs": [],
   "source": [
    "model = mlp_model()\n",
    "history = model.fit(X_train, y_train, validation_split = 0.3, epochs = 100, verbose = 0)"
   ]
  },
  {
   "cell_type": "code",
   "execution_count": 0,
   "metadata": {
    "colab": {},
    "colab_type": "code",
    "id": "LSvNvjMuBx1U",
    "outputId": "ee0e6d4d-e3c9-4aa7-e3ae-30c9d5ed848a"
   },
   "outputs": [
    {
     "data": {
      "image/png": "[encoded data removed]",
      "text/plain": [
       "<matplotlib.figure.Figure at 0x1f06c53e780>"
      ]
     },
     "metadata": {
      "tags": []
     },
     "output_type": "display_data"
    }
   ],
   "source": [
    "plt.plot(history.history['acc'])\n",
    "plt.plot(history.history['val_acc'])\n",
    "plt.legend(['training', 'validation'], loc = 'upper left')\n",
    "plt.show()"
   ]
  },
  {
   "cell_type": "markdown",
   "metadata": {
    "colab_type": "text",
    "id": "2oDxNyi5Bx1Y"
   },
   "source": [
    "Training and validation accuracy improve instantaneously, but reach plateau after around 50 epochs"
   ]
  },
  {
   "cell_type": "code",
   "execution_count": 74,
   "metadata": {
    "colab": {},
    "colab_type": "code",
    "id": "xRW7zbajBx1Z",
    "outputId": "fb7e10f2-b105-4f62-8547-348d839b7717"
   },
   "outputs": [
    {
     "name": "stdout",
     "output_type": "stream",
     "text": [
      "10000/10000 [==============================] - 0s 25us/step\n"
     ]
    }
   ],
   "source": [
    "results = model.evaluate(X_test, y_test)"
   ]
  },
  {
   "cell_type": "code",
   "execution_count": 75,
   "metadata": {
    "colab": {},
    "colab_type": "code",
    "id": "WmqwcaqzBx1r",
    "outputId": "594b8689-57e6-49a5-e1d4-c4e8277d2dee"
   },
   "outputs": [
    {
     "name": "stdout",
     "output_type": "stream",
     "text": [
      "Test accuracy:  0.9128000140190125\n"
     ]
    }
   ],
   "source": [
    "print('Test accuracy: ', results[1])"
   ]
  },
  {
   "cell_type": "markdown",
   "metadata": {
    "colab_type": "text",
    "id": "1MqNI6nTBx1w"
   },
   "source": [
    "## 4. Batch Normalization\n",
    "- Batch Normalization, one of the methods to prevent the \"internal covariance shift\" problem, has proven to be highly effective\n",
    "- Normalize each mini-batch before nonlinearity\n",
    "- Doc: https://keras.io/optimizers/"
   ]
  },
  {
   "cell_type": "markdown",
   "metadata": {
    "colab_type": "text",
    "id": "sEdzRma8Bx1y"
   },
   "source": [
    "<img src=\"https://raw.githubusercontent.com/torch/torch.github.io/master/blog/_posts/images/resnets_modelvariants.png\" style=\"width: 500px\"/>\n",
    "\n",
    "<br> Batch normalization layer is usually inserted after dense/convolution and before nonlinearity"
   ]
  },
  {
   "cell_type": "code",
   "execution_count": 0,
   "metadata": {
    "colab": {},
    "colab_type": "code",
    "collapsed": true,
    "id": "0AlGpgYqBx1z"
   },
   "outputs": [],
   "source": [
    "from keras.layers import BatchNormalization"
   ]
  },
  {
   "cell_type": "code",
   "execution_count": 0,
   "metadata": {
    "colab": {},
    "colab_type": "code",
    "collapsed": true,
    "id": "ZGOa5bV9Bx13"
   },
   "outputs": [],
   "source": [
    "def mlp_model():\n",
    "    model = Sequential()\n",
    "    \n",
    "    model.add(Dense(50, input_shape = (784, )))\n",
    "    model.add(BatchNormalization())                    # Add Batchnorm layer before Activation\n",
    "    model.add(Activation('sigmoid'))    \n",
    "    model.add(Dense(50))\n",
    "    model.add(BatchNormalization())                    # Add Batchnorm layer before Activation\n",
    "    model.add(Activation('sigmoid'))    \n",
    "    model.add(Dense(50))\n",
    "    model.add(BatchNormalization())                    # Add Batchnorm layer before Activation\n",
    "    model.add(Activation('sigmoid'))    \n",
    "    model.add(Dense(50))\n",
    "    model.add(BatchNormalization())                    # Add Batchnorm layer before Activation\n",
    "    model.add(Activation('sigmoid'))    \n",
    "    model.add(Dense(10))\n",
    "    model.add(Activation('softmax'))\n",
    "    \n",
    "    sgd = optimizers.SGD(lr = 0.001)\n",
    "    model.compile(optimizer = sgd, loss = 'categorical_crossentropy', metrics = ['accuracy'])\n",
    "    \n",
    "    return model"
   ]
  },
  {
   "cell_type": "code",
   "execution_count": 0,
   "metadata": {
    "colab": {},
    "colab_type": "code",
    "collapsed": true,
    "id": "DvHECwpbBx17"
   },
   "outputs": [],
   "source": [
    "model = mlp_model()\n",
    "history = model.fit(X_train, y_train, validation_split = 0.3, epochs = 100, verbose = 0)"
   ]
  },
  {
   "cell_type": "code",
   "execution_count": 0,
   "metadata": {
    "colab": {},
    "colab_type": "code",
    "id": "sOIWKHlsBx2B",
    "outputId": "27416964-6417-47a1-a32a-b7f4c09c3ac1"
   },
   "outputs": [
    {
     "data": {
      "image/png": "[encoded data removed]",
      "text/plain": [
       "<matplotlib.figure.Figure at 0x1f06eac0d30>"
      ]
     },
     "metadata": {
      "tags": []
     },
     "output_type": "display_data"
    }
   ],
   "source": [
    "plt.plot(history.history['acc'])\n",
    "plt.plot(history.history['val_acc'])\n",
    "plt.legend(['training', 'validation'], loc = 'upper left')\n",
    "plt.show()"
   ]
  },
  {
   "cell_type": "markdown",
   "metadata": {
    "colab_type": "text",
    "id": "sMrjanraBx2F"
   },
   "source": [
    "Training and validation accuracy improve consistently, but reach plateau after around 60 epochs"
   ]
  },
  {
   "cell_type": "code",
   "execution_count": 0,
   "metadata": {
    "colab": {},
    "colab_type": "code",
    "id": "UVSyymzRBx2H",
    "outputId": "5060eb10-57de-45a5-db36-98b7374bc514"
   },
   "outputs": [
    {
     "name": "stdout",
     "output_type": "stream",
     "text": [
      " 9504/10000 [===========================>..] - ETA: 0s"
     ]
    }
   ],
   "source": [
    "results = model.evaluate(X_test, y_test)"
   ]
  },
  {
   "cell_type": "code",
   "execution_count": 0,
   "metadata": {
    "colab": {},
    "colab_type": "code",
    "id": "4LENFHmkBx2J",
    "outputId": "532f5392-54c9-41b7-cd6f-47ce703f3e0e"
   },
   "outputs": [
    {
     "name": "stdout",
     "output_type": "stream",
     "text": [
      "Test accuracy:  0.9154\n"
     ]
    }
   ],
   "source": [
    "print('Test accuracy: ', results[1])"
   ]
  },
  {
   "cell_type": "markdown",
   "metadata": {
    "colab_type": "text",
    "id": "694SSjtxBx2N"
   },
   "source": [
    "## 5. Dropout (Regularization)\n",
    "- Dropout is one of powerful ways to prevent overfitting\n",
    "- The idea is simple. It is disconnecting some (randomly selected) neurons in each layer\n",
    "- The probability of each neuron to be disconnected, namely 'Dropout rate', has to be designated\n",
    "- Doc: https://keras.io/layers/core/#dropout"
   ]
  },
  {
   "cell_type": "markdown",
   "metadata": {
    "colab_type": "text",
    "id": "qSBxqPMRBx2O"
   },
   "source": [
    "<img src=\"https://image.slidesharecdn.com/lecture29-convolutionalneuralnetworks-visionspring2015-150504114140-conversion-gate02/95/lecture-29-convolutional-neural-networks-computer-vision-spring2015-62-638.jpg?cb=1430740006\" style=\"width: 500px\"/>"
   ]
  },
  {
   "cell_type": "code",
   "execution_count": 0,
   "metadata": {
    "colab": {},
    "colab_type": "code",
    "collapsed": true,
    "id": "CzFbLt6fBx2P"
   },
   "outputs": [],
   "source": [
    "from keras.layers import Dropout"
   ]
  },
  {
   "cell_type": "code",
   "execution_count": 0,
   "metadata": {
    "colab": {},
    "colab_type": "code",
    "collapsed": true,
    "id": "I3_FdyolBx2S"
   },
   "outputs": [],
   "source": [
    "def mlp_model():\n",
    "    model = Sequential()\n",
    "    \n",
    "    model.add(Dense(50, input_shape = (784, )))\n",
    "    model.add(Activation('sigmoid'))    \n",
    "    model.add(Dropout(0.2))                        # Dropout layer after Activation\n",
    "    model.add(Dense(50))\n",
    "    model.add(Activation('sigmoid'))\n",
    "    model.add(Dropout(0.2))                        # Dropout layer after Activation\n",
    "    model.add(Dense(50))\n",
    "    model.add(Activation('sigmoid'))    \n",
    "    model.add(Dropout(0.2))                        # Dropout layer after Activation\n",
    "    model.add(Dense(50))\n",
    "    model.add(Activation('sigmoid'))    \n",
    "    model.add(Dropout(0.2))                         # Dropout layer after Activation\n",
    "    model.add(Dense(10))\n",
    "    model.add(Activation('softmax'))\n",
    "    \n",
    "    sgd = optimizers.SGD(lr = 0.001)\n",
    "    model.compile(optimizer = sgd, loss = 'categorical_crossentropy', metrics = ['accuracy'])\n",
    "    \n",
    "    return model"
   ]
  },
  {
   "cell_type": "code",
   "execution_count": 0,
   "metadata": {
    "colab": {},
    "colab_type": "code",
    "collapsed": true,
    "id": "tUaOc70wBx2U"
   },
   "outputs": [],
   "source": [
    "model = mlp_model()\n",
    "history = model.fit(X_train, y_train, validation_split = 0.3, epochs = 100, verbose = 0)"
   ]
  },
  {
   "cell_type": "code",
   "execution_count": 0,
   "metadata": {
    "colab": {},
    "colab_type": "code",
    "id": "Aq8ZEnbDBx2Y",
    "outputId": "b9aac319-2224-44c9-8eaa-11cd8f629a20"
   },
   "outputs": [
    {
     "data": {
      "image/png": "[encoded data removed]",
      "text/plain": [
       "<matplotlib.figure.Figure at 0x1f06ec32940>"
      ]
     },
     "metadata": {
      "tags": []
     },
     "output_type": "display_data"
    }
   ],
   "source": [
    "plt.plot(history.history['acc'])\n",
    "plt.plot(history.history['val_acc'])\n",
    "plt.legend(['training', 'validation'], loc = 'upper left')\n",
    "plt.show()"
   ]
  },
  {
   "cell_type": "markdown",
   "metadata": {
    "colab_type": "text",
    "id": "rH9cbdi0Bx2a"
   },
   "source": [
    "Validation results does not improve since it did not show signs of overfitting, yet.\n",
    "<br> Hence, the key takeaway message is that apply dropout when you see a signal of overfitting."
   ]
  },
  {
   "cell_type": "code",
   "execution_count": 0,
   "metadata": {
    "colab": {},
    "colab_type": "code",
    "id": "lRUT4QGABx2c",
    "outputId": "6df4d1d9-cc79-4c9a-d4ae-5abc408076b8"
   },
   "outputs": [
    {
     "name": "stdout",
     "output_type": "stream",
     "text": [
      " 9952/10000 [============================>.] - ETA: 0s"
     ]
    }
   ],
   "source": [
    "results = model.evaluate(X_test, y_test)"
   ]
  },
  {
   "cell_type": "code",
   "execution_count": 0,
   "metadata": {
    "colab": {},
    "colab_type": "code",
    "id": "LrRoCCSEBx2g",
    "outputId": "d461bff9-80f3-4569-df55-8e64fc50ec61"
   },
   "outputs": [
    {
     "name": "stdout",
     "output_type": "stream",
     "text": [
      "Test accuracy:  0.1135\n"
     ]
    }
   ],
   "source": [
    "print('Test accuracy: ', results[1])"
   ]
  },
  {
   "cell_type": "markdown",
   "metadata": {
    "colab_type": "text",
    "id": "iAabZoJ5Bx2j"
   },
   "source": [
    "## 6. Model Ensemble\n",
    "- Model ensemble is a reliable and promising way to boost performance of the model\n",
    "- Usually create 8 to 10 independent networks and merge their results\n",
    "- Here, we resort to scikit-learn API, **VotingClassifier**\n",
    "- Doc: http://scikit-learn.org/stable/modules/generated/sklearn.ensemble.VotingClassifier.html"
   ]
  },
  {
   "cell_type": "markdown",
   "metadata": {
    "colab_type": "text",
    "id": "oKr5kaCVBx2j"
   },
   "source": [
    "<img src=\"https://encrypted-tbn0.gstatic.com/images?q=tbn:ANd9GcRs1CBSEtpp5yj6SJ5K_nHd1FNfyEYa9KLjWfoMY_v7ARTq3tdpVw\" style=\"width: 300px\"/>"
   ]
  },
  {
   "cell_type": "code",
   "execution_count": 0,
   "metadata": {
    "colab": {},
    "colab_type": "code",
    "collapsed": true,
    "id": "IK_xMXaLBx2l"
   },
   "outputs": [],
   "source": [
    "import numpy as np\n",
    "\n",
    "from keras.wrappers.scikit_learn import KerasClassifier\n",
    "from sklearn.ensemble import VotingClassifier\n",
    "from sklearn.metrics import accuracy_score"
   ]
  },
  {
   "cell_type": "code",
   "execution_count": 0,
   "metadata": {
    "colab": {},
    "colab_type": "code",
    "collapsed": true,
    "id": "NvpDzozZBx2o"
   },
   "outputs": [],
   "source": [
    "y_train = np.argmax(y_train, axis = 1)\n",
    "y_test = np.argmax(y_test, axis = 1)"
   ]
  },
  {
   "cell_type": "code",
   "execution_count": 0,
   "metadata": {
    "colab": {},
    "colab_type": "code",
    "collapsed": true,
    "id": "SSO8ZeBSBx2r"
   },
   "outputs": [],
   "source": [
    "def mlp_model():\n",
    "    model = Sequential()\n",
    "    \n",
    "    model.add(Dense(50, input_shape = (784, )))\n",
    "    model.add(Activation('sigmoid'))    \n",
    "    model.add(Dense(50))\n",
    "    model.add(Activation('sigmoid'))    \n",
    "    model.add(Dense(50))\n",
    "    model.add(Activation('sigmoid'))    \n",
    "    model.add(Dense(50))\n",
    "    model.add(Activation('sigmoid'))    \n",
    "    model.add(Dense(10))\n",
    "    model.add(Activation('softmax'))\n",
    "    \n",
    "    sgd = optimizers.SGD(lr = 0.001)\n",
    "    model.compile(optimizer = sgd, loss = 'categorical_crossentropy', metrics = ['accuracy'])\n",
    "    \n",
    "    return model"
   ]
  },
  {
   "cell_type": "code",
   "execution_count": 0,
   "metadata": {
    "colab": {},
    "colab_type": "code",
    "collapsed": true,
    "id": "uNLPkFQ4Bx2y"
   },
   "outputs": [],
   "source": [
    "model1 = KerasClassifier(build_fn = mlp_model, epochs = 100, verbose = 0)\n",
    "model2 = KerasClassifier(build_fn = mlp_model, epochs = 100, verbose = 0)\n",
    "model3 = KerasClassifier(build_fn = mlp_model, epochs = 100, verbose = 0)"
   ]
  },
  {
   "cell_type": "code",
   "execution_count": 0,
   "metadata": {
    "colab": {},
    "colab_type": "code",
    "collapsed": true,
    "id": "Tz4RwtmuBx21"
   },
   "outputs": [],
   "source": [
    "ensemble_clf = VotingClassifier(estimators = [('model1', model1), ('model2', model2), ('model3', model3)], voting = 'soft')"
   ]
  },
  {
   "cell_type": "code",
   "execution_count": 0,
   "metadata": {
    "colab": {},
    "colab_type": "code",
    "collapsed": true,
    "id": "vxh9L4WVBx23"
   },
   "outputs": [],
   "source": [
    "ensemble_clf.fit(X_train, y_train)"
   ]
  },
  {
   "cell_type": "code",
   "execution_count": 0,
   "metadata": {
    "colab": {},
    "colab_type": "code",
    "id": "ZunN7K5kBx26",
    "outputId": "7cc99bf6-06b4-42d7-c56d-2c4edde36ca8"
   },
   "outputs": [
    {
     "name": "stdout",
     "output_type": "stream",
     "text": [
      " 9088/10000 [==========================>...] - ETA: 0s"
     ]
    }
   ],
   "source": [
    "y_pred = ensemble_clf.predict(X_test)"
   ]
  },
  {
   "cell_type": "code",
   "execution_count": 0,
   "metadata": {
    "colab": {},
    "colab_type": "code",
    "id": "0Y7bWNdIBx29",
    "outputId": "cf141642-f97b-4af6-ecf2-84ed69db5233"
   },
   "outputs": [
    {
     "name": "stdout",
     "output_type": "stream",
     "text": [
      "Test accuracy: 0.3045\n"
     ]
    }
   ],
   "source": [
    "print('Test accuracy:', accuracy_score(y_pred, y_test))"
   ]
  },
  {
   "cell_type": "markdown",
   "metadata": {
    "colab_type": "text",
    "id": "Z-tUyDL0Bx3A"
   },
   "source": [
    "Slight boost in the test accuracy from the outset **(0.2144 => 0.3045)**"
   ]
  },
  {
   "cell_type": "markdown",
   "metadata": {
    "colab_type": "text",
    "id": "17fRgJNcBx3B"
   },
   "source": [
    "## Summary\n",
    "\n",
    "|Model           | Naive Model | He normal  | Relu        | Adam        | Batchnorm  | Dropout   | Ensemble   |\n",
    "|----------------|-------------|------------|-------------|-------------|------------|-----------|------------|\n",
    "|Test Accuracy   | 0.2144      | 0.4105     | 0.9208      | 0.9248      | 0.9154     | 0.1135    | 0.3045     |\n",
    "\n",
    "<br>\n",
    "It turns out that most methods improve the model training & test performance.\n",
    "Why don't try them out altogether?"
   ]
  }
 ],
 "metadata": {
  "colab": {
   "name": "Advanced-ANN.ipynb",
   "provenance": []
  },
  "kernelspec": {
   "display_name": "Python 3",
   "language": "python",
   "name": "python3"
  },
  "language_info": {
   "codemirror_mode": {
    "name": "ipython",
    "version": 3
   },
   "file_extension": ".py",
   "mimetype": "text/x-python",
   "name": "python",
   "nbconvert_exporter": "python",
   "pygments_lexer": "ipython3",
   "version": "3.8.5"
  }
 },
 "nbformat": 4,
 "nbformat_minor": 1
}
