{
 "cells": [
  {
   "cell_type": "code",
   "execution_count": 1,
   "metadata": {},
   "outputs": [],
   "source": [
    "import numpy as np\n",
    "import matplotlib.pyplot as plt\n",
    "import pandas as pd\n",
    "import os\n",
    "os.chdir(\"C:\\\\Users\\\\Adhvaidh\\\\Desktop\\\\DL deployment\")\n",
    "ds = pd.read_csv(\"GBP_INR train.csv\")"
   ]
  },
  {
   "cell_type": "code",
   "execution_count": 2,
   "metadata": {},
   "outputs": [
    {
     "data": {
      "text/html": [
       "<div>\n",
       "<style scoped>\n",
       "    .dataframe tbody tr th:only-of-type {\n",
       "        vertical-align: middle;\n",
       "    }\n",
       "\n",
       "    .dataframe tbody tr th {\n",
       "        vertical-align: top;\n",
       "    }\n",
       "\n",
       "    .dataframe thead th {\n",
       "        text-align: right;\n",
       "    }\n",
       "</style>\n",
       "<table border=\"1\" class=\"dataframe\">\n",
       "  <thead>\n",
       "    <tr style=\"text-align: right;\">\n",
       "      <th></th>\n",
       "      <th>Date</th>\n",
       "      <th>Price</th>\n",
       "      <th>Open</th>\n",
       "      <th>High</th>\n",
       "      <th>Low</th>\n",
       "      <th>Change %</th>\n",
       "    </tr>\n",
       "  </thead>\n",
       "  <tbody>\n",
       "    <tr>\n",
       "      <th>0</th>\n",
       "      <td>May 15, 2002</td>\n",
       "      <td>71.575</td>\n",
       "      <td>70.929</td>\n",
       "      <td>71.575</td>\n",
       "      <td>70.802</td>\n",
       "      <td>0.78%</td>\n",
       "    </tr>\n",
       "    <tr>\n",
       "      <th>1</th>\n",
       "      <td>May 16, 2002</td>\n",
       "      <td>71.356</td>\n",
       "      <td>71.462</td>\n",
       "      <td>71.764</td>\n",
       "      <td>71.159</td>\n",
       "      <td>-0.31%</td>\n",
       "    </tr>\n",
       "    <tr>\n",
       "      <th>2</th>\n",
       "      <td>May 17, 2002</td>\n",
       "      <td>71.405</td>\n",
       "      <td>71.252</td>\n",
       "      <td>71.666</td>\n",
       "      <td>71.198</td>\n",
       "      <td>0.07%</td>\n",
       "    </tr>\n",
       "    <tr>\n",
       "      <th>3</th>\n",
       "      <td>May 20, 2002</td>\n",
       "      <td>71.478</td>\n",
       "      <td>71.510</td>\n",
       "      <td>71.811</td>\n",
       "      <td>71.320</td>\n",
       "      <td>0.10%</td>\n",
       "    </tr>\n",
       "    <tr>\n",
       "      <th>4</th>\n",
       "      <td>May 21, 2002</td>\n",
       "      <td>71.475</td>\n",
       "      <td>71.398</td>\n",
       "      <td>71.607</td>\n",
       "      <td>71.061</td>\n",
       "      <td>0.00%</td>\n",
       "    </tr>\n",
       "  </tbody>\n",
       "</table>\n",
       "</div>"
      ],
      "text/plain": [
       "           Date   Price    Open    High     Low Change %\n",
       "0  May 15, 2002  71.575  70.929  71.575  70.802    0.78%\n",
       "1  May 16, 2002  71.356  71.462  71.764  71.159   -0.31%\n",
       "2  May 17, 2002  71.405  71.252  71.666  71.198    0.07%\n",
       "3  May 20, 2002  71.478  71.510  71.811  71.320    0.10%\n",
       "4  May 21, 2002  71.475  71.398  71.607  71.061    0.00%"
      ]
     },
     "execution_count": 2,
     "metadata": {},
     "output_type": "execute_result"
    }
   ],
   "source": [
    "ds.head()"
   ]
  },
  {
   "cell_type": "code",
   "execution_count": 3,
   "metadata": {},
   "outputs": [
    {
     "data": {
      "text/plain": [
       "array([[ 71.575],\n",
       "       [ 71.356],\n",
       "       [ 71.405],\n",
       "       ...,\n",
       "       [102.115],\n",
       "       [102.41 ],\n",
       "       [102.421]])"
      ]
     },
     "execution_count": 3,
     "metadata": {},
     "output_type": "execute_result"
    }
   ],
   "source": [
    "ds = ds.iloc[:, 1:2].values\n",
    "ds"
   ]
  },
  {
   "cell_type": "code",
   "execution_count": 4,
   "metadata": {},
   "outputs": [],
   "source": [
    "from sklearn.preprocessing import MinMaxScaler\n",
    "sc = MinMaxScaler(feature_range = (0, 1))\n",
    "ds_sc = sc.fit_transform(ds)"
   ]
  },
  {
   "cell_type": "code",
   "execution_count": 5,
   "metadata": {},
   "outputs": [],
   "source": [
    "X_train = []\n",
    "y_train = []\n",
    "for i in range(60, len(ds_sc)):\n",
    "    X_train.append(ds_sc[i-60:i, 0])\n",
    "    y_train.append(ds_sc[i, 0])\n",
    "X_train, y_train = np.array(X_train), np.array(y_train)"
   ]
  },
  {
   "cell_type": "code",
   "execution_count": 6,
   "metadata": {},
   "outputs": [
    {
     "data": {
      "text/plain": [
       "(4906, 60)"
      ]
     },
     "execution_count": 6,
     "metadata": {},
     "output_type": "execute_result"
    }
   ],
   "source": [
    "X_train.shape"
   ]
  },
  {
   "cell_type": "code",
   "execution_count": 7,
   "metadata": {},
   "outputs": [],
   "source": [
    "X_train = np.reshape(X_train, (X_train.shape[0], X_train.shape[1], 1))\n",
    "#as input format for RNN is (batchsize, timeSteps, input dimension)"
   ]
  },
  {
   "cell_type": "code",
   "execution_count": 8,
   "metadata": {},
   "outputs": [],
   "source": [
    "from keras.models import Sequential\n",
    "from keras.layers import Dense\n",
    "from keras.layers import LSTM\n",
    "from keras.layers import Dropout"
   ]
  },
  {
   "cell_type": "code",
   "execution_count": 9,
   "metadata": {},
   "outputs": [],
   "source": [
    "regressor = Sequential()\n",
    "\n",
    "# Adding the first LSTM layer and some Dropout regularisation\n",
    "regressor.add(LSTM(units = 60, return_sequences = True, input_shape = (X_train.shape[1], 1)))\n",
    "regressor.add(Dropout(0.2))\n",
    "\n",
    "regressor.add(LSTM(units = 60, return_sequences = True))\n",
    "regressor.add(Dropout(0.2))\n",
    "\n",
    "regressor.add(LSTM(units = 60, return_sequences = True))\n",
    "regressor.add(Dropout(0.2))\n",
    "\n",
    "\n",
    "regressor.add(LSTM(units = 60, return_sequences = True))\n",
    "regressor.add(Dropout(0.2))\n",
    "\n",
    "\n",
    "regressor.add(LSTM(units = 60, return_sequences = True))\n",
    "regressor.add(Dropout(0.2))\n",
    "\n",
    "#Output layer\n",
    "regressor.add(Dense(units = 1))"
   ]
  },
  {
   "cell_type": "code",
   "execution_count": 10,
   "metadata": {},
   "outputs": [
    {
     "name": "stdout",
     "output_type": "stream",
     "text": [
      "Model: \"sequential\"\n",
      "_________________________________________________________________\n",
      "Layer (type)                 Output Shape              Param #   \n",
      "=================================================================\n",
      "lstm (LSTM)                  (None, 60, 60)            14880     \n",
      "_________________________________________________________________\n",
      "dropout (Dropout)            (None, 60, 60)            0         \n",
      "_________________________________________________________________\n",
      "lstm_1 (LSTM)                (None, 60, 60)            29040     \n",
      "_________________________________________________________________\n",
      "dropout_1 (Dropout)          (None, 60, 60)            0         \n",
      "_________________________________________________________________\n",
      "lstm_2 (LSTM)                (None, 60, 60)            29040     \n",
      "_________________________________________________________________\n",
      "dropout_2 (Dropout)          (None, 60, 60)            0         \n",
      "_________________________________________________________________\n",
      "lstm_3 (LSTM)                (None, 60, 60)            29040     \n",
      "_________________________________________________________________\n",
      "dropout_3 (Dropout)          (None, 60, 60)            0         \n",
      "_________________________________________________________________\n",
      "lstm_4 (LSTM)                (None, 60, 60)            29040     \n",
      "_________________________________________________________________\n",
      "dropout_4 (Dropout)          (None, 60, 60)            0         \n",
      "_________________________________________________________________\n",
      "dense (Dense)                (None, 60, 1)             61        \n",
      "=================================================================\n",
      "Total params: 131,101\n",
      "Trainable params: 131,101\n",
      "Non-trainable params: 0\n",
      "_________________________________________________________________\n"
     ]
    }
   ],
   "source": [
    "regressor.summary()"
   ]
  },
  {
   "cell_type": "code",
   "execution_count": 11,
   "metadata": {},
   "outputs": [],
   "source": [
    "# Compiling the RNN\n",
    "regressor.compile(optimizer = 'adam', loss = 'mean_squared_error')"
   ]
  },
  {
   "cell_type": "code",
   "execution_count": 12,
   "metadata": {},
   "outputs": [
    {
     "name": "stdout",
     "output_type": "stream",
     "text": [
      "Epoch 1/150\n",
      "164/164 [==============================] - 22s 83ms/step - loss: 0.0574\n",
      "Epoch 2/150\n",
      "164/164 [==============================] - 16s 97ms/step - loss: 0.0132\n",
      "Epoch 3/150\n",
      "164/164 [==============================] - 16s 98ms/step - loss: 0.0098\n",
      "Epoch 4/150\n",
      "164/164 [==============================] - 21s 128ms/step - loss: 0.0085\n",
      "Epoch 5/150\n",
      "164/164 [==============================] - 19s 117ms/step - loss: 0.0073\n",
      "Epoch 6/150\n",
      "164/164 [==============================] - 20s 120ms/step - loss: 0.0069\n",
      "Epoch 7/150\n",
      "164/164 [==============================] - 20s 121ms/step - loss: 0.0067\n",
      "Epoch 8/150\n",
      "164/164 [==============================] - 21s 125ms/step - loss: 0.0062\n",
      "Epoch 9/150\n",
      "164/164 [==============================] - 22s 136ms/step - loss: 0.0059\n",
      "Epoch 10/150\n",
      "164/164 [==============================] - 21s 125ms/step - loss: 0.0059\n",
      "Epoch 11/150\n",
      "164/164 [==============================] - 21s 127ms/step - loss: 0.0060\n",
      "Epoch 12/150\n",
      "164/164 [==============================] - 21s 129ms/step - loss: 0.0056\n",
      "Epoch 13/150\n",
      "164/164 [==============================] - 21s 130ms/step - loss: 0.0057\n",
      "Epoch 14/150\n",
      "164/164 [==============================] - 22s 131ms/step - loss: 0.0058\n",
      "Epoch 15/150\n",
      "164/164 [==============================] - 21s 131ms/step - loss: 0.0056\n",
      "Epoch 16/150\n",
      "164/164 [==============================] - 23s 139ms/step - loss: 0.0056\n",
      "Epoch 17/150\n",
      "164/164 [==============================] - 22s 135ms/step - loss: 0.0054\n",
      "Epoch 18/150\n",
      "164/164 [==============================] - 22s 133ms/step - loss: 0.0054\n",
      "Epoch 19/150\n",
      "164/164 [==============================] - 22s 136ms/step - loss: 0.0054\n",
      "Epoch 20/150\n",
      "164/164 [==============================] - 22s 137ms/step - loss: 0.0053\n",
      "Epoch 21/150\n",
      "164/164 [==============================] - 23s 140ms/step - loss: 0.0052\n",
      "Epoch 22/150\n",
      "164/164 [==============================] - 22s 135ms/step - loss: 0.0053\n",
      "Epoch 23/150\n",
      "164/164 [==============================] - 23s 139ms/step - loss: 0.0052\n",
      "Epoch 24/150\n",
      "164/164 [==============================] - 22s 135ms/step - loss: 0.0052\n",
      "Epoch 25/150\n",
      "164/164 [==============================] - 23s 139ms/step - loss: 0.0054\n",
      "Epoch 26/150\n",
      "164/164 [==============================] - 22s 135ms/step - loss: 0.0054\n",
      "Epoch 27/150\n",
      "164/164 [==============================] - 22s 135ms/step - loss: 0.0052\n",
      "Epoch 28/150\n",
      "164/164 [==============================] - 22s 136ms/step - loss: 0.0053\n",
      "Epoch 29/150\n",
      "164/164 [==============================] - 22s 134ms/step - loss: 0.0051\n",
      "Epoch 30/150\n",
      "164/164 [==============================] - 22s 135ms/step - loss: 0.0051\n",
      "Epoch 31/150\n",
      "164/164 [==============================] - 22s 135ms/step - loss: 0.0051\n",
      "Epoch 32/150\n",
      "164/164 [==============================] - 22s 137ms/step - loss: 0.0053\n",
      "Epoch 33/150\n",
      "164/164 [==============================] - 22s 136ms/step - loss: 0.0051\n",
      "Epoch 34/150\n",
      "164/164 [==============================] - 22s 135ms/step - loss: 0.0052\n",
      "Epoch 35/150\n",
      "164/164 [==============================] - 22s 134ms/step - loss: 0.0049\n",
      "Epoch 36/150\n",
      "164/164 [==============================] - 22s 136ms/step - loss: 0.0050\n",
      "Epoch 37/150\n",
      "164/164 [==============================] - 22s 136ms/step - loss: 0.0052\n",
      "Epoch 38/150\n",
      "164/164 [==============================] - 22s 136ms/step - loss: 0.0052\n",
      "Epoch 39/150\n",
      "164/164 [==============================] - 22s 136ms/step - loss: 0.0050\n",
      "Epoch 40/150\n",
      "164/164 [==============================] - 22s 137ms/step - loss: 0.0050\n",
      "Epoch 41/150\n",
      "164/164 [==============================] - 23s 141ms/step - loss: 0.0049\n",
      "Epoch 42/150\n",
      "164/164 [==============================] - 22s 135ms/step - loss: 0.0050\n",
      "Epoch 43/150\n",
      "164/164 [==============================] - 24s 145ms/step - loss: 0.0052\n",
      "Epoch 44/150\n",
      "164/164 [==============================] - 22s 136ms/step - loss: 0.0051\n",
      "Epoch 45/150\n",
      "164/164 [==============================] - 23s 142ms/step - loss: 0.0049\n",
      "Epoch 46/150\n",
      "164/164 [==============================] - 23s 138ms/step - loss: 0.0051\n",
      "Epoch 47/150\n",
      "164/164 [==============================] - 23s 140ms/step - loss: 0.0050\n",
      "Epoch 48/150\n",
      "164/164 [==============================] - 22s 137ms/step - loss: 0.0049\n",
      "Epoch 49/150\n",
      "164/164 [==============================] - 23s 139ms/step - loss: 0.0050\n",
      "Epoch 50/150\n",
      "164/164 [==============================] - 23s 138ms/step - loss: 0.0051\n",
      "Epoch 51/150\n",
      "164/164 [==============================] - 22s 137ms/step - loss: 0.0049\n",
      "Epoch 52/150\n",
      "164/164 [==============================] - 23s 138ms/step - loss: 0.0049\n",
      "Epoch 53/150\n",
      "164/164 [==============================] - 22s 135ms/step - loss: 0.0050\n",
      "Epoch 54/150\n",
      "164/164 [==============================] - 22s 132ms/step - loss: 0.0050\n",
      "Epoch 55/150\n",
      "164/164 [==============================] - 22s 134ms/step - loss: 0.0050\n",
      "Epoch 56/150\n",
      "164/164 [==============================] - 22s 136ms/step - loss: 0.0050\n",
      "Epoch 57/150\n",
      "164/164 [==============================] - 23s 139ms/step - loss: 0.0050\n",
      "Epoch 58/150\n",
      "164/164 [==============================] - 22s 137ms/step - loss: 0.0048\n",
      "Epoch 59/150\n",
      "164/164 [==============================] - 22s 137ms/step - loss: 0.0049\n",
      "Epoch 60/150\n",
      "164/164 [==============================] - 22s 133ms/step - loss: 0.0048\n",
      "Epoch 61/150\n",
      "164/164 [==============================] - 23s 140ms/step - loss: 0.0050\n",
      "Epoch 62/150\n",
      "164/164 [==============================] - 22s 135ms/step - loss: 0.0048\n",
      "Epoch 63/150\n",
      "164/164 [==============================] - 23s 139ms/step - loss: 0.0049\n",
      "Epoch 64/150\n",
      "164/164 [==============================] - 22s 137ms/step - loss: 0.0050\n",
      "Epoch 65/150\n",
      "164/164 [==============================] - 22s 136ms/step - loss: 0.0048\n",
      "Epoch 66/150\n",
      "164/164 [==============================] - 22s 135ms/step - loss: 0.0049\n",
      "Epoch 67/150\n",
      "164/164 [==============================] - 22s 133ms/step - loss: 0.0048\n",
      "Epoch 68/150\n",
      "164/164 [==============================] - 22s 136ms/step - loss: 0.0048\n",
      "Epoch 69/150\n",
      "164/164 [==============================] - 23s 137ms/step - loss: 0.0049\n",
      "Epoch 70/150\n",
      "164/164 [==============================] - 22s 137ms/step - loss: 0.0046\n",
      "Epoch 71/150\n",
      "164/164 [==============================] - 23s 138ms/step - loss: 0.0049\n",
      "Epoch 72/150\n",
      "164/164 [==============================] - 22s 136ms/step - loss: 0.0049\n",
      "Epoch 73/150\n",
      "164/164 [==============================] - 23s 139ms/step - loss: 0.0047\n",
      "Epoch 74/150\n",
      "164/164 [==============================] - 22s 136ms/step - loss: 0.0047\n",
      "Epoch 75/150\n",
      "164/164 [==============================] - 22s 135ms/step - loss: 0.0047\n",
      "Epoch 76/150\n",
      "164/164 [==============================] - 22s 134ms/step - loss: 0.0048\n",
      "Epoch 77/150\n",
      "164/164 [==============================] - 22s 133ms/step - loss: 0.0050\n",
      "Epoch 78/150\n",
      "164/164 [==============================] - 22s 135ms/step - loss: 0.0048\n",
      "Epoch 79/150\n",
      "164/164 [==============================] - 22s 136ms/step - loss: 0.0046\n",
      "Epoch 80/150\n",
      "164/164 [==============================] - 22s 134ms/step - loss: 0.0048\n",
      "Epoch 81/150\n",
      "164/164 [==============================] - 23s 139ms/step - loss: 0.0047\n",
      "Epoch 82/150\n",
      "164/164 [==============================] - 22s 133ms/step - loss: 0.0046\n",
      "Epoch 83/150\n",
      "164/164 [==============================] - 22s 135ms/step - loss: 0.0048\n",
      "Epoch 84/150\n",
      "164/164 [==============================] - 23s 139ms/step - loss: 0.0049\n",
      "Epoch 85/150\n",
      "164/164 [==============================] - 22s 136ms/step - loss: 0.0047\n",
      "Epoch 86/150\n",
      "164/164 [==============================] - 22s 133ms/step - loss: 0.0049\n",
      "Epoch 87/150\n",
      "164/164 [==============================] - 22s 133ms/step - loss: 0.0047\n",
      "Epoch 88/150\n",
      "164/164 [==============================] - 22s 134ms/step - loss: 0.0047\n",
      "Epoch 89/150\n",
      "164/164 [==============================] - 22s 135ms/step - loss: 0.0047\n",
      "Epoch 90/150\n",
      "164/164 [==============================] - 22s 132ms/step - loss: 0.0046\n",
      "Epoch 91/150\n",
      "164/164 [==============================] - 22s 133ms/step - loss: 0.0046\n",
      "Epoch 92/150\n",
      "164/164 [==============================] - 22s 134ms/step - loss: 0.0047\n",
      "Epoch 93/150\n",
      "164/164 [==============================] - 22s 135ms/step - loss: 0.0045\n",
      "Epoch 94/150\n",
      "164/164 [==============================] - 22s 136ms/step - loss: 0.0048\n",
      "Epoch 95/150\n",
      "164/164 [==============================] - 22s 132ms/step - loss: 0.0047\n",
      "Epoch 96/150\n"
     ]
    },
    {
     "name": "stdout",
     "output_type": "stream",
     "text": [
      "164/164 [==============================] - 22s 132ms/step - loss: 0.0049\n",
      "Epoch 97/150\n",
      "164/164 [==============================] - 22s 136ms/step - loss: 0.0044\n",
      "Epoch 98/150\n",
      "164/164 [==============================] - 22s 135ms/step - loss: 0.0046\n",
      "Epoch 99/150\n",
      "164/164 [==============================] - 22s 135ms/step - loss: 0.0045\n",
      "Epoch 100/150\n",
      "164/164 [==============================] - 22s 133ms/step - loss: 0.0045\n",
      "Epoch 101/150\n",
      "164/164 [==============================] - 22s 134ms/step - loss: 0.0043\n",
      "Epoch 102/150\n",
      "164/164 [==============================] - 22s 135ms/step - loss: 0.0044\n",
      "Epoch 103/150\n",
      "164/164 [==============================] - 22s 133ms/step - loss: 0.0045\n",
      "Epoch 104/150\n",
      "164/164 [==============================] - 22s 135ms/step - loss: 0.0044\n",
      "Epoch 105/150\n",
      "164/164 [==============================] - 22s 136ms/step - loss: 0.0045\n",
      "Epoch 106/150\n",
      "164/164 [==============================] - 22s 134ms/step - loss: 0.0044\n",
      "Epoch 107/150\n",
      "164/164 [==============================] - 22s 136ms/step - loss: 0.0043\n",
      "Epoch 108/150\n",
      "164/164 [==============================] - 22s 133ms/step - loss: 0.0043\n",
      "Epoch 109/150\n",
      "164/164 [==============================] - 22s 135ms/step - loss: 0.0044\n",
      "Epoch 110/150\n",
      "164/164 [==============================] - 23s 138ms/step - loss: 0.0043\n",
      "Epoch 111/150\n",
      "164/164 [==============================] - 23s 138ms/step - loss: 0.0044\n",
      "Epoch 112/150\n",
      "164/164 [==============================] - 22s 135ms/step - loss: 0.0043\n",
      "Epoch 113/150\n",
      "164/164 [==============================] - 22s 136ms/step - loss: 0.0042\n",
      "Epoch 114/150\n",
      "164/164 [==============================] - 22s 135ms/step - loss: 0.0041\n",
      "Epoch 115/150\n",
      "164/164 [==============================] - 22s 136ms/step - loss: 0.0043\n",
      "Epoch 116/150\n",
      "164/164 [==============================] - 22s 132ms/step - loss: 0.0042\n",
      "Epoch 117/150\n",
      "164/164 [==============================] - 22s 133ms/step - loss: 0.0042\n",
      "Epoch 118/150\n",
      "164/164 [==============================] - 22s 135ms/step - loss: 0.0041\n",
      "Epoch 119/150\n",
      "164/164 [==============================] - 22s 136ms/step - loss: 0.0040\n",
      "Epoch 120/150\n",
      "164/164 [==============================] - 23s 138ms/step - loss: 0.0043\n",
      "Epoch 121/150\n",
      "164/164 [==============================] - 22s 134ms/step - loss: 0.0042\n",
      "Epoch 122/150\n",
      "164/164 [==============================] - 22s 134ms/step - loss: 0.0041\n",
      "Epoch 123/150\n",
      "164/164 [==============================] - 22s 133ms/step - loss: 0.0042\n",
      "Epoch 124/150\n",
      "164/164 [==============================] - 22s 134ms/step - loss: 0.0041\n",
      "Epoch 125/150\n",
      "164/164 [==============================] - 22s 137ms/step - loss: 0.0040\n",
      "Epoch 126/150\n",
      "164/164 [==============================] - 22s 136ms/step - loss: 0.0040\n",
      "Epoch 127/150\n",
      "164/164 [==============================] - 23s 137ms/step - loss: 0.0043\n",
      "Epoch 128/150\n",
      "164/164 [==============================] - 23s 138ms/step - loss: 0.0042\n",
      "Epoch 129/150\n",
      "164/164 [==============================] - 22s 136ms/step - loss: 0.0040\n",
      "Epoch 130/150\n",
      "164/164 [==============================] - 23s 139ms/step - loss: 0.0041\n",
      "Epoch 131/150\n",
      "164/164 [==============================] - 22s 134ms/step - loss: 0.0040\n",
      "Epoch 132/150\n",
      "164/164 [==============================] - 22s 131ms/step - loss: 0.0040\n",
      "Epoch 133/150\n",
      "164/164 [==============================] - 22s 133ms/step - loss: 0.0041\n",
      "Epoch 134/150\n",
      "164/164 [==============================] - 23s 143ms/step - loss: 0.0038\n",
      "Epoch 135/150\n",
      "164/164 [==============================] - 22s 135ms/step - loss: 0.0040\n",
      "Epoch 136/150\n",
      "164/164 [==============================] - 22s 136ms/step - loss: 0.0039\n",
      "Epoch 137/150\n",
      "164/164 [==============================] - 22s 136ms/step - loss: 0.0040\n",
      "Epoch 138/150\n",
      "164/164 [==============================] - 22s 135ms/step - loss: 0.0038\n",
      "Epoch 139/150\n",
      "164/164 [==============================] - 22s 134ms/step - loss: 0.0040\n",
      "Epoch 140/150\n",
      "164/164 [==============================] - 21s 128ms/step - loss: 0.0038\n",
      "Epoch 141/150\n",
      "164/164 [==============================] - 21s 129ms/step - loss: 0.0038\n",
      "Epoch 142/150\n",
      "164/164 [==============================] - 21s 128ms/step - loss: 0.0037\n",
      "Epoch 143/150\n",
      "164/164 [==============================] - 21s 129ms/step - loss: 0.0037\n",
      "Epoch 144/150\n",
      "164/164 [==============================] - 21s 129ms/step - loss: 0.0038\n",
      "Epoch 145/150\n",
      "164/164 [==============================] - 21s 129ms/step - loss: 0.0037\n",
      "Epoch 146/150\n",
      "164/164 [==============================] - 21s 127ms/step - loss: 0.0038\n",
      "Epoch 147/150\n",
      "164/164 [==============================] - 21s 129ms/step - loss: 0.0038\n",
      "Epoch 148/150\n",
      "164/164 [==============================] - 22s 134ms/step - loss: 0.0037\n",
      "Epoch 149/150\n",
      "164/164 [==============================] - 26s 159ms/step - loss: 0.0037\n",
      "Epoch 150/150\n",
      "164/164 [==============================] - 25s 154ms/step - loss: 0.0037\n"
     ]
    },
    {
     "data": {
      "text/plain": [
       "<tensorflow.python.keras.callbacks.History at 0x212f26805e0>"
      ]
     },
     "execution_count": 12,
     "metadata": {},
     "output_type": "execute_result"
    }
   ],
   "source": [
    "# Fitting the RNN to the Training set\n",
    "regressor.fit(X_train, y_train, epochs = 150, batch_size = 30, verbose=1)"
   ]
  },
  {
   "cell_type": "code",
   "execution_count": 13,
   "metadata": {},
   "outputs": [],
   "source": [
    "dataset_test = pd.read_csv('GBP INR test.csv')\n",
    "real_stock_price = dataset_test.iloc[:, 1:2].values"
   ]
  },
  {
   "cell_type": "code",
   "execution_count": 14,
   "metadata": {},
   "outputs": [],
   "source": [
    "ds_train = pd.read_csv(\"GBP_INR train.csv\")"
   ]
  },
  {
   "cell_type": "code",
   "execution_count": 20,
   "metadata": {},
   "outputs": [
    {
     "ename": "ValueError",
     "evalue": "Found array with dim 3. Estimator expected <= 2.",
     "output_type": "error",
     "traceback": [
      "\u001b[1;31m---------------------------------------------------------------------------\u001b[0m",
      "\u001b[1;31mValueError\u001b[0m                                Traceback (most recent call last)",
      "\u001b[1;32m<ipython-input-20-2925d0511042>\u001b[0m in \u001b[0;36m<module>\u001b[1;34m\u001b[0m\n\u001b[0;32m      9\u001b[0m \u001b[0mX_test\u001b[0m \u001b[1;33m=\u001b[0m \u001b[0mnp\u001b[0m\u001b[1;33m.\u001b[0m\u001b[0mreshape\u001b[0m\u001b[1;33m(\u001b[0m\u001b[0mX_test\u001b[0m\u001b[1;33m,\u001b[0m \u001b[1;33m(\u001b[0m\u001b[0mX_test\u001b[0m\u001b[1;33m.\u001b[0m\u001b[0mshape\u001b[0m\u001b[1;33m[\u001b[0m\u001b[1;36m0\u001b[0m\u001b[1;33m]\u001b[0m\u001b[1;33m,\u001b[0m \u001b[0mX_test\u001b[0m\u001b[1;33m.\u001b[0m\u001b[0mshape\u001b[0m\u001b[1;33m[\u001b[0m\u001b[1;36m1\u001b[0m\u001b[1;33m]\u001b[0m\u001b[1;33m,\u001b[0m \u001b[1;36m1\u001b[0m\u001b[1;33m)\u001b[0m\u001b[1;33m)\u001b[0m\u001b[1;33m\u001b[0m\u001b[1;33m\u001b[0m\u001b[0m\n\u001b[0;32m     10\u001b[0m \u001b[0mpredicted_stock_price\u001b[0m \u001b[1;33m=\u001b[0m \u001b[0mregressor\u001b[0m\u001b[1;33m.\u001b[0m\u001b[0mpredict\u001b[0m\u001b[1;33m(\u001b[0m\u001b[0mX_test\u001b[0m\u001b[1;33m)\u001b[0m\u001b[1;33m\u001b[0m\u001b[1;33m\u001b[0m\u001b[0m\n\u001b[1;32m---> 11\u001b[1;33m \u001b[0mpredicted_stock_price\u001b[0m \u001b[1;33m=\u001b[0m \u001b[0msc\u001b[0m\u001b[1;33m.\u001b[0m\u001b[0minverse_transform\u001b[0m\u001b[1;33m(\u001b[0m\u001b[0mpredicted_stock_price\u001b[0m\u001b[1;33m)\u001b[0m\u001b[1;33m\u001b[0m\u001b[1;33m\u001b[0m\u001b[0m\n\u001b[0m",
      "\u001b[1;32mD:\\Anaconda\\lib\\site-packages\\sklearn\\preprocessing\\_data.py\u001b[0m in \u001b[0;36minverse_transform\u001b[1;34m(self, X)\u001b[0m\n\u001b[0;32m    427\u001b[0m         \u001b[0mcheck_is_fitted\u001b[0m\u001b[1;33m(\u001b[0m\u001b[0mself\u001b[0m\u001b[1;33m)\u001b[0m\u001b[1;33m\u001b[0m\u001b[1;33m\u001b[0m\u001b[0m\n\u001b[0;32m    428\u001b[0m \u001b[1;33m\u001b[0m\u001b[0m\n\u001b[1;32m--> 429\u001b[1;33m         X = check_array(X, copy=self.copy, dtype=FLOAT_DTYPES,\n\u001b[0m\u001b[0;32m    430\u001b[0m                         force_all_finite=\"allow-nan\")\n\u001b[0;32m    431\u001b[0m \u001b[1;33m\u001b[0m\u001b[0m\n",
      "\u001b[1;32mD:\\Anaconda\\lib\\site-packages\\sklearn\\utils\\validation.py\u001b[0m in \u001b[0;36minner_f\u001b[1;34m(*args, **kwargs)\u001b[0m\n\u001b[0;32m     70\u001b[0m                           FutureWarning)\n\u001b[0;32m     71\u001b[0m         \u001b[0mkwargs\u001b[0m\u001b[1;33m.\u001b[0m\u001b[0mupdate\u001b[0m\u001b[1;33m(\u001b[0m\u001b[1;33m{\u001b[0m\u001b[0mk\u001b[0m\u001b[1;33m:\u001b[0m \u001b[0marg\u001b[0m \u001b[1;32mfor\u001b[0m \u001b[0mk\u001b[0m\u001b[1;33m,\u001b[0m \u001b[0marg\u001b[0m \u001b[1;32min\u001b[0m \u001b[0mzip\u001b[0m\u001b[1;33m(\u001b[0m\u001b[0msig\u001b[0m\u001b[1;33m.\u001b[0m\u001b[0mparameters\u001b[0m\u001b[1;33m,\u001b[0m \u001b[0margs\u001b[0m\u001b[1;33m)\u001b[0m\u001b[1;33m}\u001b[0m\u001b[1;33m)\u001b[0m\u001b[1;33m\u001b[0m\u001b[1;33m\u001b[0m\u001b[0m\n\u001b[1;32m---> 72\u001b[1;33m         \u001b[1;32mreturn\u001b[0m \u001b[0mf\u001b[0m\u001b[1;33m(\u001b[0m\u001b[1;33m**\u001b[0m\u001b[0mkwargs\u001b[0m\u001b[1;33m)\u001b[0m\u001b[1;33m\u001b[0m\u001b[1;33m\u001b[0m\u001b[0m\n\u001b[0m\u001b[0;32m     73\u001b[0m     \u001b[1;32mreturn\u001b[0m \u001b[0minner_f\u001b[0m\u001b[1;33m\u001b[0m\u001b[1;33m\u001b[0m\u001b[0m\n\u001b[0;32m     74\u001b[0m \u001b[1;33m\u001b[0m\u001b[0m\n",
      "\u001b[1;32mD:\\Anaconda\\lib\\site-packages\\sklearn\\utils\\validation.py\u001b[0m in \u001b[0;36mcheck_array\u001b[1;34m(array, accept_sparse, accept_large_sparse, dtype, order, copy, force_all_finite, ensure_2d, allow_nd, ensure_min_samples, ensure_min_features, estimator)\u001b[0m\n\u001b[0;32m    638\u001b[0m             \u001b[0marray\u001b[0m \u001b[1;33m=\u001b[0m \u001b[0marray\u001b[0m\u001b[1;33m.\u001b[0m\u001b[0mastype\u001b[0m\u001b[1;33m(\u001b[0m\u001b[0mnp\u001b[0m\u001b[1;33m.\u001b[0m\u001b[0mfloat64\u001b[0m\u001b[1;33m)\u001b[0m\u001b[1;33m\u001b[0m\u001b[1;33m\u001b[0m\u001b[0m\n\u001b[0;32m    639\u001b[0m         \u001b[1;32mif\u001b[0m \u001b[1;32mnot\u001b[0m \u001b[0mallow_nd\u001b[0m \u001b[1;32mand\u001b[0m \u001b[0marray\u001b[0m\u001b[1;33m.\u001b[0m\u001b[0mndim\u001b[0m \u001b[1;33m>=\u001b[0m \u001b[1;36m3\u001b[0m\u001b[1;33m:\u001b[0m\u001b[1;33m\u001b[0m\u001b[1;33m\u001b[0m\u001b[0m\n\u001b[1;32m--> 640\u001b[1;33m             raise ValueError(\"Found array with dim %d. %s expected <= 2.\"\n\u001b[0m\u001b[0;32m    641\u001b[0m                              % (array.ndim, estimator_name))\n\u001b[0;32m    642\u001b[0m \u001b[1;33m\u001b[0m\u001b[0m\n",
      "\u001b[1;31mValueError\u001b[0m: Found array with dim 3. Estimator expected <= 2."
     ]
    }
   ],
   "source": [
    "dataset_total = pd.concat((ds_train['Price'], dataset_test['Price']), axis = 0)\n",
    "inputs = dataset_total[len(dataset_total) - len(dataset_test) - 60:].values\n",
    "inputs = inputs.reshape(-1,1)\n",
    "inputs = sc.transform(inputs)\n",
    "X_test = []\n",
    "for i in range(60, 80):\n",
    "    X_test.append(inputs[i-60:i, 0])\n",
    "X_test = np.array(X_test)\n",
    "X_test = np.reshape(X_test, (X_test.shape[0], X_test.shape[1], 1))\n",
    "predicted_stock_price = regressor.predict(X_test)\n",
    "predicted_stock_price = sc.inverse_transform(predicted_stock_price)\n"
   ]
  },
  {
   "cell_type": "code",
   "execution_count": 18,
   "metadata": {},
   "outputs": [
    {
     "data": {
      "text/plain": [
       "array([[[0.8086604 ],\n",
       "        [0.82725155],\n",
       "        [0.82591975],\n",
       "        ...,\n",
       "        [0.88890946],\n",
       "        [0.8922514 ],\n",
       "        [0.89397204]],\n",
       "\n",
       "       [[0.8112734 ],\n",
       "        [0.823781  ],\n",
       "        [0.8328934 ],\n",
       "        ...,\n",
       "        [0.8913082 ],\n",
       "        [0.8929064 ],\n",
       "        [0.89743745]],\n",
       "\n",
       "       [[0.8097033 ],\n",
       "        [0.83364165],\n",
       "        [0.8313945 ],\n",
       "        ...,\n",
       "        [0.89281285],\n",
       "        [0.897408  ],\n",
       "        [0.90056   ]],\n",
       "\n",
       "       ...,\n",
       "\n",
       "       [[0.8177296 ],\n",
       "        [0.83668417],\n",
       "        [0.8395393 ],\n",
       "        ...,\n",
       "        [0.8907194 ],\n",
       "        [0.89225334],\n",
       "        [0.8886366 ]],\n",
       "\n",
       "       [[0.816233  ],\n",
       "        [0.83702224],\n",
       "        [0.8423072 ],\n",
       "        ...,\n",
       "        [0.89140224],\n",
       "        [0.88788605],\n",
       "        [0.88911176]],\n",
       "\n",
       "       [[0.81643546],\n",
       "        [0.8423874 ],\n",
       "        [0.8455726 ],\n",
       "        ...,\n",
       "        [0.88696903],\n",
       "        [0.888036  ],\n",
       "        [0.8834853 ]]], dtype=float32)"
      ]
     },
     "execution_count": 18,
     "metadata": {},
     "output_type": "execute_result"
    }
   ],
   "source": [
    "predicted_stock_price"
   ]
  },
  {
   "cell_type": "code",
   "execution_count": 19,
   "metadata": {},
   "outputs": [
    {
     "ename": "ValueError",
     "evalue": "Found array with dim 3. Estimator expected <= 2.",
     "output_type": "error",
     "traceback": [
      "\u001b[1;31m---------------------------------------------------------------------------\u001b[0m",
      "\u001b[1;31mValueError\u001b[0m                                Traceback (most recent call last)",
      "\u001b[1;32m<ipython-input-19-8676d6fffff8>\u001b[0m in \u001b[0;36m<module>\u001b[1;34m\u001b[0m\n\u001b[1;32m----> 1\u001b[1;33m \u001b[0msc\u001b[0m\u001b[1;33m.\u001b[0m\u001b[0minverse_transform\u001b[0m\u001b[1;33m(\u001b[0m\u001b[0mpredicted_stock_price\u001b[0m\u001b[1;33m)\u001b[0m\u001b[1;33m\u001b[0m\u001b[1;33m\u001b[0m\u001b[0m\n\u001b[0m",
      "\u001b[1;32mD:\\Anaconda\\lib\\site-packages\\sklearn\\preprocessing\\_data.py\u001b[0m in \u001b[0;36minverse_transform\u001b[1;34m(self, X)\u001b[0m\n\u001b[0;32m    427\u001b[0m         \u001b[0mcheck_is_fitted\u001b[0m\u001b[1;33m(\u001b[0m\u001b[0mself\u001b[0m\u001b[1;33m)\u001b[0m\u001b[1;33m\u001b[0m\u001b[1;33m\u001b[0m\u001b[0m\n\u001b[0;32m    428\u001b[0m \u001b[1;33m\u001b[0m\u001b[0m\n\u001b[1;32m--> 429\u001b[1;33m         X = check_array(X, copy=self.copy, dtype=FLOAT_DTYPES,\n\u001b[0m\u001b[0;32m    430\u001b[0m                         force_all_finite=\"allow-nan\")\n\u001b[0;32m    431\u001b[0m \u001b[1;33m\u001b[0m\u001b[0m\n",
      "\u001b[1;32mD:\\Anaconda\\lib\\site-packages\\sklearn\\utils\\validation.py\u001b[0m in \u001b[0;36minner_f\u001b[1;34m(*args, **kwargs)\u001b[0m\n\u001b[0;32m     70\u001b[0m                           FutureWarning)\n\u001b[0;32m     71\u001b[0m         \u001b[0mkwargs\u001b[0m\u001b[1;33m.\u001b[0m\u001b[0mupdate\u001b[0m\u001b[1;33m(\u001b[0m\u001b[1;33m{\u001b[0m\u001b[0mk\u001b[0m\u001b[1;33m:\u001b[0m \u001b[0marg\u001b[0m \u001b[1;32mfor\u001b[0m \u001b[0mk\u001b[0m\u001b[1;33m,\u001b[0m \u001b[0marg\u001b[0m \u001b[1;32min\u001b[0m \u001b[0mzip\u001b[0m\u001b[1;33m(\u001b[0m\u001b[0msig\u001b[0m\u001b[1;33m.\u001b[0m\u001b[0mparameters\u001b[0m\u001b[1;33m,\u001b[0m \u001b[0margs\u001b[0m\u001b[1;33m)\u001b[0m\u001b[1;33m}\u001b[0m\u001b[1;33m)\u001b[0m\u001b[1;33m\u001b[0m\u001b[1;33m\u001b[0m\u001b[0m\n\u001b[1;32m---> 72\u001b[1;33m         \u001b[1;32mreturn\u001b[0m \u001b[0mf\u001b[0m\u001b[1;33m(\u001b[0m\u001b[1;33m**\u001b[0m\u001b[0mkwargs\u001b[0m\u001b[1;33m)\u001b[0m\u001b[1;33m\u001b[0m\u001b[1;33m\u001b[0m\u001b[0m\n\u001b[0m\u001b[0;32m     73\u001b[0m     \u001b[1;32mreturn\u001b[0m \u001b[0minner_f\u001b[0m\u001b[1;33m\u001b[0m\u001b[1;33m\u001b[0m\u001b[0m\n\u001b[0;32m     74\u001b[0m \u001b[1;33m\u001b[0m\u001b[0m\n",
      "\u001b[1;32mD:\\Anaconda\\lib\\site-packages\\sklearn\\utils\\validation.py\u001b[0m in \u001b[0;36mcheck_array\u001b[1;34m(array, accept_sparse, accept_large_sparse, dtype, order, copy, force_all_finite, ensure_2d, allow_nd, ensure_min_samples, ensure_min_features, estimator)\u001b[0m\n\u001b[0;32m    638\u001b[0m             \u001b[0marray\u001b[0m \u001b[1;33m=\u001b[0m \u001b[0marray\u001b[0m\u001b[1;33m.\u001b[0m\u001b[0mastype\u001b[0m\u001b[1;33m(\u001b[0m\u001b[0mnp\u001b[0m\u001b[1;33m.\u001b[0m\u001b[0mfloat64\u001b[0m\u001b[1;33m)\u001b[0m\u001b[1;33m\u001b[0m\u001b[1;33m\u001b[0m\u001b[0m\n\u001b[0;32m    639\u001b[0m         \u001b[1;32mif\u001b[0m \u001b[1;32mnot\u001b[0m \u001b[0mallow_nd\u001b[0m \u001b[1;32mand\u001b[0m \u001b[0marray\u001b[0m\u001b[1;33m.\u001b[0m\u001b[0mndim\u001b[0m \u001b[1;33m>=\u001b[0m \u001b[1;36m3\u001b[0m\u001b[1;33m:\u001b[0m\u001b[1;33m\u001b[0m\u001b[1;33m\u001b[0m\u001b[0m\n\u001b[1;32m--> 640\u001b[1;33m             raise ValueError(\"Found array with dim %d. %s expected <= 2.\"\n\u001b[0m\u001b[0;32m    641\u001b[0m                              % (array.ndim, estimator_name))\n\u001b[0;32m    642\u001b[0m \u001b[1;33m\u001b[0m\u001b[0m\n",
      "\u001b[1;31mValueError\u001b[0m: Found array with dim 3. Estimator expected <= 2."
     ]
    }
   ],
   "source": [
    "sc.inverse_transform(predicted_stock_price)"
   ]
  },
  {
   "cell_type": "code",
   "execution_count": 16,
   "metadata": {},
   "outputs": [
    {
     "data": {
      "text/plain": [
       "array([[102.48564 ],\n",
       "       [102.8134  ],\n",
       "       [103.07985 ],\n",
       "       [103.1015  ],\n",
       "       [102.955376],\n",
       "       [102.99273 ],\n",
       "       [103.70819 ],\n",
       "       [103.82532 ],\n",
       "       [103.81153 ],\n",
       "       [103.44731 ],\n",
       "       [103.48453 ],\n",
       "       [103.420746],\n",
       "       [103.28808 ],\n",
       "       [103.27657 ],\n",
       "       [103.10355 ],\n",
       "       [102.70437 ],\n",
       "       [102.77542 ],\n",
       "       [102.65299 ],\n",
       "       [102.693954],\n",
       "       [102.52104 ]], dtype=float32)"
      ]
     },
     "execution_count": 16,
     "metadata": {},
     "output_type": "execute_result"
    }
   ],
   "source": [
    "predicted_stock_price"
   ]
  },
  {
   "cell_type": "code",
   "execution_count": 17,
   "metadata": {},
   "outputs": [
    {
     "data": {
      "image/png": "[encoded data removed]",
      "text/plain": [
       "<Figure size 432x288 with 1 Axes>"
      ]
     },
     "metadata": {
      "needs_background": "light"
     },
     "output_type": "display_data"
    }
   ],
   "source": [
    "plt.plot(real_stock_price, color = 'red', label = 'Real GBP INR Price')\n",
    "plt.plot(predicted_stock_price, color = 'blue', label = 'Predicted GBP INR Price')\n",
    "plt.title('GBP INR Price Prediction')\n",
    "plt.xlabel('Time')\n",
    "plt.ylabel('GBP INR Price')\n",
    "plt.legend()\n",
    "plt.show()"
   ]
  },
  {
   "cell_type": "code",
   "execution_count": 19,
   "metadata": {},
   "outputs": [],
   "source": [
    "from keras.models import load_model\n",
    "\n",
    "regressor.save('gbp_model_1.h5')"
   ]
  },
  {
   "cell_type": "code",
   "execution_count": null,
   "metadata": {},
   "outputs": [],
   "source": []
  },
  {
   "cell_type": "code",
   "execution_count": null,
   "metadata": {},
   "outputs": [],
   "source": []
  },
  {
   "cell_type": "code",
   "execution_count": null,
   "metadata": {},
   "outputs": [],
   "source": []
  },
  {
   "cell_type": "code",
   "execution_count": null,
   "metadata": {},
   "outputs": [],
   "source": []
  }
 ],
 "metadata": {
  "kernelspec": {
   "display_name": "Python 3",
   "language": "python",
   "name": "python3"
  },
  "language_info": {
   "codemirror_mode": {
    "name": "ipython",
    "version": 3
   },
   "file_extension": ".py",
   "mimetype": "text/x-python",
   "name": "python",
   "nbconvert_exporter": "python",
   "pygments_lexer": "ipython3",
   "version": "3.8.5"
  }
 },
 "nbformat": 4,
 "nbformat_minor": 2
}
