{
 "cells": [
  {
   "cell_type": "code",
   "execution_count": 14,
   "metadata": {
    "colab": {},
    "colab_type": "code",
    "id": "X9TUc5GdQuPa"
   },
   "outputs": [],
   "source": [
    "# Artificial Neural Network for churn prediction\n",
    "\n",
    "\n",
    "# Part 1 - Data Preprocessing\n",
    "\n",
    "# Importing the libraries\n",
    "import numpy as np\n",
    "import matplotlib.pyplot as plt\n",
    "import pandas as pd\n",
    "import os\n",
    "ds=pd.read_csv(\"D:\\Imarticus\\ML-Repeat\\DL_06Dec\\Churn_Modelling.csv\")"
   ]
  },
  {
   "cell_type": "code",
   "execution_count": 3,
   "metadata": {},
   "outputs": [
    {
     "data": {
      "text/plain": [
       "Index(['RowNumber', 'CustomerId', 'Surname', 'CreditScore', 'Geography',\n",
       "       'Gender', 'Age', 'Tenure', 'Balance', 'NumOfProducts', 'HasCrCard',\n",
       "       'IsActiveMember', 'EstimatedSalary', 'Exited'],\n",
       "      dtype='object')"
      ]
     },
     "execution_count": 3,
     "metadata": {},
     "output_type": "execute_result"
    }
   ],
   "source": [
    "ds.columns"
   ]
  },
  {
   "cell_type": "code",
   "execution_count": 10,
   "metadata": {
    "colab": {},
    "colab_type": "code",
    "id": "T_9ltkXLQuPq"
   },
   "outputs": [],
   "source": [
    "# Importing the dataset\n",
    "## read data and save X and Y values seperately using index , 13th column is Dependent Variable\n",
    "\n",
    "X=ds.drop(['Exited'],axis=1)\n",
    "y=ds['Exited']"
   ]
  },
  {
   "cell_type": "code",
   "execution_count": 11,
   "metadata": {
    "colab": {
     "base_uri": "https://localhost:8080/",
     "height": 249
    },
    "colab_type": "code",
    "executionInfo": {
     "elapsed": 2999,
     "status": "error",
     "timestamp": 1581140599733,
     "user": {
      "displayName": "imarticus ml",
      "photoUrl": "",
      "userId": "13268030857581370634"
     },
     "user_tz": -330
    },
    "id": "jKObNK3EQuP1",
    "outputId": "70b03790-47af-4e8c-c747-360c606ce2af"
   },
   "outputs": [],
   "source": [
    "\n",
    "\n",
    "#Create dummy variables\n",
    "from sklearn.preprocessing import LabelEncoder \n",
    "X['Geography'] = LabelEncoder().fit_transform(X['Geography'])\n",
    "X['Gender'] = LabelEncoder().fit_transform(X['Gender'])"
   ]
  },
  {
   "cell_type": "code",
   "execution_count": 12,
   "metadata": {},
   "outputs": [
    {
     "data": {
      "text/html": [
       "<div>\n",
       "<style scoped>\n",
       "    .dataframe tbody tr th:only-of-type {\n",
       "        vertical-align: middle;\n",
       "    }\n",
       "\n",
       "    .dataframe tbody tr th {\n",
       "        vertical-align: top;\n",
       "    }\n",
       "\n",
       "    .dataframe thead th {\n",
       "        text-align: right;\n",
       "    }\n",
       "</style>\n",
       "<table border=\"1\" class=\"dataframe\">\n",
       "  <thead>\n",
       "    <tr style=\"text-align: right;\">\n",
       "      <th></th>\n",
       "      <th>RowNumber</th>\n",
       "      <th>CustomerId</th>\n",
       "      <th>Surname</th>\n",
       "      <th>CreditScore</th>\n",
       "      <th>Geography</th>\n",
       "      <th>Gender</th>\n",
       "      <th>Age</th>\n",
       "      <th>Tenure</th>\n",
       "      <th>Balance</th>\n",
       "      <th>NumOfProducts</th>\n",
       "      <th>HasCrCard</th>\n",
       "      <th>IsActiveMember</th>\n",
       "      <th>EstimatedSalary</th>\n",
       "    </tr>\n",
       "  </thead>\n",
       "  <tbody>\n",
       "    <tr>\n",
       "      <th>0</th>\n",
       "      <td>1</td>\n",
       "      <td>15634602</td>\n",
       "      <td>Hargrave</td>\n",
       "      <td>619</td>\n",
       "      <td>0</td>\n",
       "      <td>0</td>\n",
       "      <td>42</td>\n",
       "      <td>2</td>\n",
       "      <td>0.00</td>\n",
       "      <td>1</td>\n",
       "      <td>1</td>\n",
       "      <td>1</td>\n",
       "      <td>101348.88</td>\n",
       "    </tr>\n",
       "    <tr>\n",
       "      <th>1</th>\n",
       "      <td>2</td>\n",
       "      <td>15647311</td>\n",
       "      <td>Hill</td>\n",
       "      <td>608</td>\n",
       "      <td>2</td>\n",
       "      <td>0</td>\n",
       "      <td>41</td>\n",
       "      <td>1</td>\n",
       "      <td>83807.86</td>\n",
       "      <td>1</td>\n",
       "      <td>0</td>\n",
       "      <td>1</td>\n",
       "      <td>112542.58</td>\n",
       "    </tr>\n",
       "    <tr>\n",
       "      <th>2</th>\n",
       "      <td>3</td>\n",
       "      <td>15619304</td>\n",
       "      <td>Onio</td>\n",
       "      <td>502</td>\n",
       "      <td>0</td>\n",
       "      <td>0</td>\n",
       "      <td>42</td>\n",
       "      <td>8</td>\n",
       "      <td>159660.80</td>\n",
       "      <td>3</td>\n",
       "      <td>1</td>\n",
       "      <td>0</td>\n",
       "      <td>113931.57</td>\n",
       "    </tr>\n",
       "    <tr>\n",
       "      <th>3</th>\n",
       "      <td>4</td>\n",
       "      <td>15701354</td>\n",
       "      <td>Boni</td>\n",
       "      <td>699</td>\n",
       "      <td>0</td>\n",
       "      <td>0</td>\n",
       "      <td>39</td>\n",
       "      <td>1</td>\n",
       "      <td>0.00</td>\n",
       "      <td>2</td>\n",
       "      <td>0</td>\n",
       "      <td>0</td>\n",
       "      <td>93826.63</td>\n",
       "    </tr>\n",
       "    <tr>\n",
       "      <th>4</th>\n",
       "      <td>5</td>\n",
       "      <td>15737888</td>\n",
       "      <td>Mitchell</td>\n",
       "      <td>850</td>\n",
       "      <td>2</td>\n",
       "      <td>0</td>\n",
       "      <td>43</td>\n",
       "      <td>2</td>\n",
       "      <td>125510.82</td>\n",
       "      <td>1</td>\n",
       "      <td>1</td>\n",
       "      <td>1</td>\n",
       "      <td>79084.10</td>\n",
       "    </tr>\n",
       "  </tbody>\n",
       "</table>\n",
       "</div>"
      ],
      "text/plain": [
       "   RowNumber  CustomerId   Surname  CreditScore  Geography  Gender  Age  \\\n",
       "0          1    15634602  Hargrave          619          0       0   42   \n",
       "1          2    15647311      Hill          608          2       0   41   \n",
       "2          3    15619304      Onio          502          0       0   42   \n",
       "3          4    15701354      Boni          699          0       0   39   \n",
       "4          5    15737888  Mitchell          850          2       0   43   \n",
       "\n",
       "   Tenure    Balance  NumOfProducts  HasCrCard  IsActiveMember  \\\n",
       "0       2       0.00              1          1               1   \n",
       "1       1   83807.86              1          0               1   \n",
       "2       8  159660.80              3          1               0   \n",
       "3       1       0.00              2          0               0   \n",
       "4       2  125510.82              1          1               1   \n",
       "\n",
       "   EstimatedSalary  \n",
       "0        101348.88  \n",
       "1        112542.58  \n",
       "2        113931.57  \n",
       "3         93826.63  \n",
       "4         79084.10  "
      ]
     },
     "execution_count": 12,
     "metadata": {},
     "output_type": "execute_result"
    }
   ],
   "source": [
    "X.head()"
   ]
  },
  {
   "cell_type": "code",
   "execution_count": 15,
   "metadata": {},
   "outputs": [
    {
     "data": {
      "text/html": [
       "<div>\n",
       "<style scoped>\n",
       "    .dataframe tbody tr th:only-of-type {\n",
       "        vertical-align: middle;\n",
       "    }\n",
       "\n",
       "    .dataframe tbody tr th {\n",
       "        vertical-align: top;\n",
       "    }\n",
       "\n",
       "    .dataframe thead th {\n",
       "        text-align: right;\n",
       "    }\n",
       "</style>\n",
       "<table border=\"1\" class=\"dataframe\">\n",
       "  <thead>\n",
       "    <tr style=\"text-align: right;\">\n",
       "      <th></th>\n",
       "      <th>CreditScore</th>\n",
       "      <th>Geography</th>\n",
       "      <th>Gender</th>\n",
       "      <th>Age</th>\n",
       "      <th>Tenure</th>\n",
       "      <th>Balance</th>\n",
       "      <th>NumOfProducts</th>\n",
       "      <th>HasCrCard</th>\n",
       "      <th>IsActiveMember</th>\n",
       "      <th>EstimatedSalary</th>\n",
       "    </tr>\n",
       "  </thead>\n",
       "  <tbody>\n",
       "    <tr>\n",
       "      <th>0</th>\n",
       "      <td>619</td>\n",
       "      <td>0</td>\n",
       "      <td>0</td>\n",
       "      <td>42</td>\n",
       "      <td>2</td>\n",
       "      <td>0.00</td>\n",
       "      <td>1</td>\n",
       "      <td>1</td>\n",
       "      <td>1</td>\n",
       "      <td>101348.88</td>\n",
       "    </tr>\n",
       "    <tr>\n",
       "      <th>1</th>\n",
       "      <td>608</td>\n",
       "      <td>2</td>\n",
       "      <td>0</td>\n",
       "      <td>41</td>\n",
       "      <td>1</td>\n",
       "      <td>83807.86</td>\n",
       "      <td>1</td>\n",
       "      <td>0</td>\n",
       "      <td>1</td>\n",
       "      <td>112542.58</td>\n",
       "    </tr>\n",
       "    <tr>\n",
       "      <th>2</th>\n",
       "      <td>502</td>\n",
       "      <td>0</td>\n",
       "      <td>0</td>\n",
       "      <td>42</td>\n",
       "      <td>8</td>\n",
       "      <td>159660.80</td>\n",
       "      <td>3</td>\n",
       "      <td>1</td>\n",
       "      <td>0</td>\n",
       "      <td>113931.57</td>\n",
       "    </tr>\n",
       "    <tr>\n",
       "      <th>3</th>\n",
       "      <td>699</td>\n",
       "      <td>0</td>\n",
       "      <td>0</td>\n",
       "      <td>39</td>\n",
       "      <td>1</td>\n",
       "      <td>0.00</td>\n",
       "      <td>2</td>\n",
       "      <td>0</td>\n",
       "      <td>0</td>\n",
       "      <td>93826.63</td>\n",
       "    </tr>\n",
       "    <tr>\n",
       "      <th>4</th>\n",
       "      <td>850</td>\n",
       "      <td>2</td>\n",
       "      <td>0</td>\n",
       "      <td>43</td>\n",
       "      <td>2</td>\n",
       "      <td>125510.82</td>\n",
       "      <td>1</td>\n",
       "      <td>1</td>\n",
       "      <td>1</td>\n",
       "      <td>79084.10</td>\n",
       "    </tr>\n",
       "  </tbody>\n",
       "</table>\n",
       "</div>"
      ],
      "text/plain": [
       "   CreditScore  Geography  Gender  Age  Tenure    Balance  NumOfProducts  \\\n",
       "0          619          0       0   42       2       0.00              1   \n",
       "1          608          2       0   41       1   83807.86              1   \n",
       "2          502          0       0   42       8  159660.80              3   \n",
       "3          699          0       0   39       1       0.00              2   \n",
       "4          850          2       0   43       2  125510.82              1   \n",
       "\n",
       "   HasCrCard  IsActiveMember  EstimatedSalary  \n",
       "0          1               1        101348.88  \n",
       "1          0               1        112542.58  \n",
       "2          1               0        113931.57  \n",
       "3          0               0         93826.63  \n",
       "4          1               1         79084.10  "
      ]
     },
     "execution_count": 15,
     "metadata": {},
     "output_type": "execute_result"
    }
   ],
   "source": [
    "## Drop Unnecessary columns\n",
    "X=X.drop(['CustomerId','RowNumber','Surname'],axis=1)\n",
    "X.head()"
   ]
  },
  {
   "cell_type": "code",
   "execution_count": 16,
   "metadata": {},
   "outputs": [],
   "source": [
    "# Splitting the dataset into the Training set and Test set\n",
    "from sklearn.model_selection import train_test_split\n",
    "## split data into train and text with 20 % data in test and name them as X_train, X_test, y_train, y_test\n",
    "# Feature Scaling\n",
    "from sklearn.preprocessing import StandardScaler\n",
    "sc = StandardScaler()\n",
    "## scale X_train and X_test"
   ]
  },
  {
   "cell_type": "code",
   "execution_count": 17,
   "metadata": {},
   "outputs": [],
   "source": [
    "X_train, X_test, y_train, y_test = train_test_split(X, y,test_size=0.2, random_state=42)"
   ]
  },
  {
   "cell_type": "code",
   "execution_count": 18,
   "metadata": {},
   "outputs": [],
   "source": [
    "X_train=sc.fit_transform(X_train)\n",
    "X_test=sc.fit_transform(X_test)"
   ]
  },
  {
   "cell_type": "code",
   "execution_count": 19,
   "metadata": {},
   "outputs": [
    {
     "name": "stderr",
     "output_type": "stream",
     "text": [
      "Using TensorFlow backend.\n"
     ]
    }
   ],
   "source": [
    "### creating ANN\n",
    "# Importing the Keras libraries and packages\n",
    "import keras\n",
    "from keras.models import Sequential\n",
    "from keras.layers import Dense\n",
    "from keras.layers import LeakyReLU,PReLU,ELU\n",
    "from keras.layers import Dropout\n",
    "\n"
   ]
  },
  {
   "cell_type": "code",
   "execution_count": 24,
   "metadata": {},
   "outputs": [
    {
     "data": {
      "text/plain": [
       "(8000, 10)"
      ]
     },
     "execution_count": 24,
     "metadata": {},
     "output_type": "execute_result"
    }
   ],
   "source": [
    "X_train.shape\n"
   ]
  },
  {
   "cell_type": "code",
   "execution_count": 50,
   "metadata": {},
   "outputs": [],
   "source": [
    "model_history = Sequential()\n",
    "from keras.layers import Activation, Dense\n",
    "\n",
    "model_history.add(Dense(10, input_shape = (10,)))    # Input layer => input_shape should be explicitly designated\n",
    "model_history.add(Activation('sigmoid'))\n",
    "model_history.add(Dense(10))                         # Hidden layer => only output dimension should be designated\n",
    "model_history.add(Activation('sigmoid'))\n",
    "model_history.add(Dense(10))                         # Hidden layer => only output dimension should be designated\n",
    "model_history.add(Activation('sigmoid'))\n",
    "model_history.add(Dense(1))                          # Output layer => output dimension = 1 since it is regression problem\n",
    "model_history.add(Activation('sigmoid'))"
   ]
  },
  {
   "cell_type": "code",
   "execution_count": 51,
   "metadata": {},
   "outputs": [],
   "source": [
    "from keras import optimizers\n",
    "adam = optimizers.adam(lr = 0.01)    # stochastic gradient descent optimizer\n",
    "model_history.compile(optimizer = adam, loss = 'binary_crossentropy', metrics = ['accuracy'])"
   ]
  },
  {
   "cell_type": "code",
   "execution_count": 52,
   "metadata": {},
   "outputs": [
    {
     "name": "stdout",
     "output_type": "stream",
     "text": [
      "Epoch 1/100\n",
      "8000/8000 [==============================] - 0s 35us/step - loss: 0.4868 - accuracy: 0.7945\n",
      "Epoch 2/100\n",
      "8000/8000 [==============================] - 0s 19us/step - loss: 0.4373 - accuracy: 0.7976\n",
      "Epoch 3/100\n",
      "8000/8000 [==============================] - 0s 19us/step - loss: 0.4206 - accuracy: 0.8163\n",
      "Epoch 4/100\n",
      "8000/8000 [==============================] - 0s 19us/step - loss: 0.3968 - accuracy: 0.8355\n",
      "Epoch 5/100\n",
      "8000/8000 [==============================] - 0s 18us/step - loss: 0.3753 - accuracy: 0.8478\n",
      "Epoch 6/100\n",
      "8000/8000 [==============================] - 0s 19us/step - loss: 0.3664 - accuracy: 0.8503\n",
      "Epoch 7/100\n",
      "8000/8000 [==============================] - 0s 19us/step - loss: 0.3629 - accuracy: 0.8531\n",
      "Epoch 8/100\n",
      "8000/8000 [==============================] - 0s 19us/step - loss: 0.3568 - accuracy: 0.8533\n",
      "Epoch 9/100\n",
      "8000/8000 [==============================] - 0s 18us/step - loss: 0.3547 - accuracy: 0.8533\n",
      "Epoch 10/100\n",
      "8000/8000 [==============================] - 0s 18us/step - loss: 0.3518 - accuracy: 0.8566\n",
      "Epoch 11/100\n",
      "8000/8000 [==============================] - 0s 19us/step - loss: 0.3502 - accuracy: 0.8562\n",
      "Epoch 12/100\n",
      "8000/8000 [==============================] - 0s 19us/step - loss: 0.3488 - accuracy: 0.8547\n",
      "Epoch 13/100\n",
      "8000/8000 [==============================] - 0s 19us/step - loss: 0.3514 - accuracy: 0.8544\n",
      "Epoch 14/100\n",
      "8000/8000 [==============================] - 0s 19us/step - loss: 0.3489 - accuracy: 0.8539\n",
      "Epoch 15/100\n",
      "8000/8000 [==============================] - 0s 18us/step - loss: 0.3476 - accuracy: 0.8553\n",
      "Epoch 16/100\n",
      "8000/8000 [==============================] - 0s 18us/step - loss: 0.3478 - accuracy: 0.8553\n",
      "Epoch 17/100\n",
      "8000/8000 [==============================] - 0s 18us/step - loss: 0.3503 - accuracy: 0.8537\n",
      "Epoch 18/100\n",
      "8000/8000 [==============================] - 0s 19us/step - loss: 0.3486 - accuracy: 0.8565\n",
      "Epoch 19/100\n",
      "8000/8000 [==============================] - 0s 18us/step - loss: 0.3472 - accuracy: 0.8551\n",
      "Epoch 20/100\n",
      "8000/8000 [==============================] - 0s 19us/step - loss: 0.3490 - accuracy: 0.8564\n",
      "Epoch 21/100\n",
      "8000/8000 [==============================] - 0s 19us/step - loss: 0.3467 - accuracy: 0.8540\n",
      "Epoch 22/100\n",
      "8000/8000 [==============================] - 0s 18us/step - loss: 0.3483 - accuracy: 0.8536\n",
      "Epoch 23/100\n",
      "8000/8000 [==============================] - 0s 19us/step - loss: 0.3452 - accuracy: 0.8564\n",
      "Epoch 24/100\n",
      "8000/8000 [==============================] - 0s 19us/step - loss: 0.3459 - accuracy: 0.8569 0s - loss: 0.3415 - accuracy: 0.\n",
      "Epoch 25/100\n",
      "8000/8000 [==============================] - 0s 18us/step - loss: 0.3448 - accuracy: 0.8583\n",
      "Epoch 26/100\n",
      "8000/8000 [==============================] - 0s 18us/step - loss: 0.3436 - accuracy: 0.8580\n",
      "Epoch 27/100\n",
      "8000/8000 [==============================] - 0s 19us/step - loss: 0.3435 - accuracy: 0.8594\n",
      "Epoch 28/100\n",
      "8000/8000 [==============================] - 0s 19us/step - loss: 0.3441 - accuracy: 0.8565\n",
      "Epoch 29/100\n",
      "8000/8000 [==============================] - 0s 18us/step - loss: 0.3433 - accuracy: 0.8562\n",
      "Epoch 30/100\n",
      "8000/8000 [==============================] - 0s 18us/step - loss: 0.3424 - accuracy: 0.8583\n",
      "Epoch 31/100\n",
      "8000/8000 [==============================] - 0s 18us/step - loss: 0.3434 - accuracy: 0.8549\n",
      "Epoch 32/100\n",
      "8000/8000 [==============================] - 0s 19us/step - loss: 0.3425 - accuracy: 0.8594\n",
      "Epoch 33/100\n",
      "8000/8000 [==============================] - 0s 19us/step - loss: 0.3419 - accuracy: 0.8600\n",
      "Epoch 34/100\n",
      "8000/8000 [==============================] - 0s 19us/step - loss: 0.3419 - accuracy: 0.8575\n",
      "Epoch 35/100\n",
      "8000/8000 [==============================] - 0s 18us/step - loss: 0.3418 - accuracy: 0.8574\n",
      "Epoch 36/100\n",
      "8000/8000 [==============================] - 0s 18us/step - loss: 0.3407 - accuracy: 0.8612\n",
      "Epoch 37/100\n",
      "8000/8000 [==============================] - 0s 18us/step - loss: 0.3421 - accuracy: 0.8554\n",
      "Epoch 38/100\n",
      "8000/8000 [==============================] - 0s 18us/step - loss: 0.3409 - accuracy: 0.8616\n",
      "Epoch 39/100\n",
      "8000/8000 [==============================] - 0s 18us/step - loss: 0.3407 - accuracy: 0.8576\n",
      "Epoch 40/100\n",
      "8000/8000 [==============================] - 0s 19us/step - loss: 0.3408 - accuracy: 0.8587\n",
      "Epoch 41/100\n",
      "8000/8000 [==============================] - 0s 20us/step - loss: 0.3403 - accuracy: 0.8610\n",
      "Epoch 42/100\n",
      "8000/8000 [==============================] - 0s 19us/step - loss: 0.3393 - accuracy: 0.8604\n",
      "Epoch 43/100\n",
      "8000/8000 [==============================] - 0s 19us/step - loss: 0.3382 - accuracy: 0.8587\n",
      "Epoch 44/100\n",
      "8000/8000 [==============================] - 0s 18us/step - loss: 0.3399 - accuracy: 0.8610\n",
      "Epoch 45/100\n",
      "8000/8000 [==============================] - 0s 19us/step - loss: 0.3410 - accuracy: 0.8604\n",
      "Epoch 46/100\n",
      "8000/8000 [==============================] - 0s 19us/step - loss: 0.3382 - accuracy: 0.8618\n",
      "Epoch 47/100\n",
      "8000/8000 [==============================] - 0s 19us/step - loss: 0.3385 - accuracy: 0.8621\n",
      "Epoch 48/100\n",
      "8000/8000 [==============================] - 0s 19us/step - loss: 0.3376 - accuracy: 0.8608\n",
      "Epoch 49/100\n",
      "8000/8000 [==============================] - 0s 19us/step - loss: 0.3380 - accuracy: 0.8624\n",
      "Epoch 50/100\n",
      "8000/8000 [==============================] - 0s 19us/step - loss: 0.3383 - accuracy: 0.8602\n",
      "Epoch 51/100\n",
      "8000/8000 [==============================] - 0s 19us/step - loss: 0.3363 - accuracy: 0.8620\n",
      "Epoch 52/100\n",
      "8000/8000 [==============================] - 0s 18us/step - loss: 0.3374 - accuracy: 0.8604\n",
      "Epoch 53/100\n",
      "8000/8000 [==============================] - 0s 18us/step - loss: 0.3372 - accuracy: 0.8625\n",
      "Epoch 54/100\n",
      "8000/8000 [==============================] - 0s 19us/step - loss: 0.3362 - accuracy: 0.8610\n",
      "Epoch 55/100\n",
      "8000/8000 [==============================] - 0s 19us/step - loss: 0.3374 - accuracy: 0.8618\n",
      "Epoch 56/100\n",
      "8000/8000 [==============================] - 0s 19us/step - loss: 0.3351 - accuracy: 0.8625\n",
      "Epoch 57/100\n",
      "8000/8000 [==============================] - 0s 18us/step - loss: 0.3366 - accuracy: 0.8609\n",
      "Epoch 58/100\n",
      "8000/8000 [==============================] - 0s 18us/step - loss: 0.3357 - accuracy: 0.8600\n",
      "Epoch 59/100\n",
      "8000/8000 [==============================] - 0s 19us/step - loss: 0.3351 - accuracy: 0.8622\n",
      "Epoch 60/100\n",
      "8000/8000 [==============================] - 0s 19us/step - loss: 0.3360 - accuracy: 0.8614\n",
      "Epoch 61/100\n",
      "8000/8000 [==============================] - 0s 20us/step - loss: 0.3351 - accuracy: 0.8610\n",
      "Epoch 62/100\n",
      "8000/8000 [==============================] - 0s 19us/step - loss: 0.3345 - accuracy: 0.8618\n",
      "Epoch 63/100\n",
      "8000/8000 [==============================] - 0s 19us/step - loss: 0.3342 - accuracy: 0.8611\n",
      "Epoch 64/100\n",
      "8000/8000 [==============================] - 0s 19us/step - loss: 0.3349 - accuracy: 0.8619\n",
      "Epoch 65/100\n",
      "8000/8000 [==============================] - 0s 18us/step - loss: 0.3333 - accuracy: 0.8641\n",
      "Epoch 66/100\n",
      "8000/8000 [==============================] - 0s 18us/step - loss: 0.3344 - accuracy: 0.8627\n",
      "Epoch 67/100\n",
      "8000/8000 [==============================] - 0s 20us/step - loss: 0.3331 - accuracy: 0.8621\n",
      "Epoch 68/100\n",
      "8000/8000 [==============================] - 0s 21us/step - loss: 0.3328 - accuracy: 0.8626\n",
      "Epoch 69/100\n",
      "8000/8000 [==============================] - 0s 20us/step - loss: 0.3313 - accuracy: 0.8639\n",
      "Epoch 70/100\n",
      "8000/8000 [==============================] - 0s 19us/step - loss: 0.3330 - accuracy: 0.8625\n",
      "Epoch 71/100\n",
      "8000/8000 [==============================] - 0s 21us/step - loss: 0.3314 - accuracy: 0.8625\n",
      "Epoch 72/100\n",
      "8000/8000 [==============================] - 0s 19us/step - loss: 0.3327 - accuracy: 0.8621\n",
      "Epoch 73/100\n",
      "8000/8000 [==============================] - 0s 19us/step - loss: 0.3325 - accuracy: 0.8646\n",
      "Epoch 74/100\n",
      "8000/8000 [==============================] - 0s 20us/step - loss: 0.3319 - accuracy: 0.8655\n",
      "Epoch 75/100\n",
      "8000/8000 [==============================] - 0s 20us/step - loss: 0.3326 - accuracy: 0.8635\n",
      "Epoch 76/100\n",
      "8000/8000 [==============================] - 0s 19us/step - loss: 0.3328 - accuracy: 0.8646\n",
      "Epoch 77/100\n",
      "8000/8000 [==============================] - 0s 22us/step - loss: 0.3314 - accuracy: 0.8614\n",
      "Epoch 78/100\n",
      "8000/8000 [==============================] - 0s 21us/step - loss: 0.3311 - accuracy: 0.8640\n",
      "Epoch 79/100\n",
      "8000/8000 [==============================] - 0s 20us/step - loss: 0.3308 - accuracy: 0.8633\n",
      "Epoch 80/100\n",
      "8000/8000 [==============================] - 0s 19us/step - loss: 0.3315 - accuracy: 0.8639\n",
      "Epoch 81/100\n",
      "8000/8000 [==============================] - 0s 19us/step - loss: 0.3294 - accuracy: 0.8655\n",
      "Epoch 82/100\n",
      "8000/8000 [==============================] - 0s 18us/step - loss: 0.3303 - accuracy: 0.8645\n",
      "Epoch 83/100\n",
      "8000/8000 [==============================] - 0s 18us/step - loss: 0.3301 - accuracy: 0.8631\n",
      "Epoch 84/100\n",
      "8000/8000 [==============================] - 0s 18us/step - loss: 0.3300 - accuracy: 0.8640\n",
      "Epoch 85/100\n",
      "8000/8000 [==============================] - 0s 18us/step - loss: 0.3301 - accuracy: 0.8646\n",
      "Epoch 86/100\n",
      "8000/8000 [==============================] - 0s 19us/step - loss: 0.3315 - accuracy: 0.8654\n",
      "Epoch 87/100\n",
      "8000/8000 [==============================] - 0s 19us/step - loss: 0.3294 - accuracy: 0.8639\n",
      "Epoch 88/100\n",
      "8000/8000 [==============================] - 0s 19us/step - loss: 0.3299 - accuracy: 0.8625\n",
      "Epoch 89/100\n",
      "8000/8000 [==============================] - 0s 18us/step - loss: 0.3305 - accuracy: 0.8633\n",
      "Epoch 90/100\n",
      "8000/8000 [==============================] - 0s 19us/step - loss: 0.3295 - accuracy: 0.8662\n",
      "Epoch 91/100\n",
      "8000/8000 [==============================] - 0s 19us/step - loss: 0.3296 - accuracy: 0.8651\n",
      "Epoch 92/100\n",
      "8000/8000 [==============================] - 0s 18us/step - loss: 0.3289 - accuracy: 0.8641\n",
      "Epoch 93/100\n",
      "8000/8000 [==============================] - 0s 18us/step - loss: 0.3291 - accuracy: 0.8639\n",
      "Epoch 94/100\n",
      "8000/8000 [==============================] - 0s 19us/step - loss: 0.3285 - accuracy: 0.8639\n",
      "Epoch 95/100\n",
      "8000/8000 [==============================] - 0s 18us/step - loss: 0.3288 - accuracy: 0.8634\n",
      "Epoch 96/100\n",
      "8000/8000 [==============================] - 0s 19us/step - loss: 0.3288 - accuracy: 0.8636\n",
      "Epoch 97/100\n",
      "8000/8000 [==============================] - 0s 19us/step - loss: 0.3282 - accuracy: 0.8641\n",
      "Epoch 98/100\n",
      "8000/8000 [==============================] - 0s 20us/step - loss: 0.3272 - accuracy: 0.8659\n",
      "Epoch 99/100\n",
      "8000/8000 [==============================] - 0s 20us/step - loss: 0.3286 - accuracy: 0.8645\n",
      "Epoch 100/100\n",
      "8000/8000 [==============================] - 0s 20us/step - loss: 0.3283 - accuracy: 0.8626\n"
     ]
    },
    {
     "data": {
      "text/plain": [
       "<keras.callbacks.callbacks.History at 0x1e12503a6d8>"
      ]
     },
     "execution_count": 52,
     "metadata": {},
     "output_type": "execute_result"
    }
   ],
   "source": [
    "model_history.fit(X_train, y_train, batch_size = 50, epochs = 100, verbose = 1)"
   ]
  },
  {
   "cell_type": "code",
   "execution_count": 54,
   "metadata": {},
   "outputs": [
    {
     "name": "stdout",
     "output_type": "stream",
     "text": [
      "2000/2000 [==============================] - 0s 39us/step\n"
     ]
    }
   ],
   "source": [
    "results = model_history.evaluate(X_test, y_test)"
   ]
  },
  {
   "cell_type": "code",
   "execution_count": 55,
   "metadata": {},
   "outputs": [
    {
     "name": "stdout",
     "output_type": "stream",
     "text": [
      "['loss', 'accuracy']\n",
      "[0.34164643239974973, 0.859000027179718]\n"
     ]
    }
   ],
   "source": [
    "print(model_history.metrics_names)     # list of metric names the model is employing\n",
    "print(results)"
   ]
  },
  {
   "cell_type": "code",
   "execution_count": 61,
   "metadata": {},
   "outputs": [
    {
     "data": {
      "text/plain": [
       "dict_keys(['loss', 'accuracy'])"
      ]
     },
     "execution_count": 61,
     "metadata": {},
     "output_type": "execute_result"
    }
   ],
   "source": [
    "history.history.keys()"
   ]
  },
  {
   "cell_type": "code",
   "execution_count": 64,
   "metadata": {},
   "outputs": [
    {
     "data": {
      "image/png": "[encoded data removed]",
      "text/plain": [
       "<Figure size 432x288 with 1 Axes>"
      ]
     },
     "metadata": {
      "needs_background": "light"
     },
     "output_type": "display_data"
    }
   ],
   "source": [
    "plt.plot(history.history['loss'])\n",
    "plt.plot(history.history['accuracy'])\n",
    "plt.title('model accuracy')\n",
    "plt.ylabel('accuracy')\n",
    "plt.xlabel('epoch')\n",
    "plt.legend(['train', 'test'], loc='upper left')\n",
    "plt.show()"
   ]
  }
 ],
 "metadata": {
  "colab": {
   "name": "KerasANN_classtutorial-Practice.ipynb",
   "provenance": []
  },
  "kernelspec": {
   "display_name": "Python 3",
   "language": "python",
   "name": "python3"
  },
  "language_info": {
   "codemirror_mode": {
    "name": "ipython",
    "version": 3
   },
   "file_extension": ".py",
   "mimetype": "text/x-python",
   "name": "python",
   "nbconvert_exporter": "python",
   "pygments_lexer": "ipython3",
   "version": "3.8.5"
  }
 },
 "nbformat": 4,
 "nbformat_minor": 1
}
